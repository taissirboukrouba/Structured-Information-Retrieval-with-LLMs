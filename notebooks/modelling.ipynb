{
  "cells": [
    {
      "cell_type": "markdown",
      "metadata": {
        "id": "sspl6qWLczJi"
      },
      "source": [
        "# HuggingFace API Login"
      ]
    },
    {
      "cell_type": "code",
      "source": [
        "from huggingface_hub import notebook_login\n",
        "\n",
        "notebook_login()"
      ],
      "metadata": {
        "id": "MDhexvKda-9P"
      },
      "execution_count": null,
      "outputs": []
    },
    {
      "cell_type": "markdown",
      "source": [
        "# Import Libraries :"
      ],
      "metadata": {
        "id": "-kW1LpXaZNsv"
      }
    },
    {
      "cell_type": "code",
      "source": [
        "# essential libraries\n",
        "import pandas as pd\n",
        "import numpy as np\n",
        "import warnings\n",
        "import re\n",
        "import json\n",
        "import os\n",
        "\n",
        "# spacy libararies\n",
        "import spacy\n",
        "from spacy.tokens import Doc\n",
        "from spacy.tokenizer import Tokenizer\n",
        "\n",
        "\n",
        "# modelling libraries\n",
        "from transformers import DistilBertTokenizer,DistilBertForTokenClassification, BertTokenizer\n",
        "from transformers import Trainer, TrainingArguments ,EarlyStoppingCallback ,pipeline\n",
        "from sklearn.model_selection import train_test_split\n",
        "from datasets import Dataset,DatasetDict,load_metric\n",
        "\n",
        "\n",
        "# from-scratch modelling libraries\n",
        "import torch\n",
        "import torch.nn as nn\n",
        "import torch.nn.functional as F\n",
        "from torch.nn import TransformerEncoder, TransformerEncoderLayer\n",
        "\n",
        "# evaluation libraires\n",
        "import evaluate\n",
        "from seqeval.metrics import classification_report\n",
        "\n",
        "# plotting libraries\n",
        "import matplotlib.pyplot as plt\n",
        "from torchinfo import summary\n",
        "\n",
        "\n",
        "# ignoring warnings\n",
        "warnings.filterwarnings(\"ignore\")"
      ],
      "metadata": {
        "id": "lRAwQE95ZQPt"
      },
      "execution_count": 78,
      "outputs": []
    },
    {
      "cell_type": "markdown",
      "metadata": {
        "id": "yw49mMutwo-X"
      },
      "source": [
        "# Transforming dataset :"
      ]
    },
    {
      "cell_type": "code",
      "execution_count": 1,
      "metadata": {
        "colab": {
          "base_uri": "https://localhost:8080/",
          "height": 424
        },
        "id": "6SkABLj_wtbj",
        "outputId": "e361ecfd-00c6-4143-b461-9ca1e157a06f"
      },
      "outputs": [
        {
          "output_type": "execute_result",
          "data": {
            "text/plain": [
              "                                              sentence               vars  \\\n",
              "0       The loading term becomes relevant at a time τ               ['τ']   \n",
              "1            we get easily for the rupture force  f ∗               ['f']   \n",
              "2    Green’s theorem can be used to show that the v...        ['d3xG(x)']   \n",
              "3                                    at a ﬁxed point x              ['x']   \n",
              "4    it will be quite small (|K| is large) around t...              ['x']   \n",
              "..                                                 ...                ...   \n",
              "296  we are inspired by the recent advances in the ...  ['(information)']   \n",
              "297            then the correlation function  C(A, B)         ['C(A, B)']   \n",
              "298  Next is to utilize the perturbation expansion ...              ['f']   \n",
              "299                        the resonator voltage V  f               ['V']   \n",
              "300  It is worth noting that without loss of genera...             ['z2']   \n",
              "\n",
              "                                      names variable_position  \n",
              "0                                    a time           ['end']  \n",
              "1                         the rupture force           ['end']  \n",
              "2                                the volume           ['end']  \n",
              "3                                 ['point']           ['end']  \n",
              "4                                 the point           ['end']  \n",
              "..                                      ...               ...  \n",
              "296                                 quantum           ['end']  \n",
              "297                the correlation function           ['end']  \n",
              "298  the longitudinal distribution function           ['end']  \n",
              "299                   the resonator voltage           ['end']  \n",
              "300                       the spatial scale           ['end']  \n",
              "\n",
              "[301 rows x 4 columns]"
            ],
            "text/html": [
              "\n",
              "  <div id=\"df-bbf78143-baf0-4fed-9e2e-6824da71792d\" class=\"colab-df-container\">\n",
              "    <div>\n",
              "<style scoped>\n",
              "    .dataframe tbody tr th:only-of-type {\n",
              "        vertical-align: middle;\n",
              "    }\n",
              "\n",
              "    .dataframe tbody tr th {\n",
              "        vertical-align: top;\n",
              "    }\n",
              "\n",
              "    .dataframe thead th {\n",
              "        text-align: right;\n",
              "    }\n",
              "</style>\n",
              "<table border=\"1\" class=\"dataframe\">\n",
              "  <thead>\n",
              "    <tr style=\"text-align: right;\">\n",
              "      <th></th>\n",
              "      <th>sentence</th>\n",
              "      <th>vars</th>\n",
              "      <th>names</th>\n",
              "      <th>variable_position</th>\n",
              "    </tr>\n",
              "  </thead>\n",
              "  <tbody>\n",
              "    <tr>\n",
              "      <th>0</th>\n",
              "      <td>The loading term becomes relevant at a time τ</td>\n",
              "      <td>['τ']</td>\n",
              "      <td>a time</td>\n",
              "      <td>['end']</td>\n",
              "    </tr>\n",
              "    <tr>\n",
              "      <th>1</th>\n",
              "      <td>we get easily for the rupture force  f ∗</td>\n",
              "      <td>['f']</td>\n",
              "      <td>the rupture force</td>\n",
              "      <td>['end']</td>\n",
              "    </tr>\n",
              "    <tr>\n",
              "      <th>2</th>\n",
              "      <td>Green’s theorem can be used to show that the v...</td>\n",
              "      <td>['d3xG(x)']</td>\n",
              "      <td>the volume</td>\n",
              "      <td>['end']</td>\n",
              "    </tr>\n",
              "    <tr>\n",
              "      <th>3</th>\n",
              "      <td>at a ﬁxed point x</td>\n",
              "      <td>['x']</td>\n",
              "      <td>['point']</td>\n",
              "      <td>['end']</td>\n",
              "    </tr>\n",
              "    <tr>\n",
              "      <th>4</th>\n",
              "      <td>it will be quite small (|K| is large) around t...</td>\n",
              "      <td>['x']</td>\n",
              "      <td>the point</td>\n",
              "      <td>['end']</td>\n",
              "    </tr>\n",
              "    <tr>\n",
              "      <th>...</th>\n",
              "      <td>...</td>\n",
              "      <td>...</td>\n",
              "      <td>...</td>\n",
              "      <td>...</td>\n",
              "    </tr>\n",
              "    <tr>\n",
              "      <th>296</th>\n",
              "      <td>we are inspired by the recent advances in the ...</td>\n",
              "      <td>['(information)']</td>\n",
              "      <td>quantum</td>\n",
              "      <td>['end']</td>\n",
              "    </tr>\n",
              "    <tr>\n",
              "      <th>297</th>\n",
              "      <td>then the correlation function  C(A, B)</td>\n",
              "      <td>['C(A, B)']</td>\n",
              "      <td>the correlation function</td>\n",
              "      <td>['end']</td>\n",
              "    </tr>\n",
              "    <tr>\n",
              "      <th>298</th>\n",
              "      <td>Next is to utilize the perturbation expansion ...</td>\n",
              "      <td>['f']</td>\n",
              "      <td>the longitudinal distribution function</td>\n",
              "      <td>['end']</td>\n",
              "    </tr>\n",
              "    <tr>\n",
              "      <th>299</th>\n",
              "      <td>the resonator voltage V  f</td>\n",
              "      <td>['V']</td>\n",
              "      <td>the resonator voltage</td>\n",
              "      <td>['end']</td>\n",
              "    </tr>\n",
              "    <tr>\n",
              "      <th>300</th>\n",
              "      <td>It is worth noting that without loss of genera...</td>\n",
              "      <td>['z2']</td>\n",
              "      <td>the spatial scale</td>\n",
              "      <td>['end']</td>\n",
              "    </tr>\n",
              "  </tbody>\n",
              "</table>\n",
              "<p>301 rows × 4 columns</p>\n",
              "</div>\n",
              "    <div class=\"colab-df-buttons\">\n",
              "\n",
              "  <div class=\"colab-df-container\">\n",
              "    <button class=\"colab-df-convert\" onclick=\"convertToInteractive('df-bbf78143-baf0-4fed-9e2e-6824da71792d')\"\n",
              "            title=\"Convert this dataframe to an interactive table.\"\n",
              "            style=\"display:none;\">\n",
              "\n",
              "  <svg xmlns=\"http://www.w3.org/2000/svg\" height=\"24px\" viewBox=\"0 -960 960 960\">\n",
              "    <path d=\"M120-120v-720h720v720H120Zm60-500h600v-160H180v160Zm220 220h160v-160H400v160Zm0 220h160v-160H400v160ZM180-400h160v-160H180v160Zm440 0h160v-160H620v160ZM180-180h160v-160H180v160Zm440 0h160v-160H620v160Z\"/>\n",
              "  </svg>\n",
              "    </button>\n",
              "\n",
              "  <style>\n",
              "    .colab-df-container {\n",
              "      display:flex;\n",
              "      gap: 12px;\n",
              "    }\n",
              "\n",
              "    .colab-df-convert {\n",
              "      background-color: #E8F0FE;\n",
              "      border: none;\n",
              "      border-radius: 50%;\n",
              "      cursor: pointer;\n",
              "      display: none;\n",
              "      fill: #1967D2;\n",
              "      height: 32px;\n",
              "      padding: 0 0 0 0;\n",
              "      width: 32px;\n",
              "    }\n",
              "\n",
              "    .colab-df-convert:hover {\n",
              "      background-color: #E2EBFA;\n",
              "      box-shadow: 0px 1px 2px rgba(60, 64, 67, 0.3), 0px 1px 3px 1px rgba(60, 64, 67, 0.15);\n",
              "      fill: #174EA6;\n",
              "    }\n",
              "\n",
              "    .colab-df-buttons div {\n",
              "      margin-bottom: 4px;\n",
              "    }\n",
              "\n",
              "    [theme=dark] .colab-df-convert {\n",
              "      background-color: #3B4455;\n",
              "      fill: #D2E3FC;\n",
              "    }\n",
              "\n",
              "    [theme=dark] .colab-df-convert:hover {\n",
              "      background-color: #434B5C;\n",
              "      box-shadow: 0px 1px 3px 1px rgba(0, 0, 0, 0.15);\n",
              "      filter: drop-shadow(0px 1px 2px rgba(0, 0, 0, 0.3));\n",
              "      fill: #FFFFFF;\n",
              "    }\n",
              "  </style>\n",
              "\n",
              "    <script>\n",
              "      const buttonEl =\n",
              "        document.querySelector('#df-bbf78143-baf0-4fed-9e2e-6824da71792d button.colab-df-convert');\n",
              "      buttonEl.style.display =\n",
              "        google.colab.kernel.accessAllowed ? 'block' : 'none';\n",
              "\n",
              "      async function convertToInteractive(key) {\n",
              "        const element = document.querySelector('#df-bbf78143-baf0-4fed-9e2e-6824da71792d');\n",
              "        const dataTable =\n",
              "          await google.colab.kernel.invokeFunction('convertToInteractive',\n",
              "                                                    [key], {});\n",
              "        if (!dataTable) return;\n",
              "\n",
              "        const docLinkHtml = 'Like what you see? Visit the ' +\n",
              "          '<a target=\"_blank\" href=https://colab.research.google.com/notebooks/data_table.ipynb>data table notebook</a>'\n",
              "          + ' to learn more about interactive tables.';\n",
              "        element.innerHTML = '';\n",
              "        dataTable['output_type'] = 'display_data';\n",
              "        await google.colab.output.renderOutput(dataTable, element);\n",
              "        const docLink = document.createElement('div');\n",
              "        docLink.innerHTML = docLinkHtml;\n",
              "        element.appendChild(docLink);\n",
              "      }\n",
              "    </script>\n",
              "  </div>\n",
              "\n",
              "\n",
              "<div id=\"df-54576e4d-6119-445b-9262-30636167a9fd\">\n",
              "  <button class=\"colab-df-quickchart\" onclick=\"quickchart('df-54576e4d-6119-445b-9262-30636167a9fd')\"\n",
              "            title=\"Suggest charts\"\n",
              "            style=\"display:none;\">\n",
              "\n",
              "<svg xmlns=\"http://www.w3.org/2000/svg\" height=\"24px\"viewBox=\"0 0 24 24\"\n",
              "     width=\"24px\">\n",
              "    <g>\n",
              "        <path d=\"M19 3H5c-1.1 0-2 .9-2 2v14c0 1.1.9 2 2 2h14c1.1 0 2-.9 2-2V5c0-1.1-.9-2-2-2zM9 17H7v-7h2v7zm4 0h-2V7h2v10zm4 0h-2v-4h2v4z\"/>\n",
              "    </g>\n",
              "</svg>\n",
              "  </button>\n",
              "\n",
              "<style>\n",
              "  .colab-df-quickchart {\n",
              "      --bg-color: #E8F0FE;\n",
              "      --fill-color: #1967D2;\n",
              "      --hover-bg-color: #E2EBFA;\n",
              "      --hover-fill-color: #174EA6;\n",
              "      --disabled-fill-color: #AAA;\n",
              "      --disabled-bg-color: #DDD;\n",
              "  }\n",
              "\n",
              "  [theme=dark] .colab-df-quickchart {\n",
              "      --bg-color: #3B4455;\n",
              "      --fill-color: #D2E3FC;\n",
              "      --hover-bg-color: #434B5C;\n",
              "      --hover-fill-color: #FFFFFF;\n",
              "      --disabled-bg-color: #3B4455;\n",
              "      --disabled-fill-color: #666;\n",
              "  }\n",
              "\n",
              "  .colab-df-quickchart {\n",
              "    background-color: var(--bg-color);\n",
              "    border: none;\n",
              "    border-radius: 50%;\n",
              "    cursor: pointer;\n",
              "    display: none;\n",
              "    fill: var(--fill-color);\n",
              "    height: 32px;\n",
              "    padding: 0;\n",
              "    width: 32px;\n",
              "  }\n",
              "\n",
              "  .colab-df-quickchart:hover {\n",
              "    background-color: var(--hover-bg-color);\n",
              "    box-shadow: 0 1px 2px rgba(60, 64, 67, 0.3), 0 1px 3px 1px rgba(60, 64, 67, 0.15);\n",
              "    fill: var(--button-hover-fill-color);\n",
              "  }\n",
              "\n",
              "  .colab-df-quickchart-complete:disabled,\n",
              "  .colab-df-quickchart-complete:disabled:hover {\n",
              "    background-color: var(--disabled-bg-color);\n",
              "    fill: var(--disabled-fill-color);\n",
              "    box-shadow: none;\n",
              "  }\n",
              "\n",
              "  .colab-df-spinner {\n",
              "    border: 2px solid var(--fill-color);\n",
              "    border-color: transparent;\n",
              "    border-bottom-color: var(--fill-color);\n",
              "    animation:\n",
              "      spin 1s steps(1) infinite;\n",
              "  }\n",
              "\n",
              "  @keyframes spin {\n",
              "    0% {\n",
              "      border-color: transparent;\n",
              "      border-bottom-color: var(--fill-color);\n",
              "      border-left-color: var(--fill-color);\n",
              "    }\n",
              "    20% {\n",
              "      border-color: transparent;\n",
              "      border-left-color: var(--fill-color);\n",
              "      border-top-color: var(--fill-color);\n",
              "    }\n",
              "    30% {\n",
              "      border-color: transparent;\n",
              "      border-left-color: var(--fill-color);\n",
              "      border-top-color: var(--fill-color);\n",
              "      border-right-color: var(--fill-color);\n",
              "    }\n",
              "    40% {\n",
              "      border-color: transparent;\n",
              "      border-right-color: var(--fill-color);\n",
              "      border-top-color: var(--fill-color);\n",
              "    }\n",
              "    60% {\n",
              "      border-color: transparent;\n",
              "      border-right-color: var(--fill-color);\n",
              "    }\n",
              "    80% {\n",
              "      border-color: transparent;\n",
              "      border-right-color: var(--fill-color);\n",
              "      border-bottom-color: var(--fill-color);\n",
              "    }\n",
              "    90% {\n",
              "      border-color: transparent;\n",
              "      border-bottom-color: var(--fill-color);\n",
              "    }\n",
              "  }\n",
              "</style>\n",
              "\n",
              "  <script>\n",
              "    async function quickchart(key) {\n",
              "      const quickchartButtonEl =\n",
              "        document.querySelector('#' + key + ' button');\n",
              "      quickchartButtonEl.disabled = true;  // To prevent multiple clicks.\n",
              "      quickchartButtonEl.classList.add('colab-df-spinner');\n",
              "      try {\n",
              "        const charts = await google.colab.kernel.invokeFunction(\n",
              "            'suggestCharts', [key], {});\n",
              "      } catch (error) {\n",
              "        console.error('Error during call to suggestCharts:', error);\n",
              "      }\n",
              "      quickchartButtonEl.classList.remove('colab-df-spinner');\n",
              "      quickchartButtonEl.classList.add('colab-df-quickchart-complete');\n",
              "    }\n",
              "    (() => {\n",
              "      let quickchartButtonEl =\n",
              "        document.querySelector('#df-54576e4d-6119-445b-9262-30636167a9fd button');\n",
              "      quickchartButtonEl.style.display =\n",
              "        google.colab.kernel.accessAllowed ? 'block' : 'none';\n",
              "    })();\n",
              "  </script>\n",
              "</div>\n",
              "\n",
              "  <div id=\"id_71dbc6ea-1777-4ced-ba9d-cff452e34984\">\n",
              "    <style>\n",
              "      .colab-df-generate {\n",
              "        background-color: #E8F0FE;\n",
              "        border: none;\n",
              "        border-radius: 50%;\n",
              "        cursor: pointer;\n",
              "        display: none;\n",
              "        fill: #1967D2;\n",
              "        height: 32px;\n",
              "        padding: 0 0 0 0;\n",
              "        width: 32px;\n",
              "      }\n",
              "\n",
              "      .colab-df-generate:hover {\n",
              "        background-color: #E2EBFA;\n",
              "        box-shadow: 0px 1px 2px rgba(60, 64, 67, 0.3), 0px 1px 3px 1px rgba(60, 64, 67, 0.15);\n",
              "        fill: #174EA6;\n",
              "      }\n",
              "\n",
              "      [theme=dark] .colab-df-generate {\n",
              "        background-color: #3B4455;\n",
              "        fill: #D2E3FC;\n",
              "      }\n",
              "\n",
              "      [theme=dark] .colab-df-generate:hover {\n",
              "        background-color: #434B5C;\n",
              "        box-shadow: 0px 1px 3px 1px rgba(0, 0, 0, 0.15);\n",
              "        filter: drop-shadow(0px 1px 2px rgba(0, 0, 0, 0.3));\n",
              "        fill: #FFFFFF;\n",
              "      }\n",
              "    </style>\n",
              "    <button class=\"colab-df-generate\" onclick=\"generateWithVariable('df')\"\n",
              "            title=\"Generate code using this dataframe.\"\n",
              "            style=\"display:none;\">\n",
              "\n",
              "  <svg xmlns=\"http://www.w3.org/2000/svg\" height=\"24px\"viewBox=\"0 0 24 24\"\n",
              "       width=\"24px\">\n",
              "    <path d=\"M7,19H8.4L18.45,9,17,7.55,7,17.6ZM5,21V16.75L18.45,3.32a2,2,0,0,1,2.83,0l1.4,1.43a1.91,1.91,0,0,1,.58,1.4,1.91,1.91,0,0,1-.58,1.4L9.25,21ZM18.45,9,17,7.55Zm-12,3A5.31,5.31,0,0,0,4.9,8.1,5.31,5.31,0,0,0,1,6.5,5.31,5.31,0,0,0,4.9,4.9,5.31,5.31,0,0,0,6.5,1,5.31,5.31,0,0,0,8.1,4.9,5.31,5.31,0,0,0,12,6.5,5.46,5.46,0,0,0,6.5,12Z\"/>\n",
              "  </svg>\n",
              "    </button>\n",
              "    <script>\n",
              "      (() => {\n",
              "      const buttonEl =\n",
              "        document.querySelector('#id_71dbc6ea-1777-4ced-ba9d-cff452e34984 button.colab-df-generate');\n",
              "      buttonEl.style.display =\n",
              "        google.colab.kernel.accessAllowed ? 'block' : 'none';\n",
              "\n",
              "      buttonEl.onclick = () => {\n",
              "        google.colab.notebook.generateWithVariable('df');\n",
              "      }\n",
              "      })();\n",
              "    </script>\n",
              "  </div>\n",
              "\n",
              "    </div>\n",
              "  </div>\n"
            ],
            "application/vnd.google.colaboratory.intrinsic+json": {
              "type": "dataframe",
              "variable_name": "df",
              "summary": "{\n  \"name\": \"df\",\n  \"rows\": 301,\n  \"fields\": [\n    {\n      \"column\": \"sentence\",\n      \"properties\": {\n        \"dtype\": \"string\",\n        \"num_unique_values\": 245,\n        \"samples\": [\n          \"while the \\ufb01rst initial condition gets the form \\u03c6(\\u03c1) \",\n          \"the distance between two balls - is \\u03bb \",\n          \"But the major problem with a pair of symmetric potentials  is V(R) \"\n        ],\n        \"semantic_type\": \"\",\n        \"description\": \"\"\n      }\n    },\n    {\n      \"column\": \"vars\",\n      \"properties\": {\n        \"dtype\": \"category\",\n        \"num_unique_values\": 126,\n        \"samples\": [\n          \"['A']\",\n          \"['\\u03c6(\\u03c1)']\",\n          \"['R(\\u03be, t)']\"\n        ],\n        \"semantic_type\": \"\",\n        \"description\": \"\"\n      }\n    },\n    {\n      \"column\": \"names\",\n      \"properties\": {\n        \"dtype\": \"string\",\n        \"num_unique_values\": 208,\n        \"samples\": [\n          \"The factor\",\n          \"frequency\",\n          \"relaxation time\"\n        ],\n        \"semantic_type\": \"\",\n        \"description\": \"\"\n      }\n    },\n    {\n      \"column\": \"variable_position\",\n      \"properties\": {\n        \"dtype\": \"category\",\n        \"num_unique_values\": 2,\n        \"samples\": [\n          \"['start']\",\n          \"['end']\"\n        ],\n        \"semantic_type\": \"\",\n        \"description\": \"\"\n      }\n    }\n  ]\n}"
            }
          },
          "metadata": {},
          "execution_count": 1
        }
      ],
      "source": [
        "csv = \"/content/drive/MyDrive/UH - Final Year Project/data/df-iter-1.csv\"\n",
        "df = pd.read_csv(csv)\n",
        "df"
      ]
    },
    {
      "cell_type": "code",
      "source": [
        " # drop unecessary \"[]\" inside names\n",
        "df[\"names\"] = df[\"names\"].apply(lambda name: name.strip(\"[]'\"))\n",
        "df['vars'] = df['vars'].apply(lambda x: x.strip(\"[]'\"))\n",
        "df.drop(columns=[\"variable_position\"],inplace=True)"
      ],
      "metadata": {
        "id": "4RYvglJp-No2"
      },
      "execution_count": 2,
      "outputs": []
    },
    {
      "cell_type": "code",
      "source": [
        "df.info()"
      ],
      "metadata": {
        "colab": {
          "base_uri": "https://localhost:8080/"
        },
        "id": "i_Sp88UpLF-_",
        "outputId": "7ea823ce-67a6-49b0-a30a-67f772054163"
      },
      "execution_count": 3,
      "outputs": [
        {
          "output_type": "stream",
          "name": "stdout",
          "text": [
            "<class 'pandas.core.frame.DataFrame'>\n",
            "RangeIndex: 301 entries, 0 to 300\n",
            "Data columns (total 3 columns):\n",
            " #   Column    Non-Null Count  Dtype \n",
            "---  ------    --------------  ----- \n",
            " 0   sentence  301 non-null    object\n",
            " 1   vars      301 non-null    object\n",
            " 2   names     301 non-null    object\n",
            "dtypes: object(3)\n",
            "memory usage: 7.2+ KB\n"
          ]
        }
      ]
    },
    {
      "cell_type": "code",
      "source": [
        "df"
      ],
      "metadata": {
        "colab": {
          "base_uri": "https://localhost:8080/",
          "height": 424
        },
        "id": "BaHgd8eXOdFv",
        "outputId": "12b899c2-9052-4cc2-bdc7-85b3cb02ecf4"
      },
      "execution_count": 4,
      "outputs": [
        {
          "output_type": "execute_result",
          "data": {
            "text/plain": [
              "                                              sentence           vars  \\\n",
              "0       The loading term becomes relevant at a time τ               τ   \n",
              "1            we get easily for the rupture force  f ∗               f   \n",
              "2    Green’s theorem can be used to show that the v...        d3xG(x)   \n",
              "3                                    at a ﬁxed point x              x   \n",
              "4    it will be quite small (|K| is large) around t...              x   \n",
              "..                                                 ...            ...   \n",
              "296  we are inspired by the recent advances in the ...  (information)   \n",
              "297            then the correlation function  C(A, B)         C(A, B)   \n",
              "298  Next is to utilize the perturbation expansion ...              f   \n",
              "299                        the resonator voltage V  f               V   \n",
              "300  It is worth noting that without loss of genera...             z2   \n",
              "\n",
              "                                      names  \n",
              "0                                    a time  \n",
              "1                         the rupture force  \n",
              "2                                the volume  \n",
              "3                                     point  \n",
              "4                                 the point  \n",
              "..                                      ...  \n",
              "296                                 quantum  \n",
              "297                the correlation function  \n",
              "298  the longitudinal distribution function  \n",
              "299                   the resonator voltage  \n",
              "300                       the spatial scale  \n",
              "\n",
              "[301 rows x 3 columns]"
            ],
            "text/html": [
              "\n",
              "  <div id=\"df-dab49967-f1a9-4365-9692-17fab3985975\" class=\"colab-df-container\">\n",
              "    <div>\n",
              "<style scoped>\n",
              "    .dataframe tbody tr th:only-of-type {\n",
              "        vertical-align: middle;\n",
              "    }\n",
              "\n",
              "    .dataframe tbody tr th {\n",
              "        vertical-align: top;\n",
              "    }\n",
              "\n",
              "    .dataframe thead th {\n",
              "        text-align: right;\n",
              "    }\n",
              "</style>\n",
              "<table border=\"1\" class=\"dataframe\">\n",
              "  <thead>\n",
              "    <tr style=\"text-align: right;\">\n",
              "      <th></th>\n",
              "      <th>sentence</th>\n",
              "      <th>vars</th>\n",
              "      <th>names</th>\n",
              "    </tr>\n",
              "  </thead>\n",
              "  <tbody>\n",
              "    <tr>\n",
              "      <th>0</th>\n",
              "      <td>The loading term becomes relevant at a time τ</td>\n",
              "      <td>τ</td>\n",
              "      <td>a time</td>\n",
              "    </tr>\n",
              "    <tr>\n",
              "      <th>1</th>\n",
              "      <td>we get easily for the rupture force  f ∗</td>\n",
              "      <td>f</td>\n",
              "      <td>the rupture force</td>\n",
              "    </tr>\n",
              "    <tr>\n",
              "      <th>2</th>\n",
              "      <td>Green’s theorem can be used to show that the v...</td>\n",
              "      <td>d3xG(x)</td>\n",
              "      <td>the volume</td>\n",
              "    </tr>\n",
              "    <tr>\n",
              "      <th>3</th>\n",
              "      <td>at a ﬁxed point x</td>\n",
              "      <td>x</td>\n",
              "      <td>point</td>\n",
              "    </tr>\n",
              "    <tr>\n",
              "      <th>4</th>\n",
              "      <td>it will be quite small (|K| is large) around t...</td>\n",
              "      <td>x</td>\n",
              "      <td>the point</td>\n",
              "    </tr>\n",
              "    <tr>\n",
              "      <th>...</th>\n",
              "      <td>...</td>\n",
              "      <td>...</td>\n",
              "      <td>...</td>\n",
              "    </tr>\n",
              "    <tr>\n",
              "      <th>296</th>\n",
              "      <td>we are inspired by the recent advances in the ...</td>\n",
              "      <td>(information)</td>\n",
              "      <td>quantum</td>\n",
              "    </tr>\n",
              "    <tr>\n",
              "      <th>297</th>\n",
              "      <td>then the correlation function  C(A, B)</td>\n",
              "      <td>C(A, B)</td>\n",
              "      <td>the correlation function</td>\n",
              "    </tr>\n",
              "    <tr>\n",
              "      <th>298</th>\n",
              "      <td>Next is to utilize the perturbation expansion ...</td>\n",
              "      <td>f</td>\n",
              "      <td>the longitudinal distribution function</td>\n",
              "    </tr>\n",
              "    <tr>\n",
              "      <th>299</th>\n",
              "      <td>the resonator voltage V  f</td>\n",
              "      <td>V</td>\n",
              "      <td>the resonator voltage</td>\n",
              "    </tr>\n",
              "    <tr>\n",
              "      <th>300</th>\n",
              "      <td>It is worth noting that without loss of genera...</td>\n",
              "      <td>z2</td>\n",
              "      <td>the spatial scale</td>\n",
              "    </tr>\n",
              "  </tbody>\n",
              "</table>\n",
              "<p>301 rows × 3 columns</p>\n",
              "</div>\n",
              "    <div class=\"colab-df-buttons\">\n",
              "\n",
              "  <div class=\"colab-df-container\">\n",
              "    <button class=\"colab-df-convert\" onclick=\"convertToInteractive('df-dab49967-f1a9-4365-9692-17fab3985975')\"\n",
              "            title=\"Convert this dataframe to an interactive table.\"\n",
              "            style=\"display:none;\">\n",
              "\n",
              "  <svg xmlns=\"http://www.w3.org/2000/svg\" height=\"24px\" viewBox=\"0 -960 960 960\">\n",
              "    <path d=\"M120-120v-720h720v720H120Zm60-500h600v-160H180v160Zm220 220h160v-160H400v160Zm0 220h160v-160H400v160ZM180-400h160v-160H180v160Zm440 0h160v-160H620v160ZM180-180h160v-160H180v160Zm440 0h160v-160H620v160Z\"/>\n",
              "  </svg>\n",
              "    </button>\n",
              "\n",
              "  <style>\n",
              "    .colab-df-container {\n",
              "      display:flex;\n",
              "      gap: 12px;\n",
              "    }\n",
              "\n",
              "    .colab-df-convert {\n",
              "      background-color: #E8F0FE;\n",
              "      border: none;\n",
              "      border-radius: 50%;\n",
              "      cursor: pointer;\n",
              "      display: none;\n",
              "      fill: #1967D2;\n",
              "      height: 32px;\n",
              "      padding: 0 0 0 0;\n",
              "      width: 32px;\n",
              "    }\n",
              "\n",
              "    .colab-df-convert:hover {\n",
              "      background-color: #E2EBFA;\n",
              "      box-shadow: 0px 1px 2px rgba(60, 64, 67, 0.3), 0px 1px 3px 1px rgba(60, 64, 67, 0.15);\n",
              "      fill: #174EA6;\n",
              "    }\n",
              "\n",
              "    .colab-df-buttons div {\n",
              "      margin-bottom: 4px;\n",
              "    }\n",
              "\n",
              "    [theme=dark] .colab-df-convert {\n",
              "      background-color: #3B4455;\n",
              "      fill: #D2E3FC;\n",
              "    }\n",
              "\n",
              "    [theme=dark] .colab-df-convert:hover {\n",
              "      background-color: #434B5C;\n",
              "      box-shadow: 0px 1px 3px 1px rgba(0, 0, 0, 0.15);\n",
              "      filter: drop-shadow(0px 1px 2px rgba(0, 0, 0, 0.3));\n",
              "      fill: #FFFFFF;\n",
              "    }\n",
              "  </style>\n",
              "\n",
              "    <script>\n",
              "      const buttonEl =\n",
              "        document.querySelector('#df-dab49967-f1a9-4365-9692-17fab3985975 button.colab-df-convert');\n",
              "      buttonEl.style.display =\n",
              "        google.colab.kernel.accessAllowed ? 'block' : 'none';\n",
              "\n",
              "      async function convertToInteractive(key) {\n",
              "        const element = document.querySelector('#df-dab49967-f1a9-4365-9692-17fab3985975');\n",
              "        const dataTable =\n",
              "          await google.colab.kernel.invokeFunction('convertToInteractive',\n",
              "                                                    [key], {});\n",
              "        if (!dataTable) return;\n",
              "\n",
              "        const docLinkHtml = 'Like what you see? Visit the ' +\n",
              "          '<a target=\"_blank\" href=https://colab.research.google.com/notebooks/data_table.ipynb>data table notebook</a>'\n",
              "          + ' to learn more about interactive tables.';\n",
              "        element.innerHTML = '';\n",
              "        dataTable['output_type'] = 'display_data';\n",
              "        await google.colab.output.renderOutput(dataTable, element);\n",
              "        const docLink = document.createElement('div');\n",
              "        docLink.innerHTML = docLinkHtml;\n",
              "        element.appendChild(docLink);\n",
              "      }\n",
              "    </script>\n",
              "  </div>\n",
              "\n",
              "\n",
              "<div id=\"df-f19def05-1a9f-4324-9dff-8da9bafdfbcb\">\n",
              "  <button class=\"colab-df-quickchart\" onclick=\"quickchart('df-f19def05-1a9f-4324-9dff-8da9bafdfbcb')\"\n",
              "            title=\"Suggest charts\"\n",
              "            style=\"display:none;\">\n",
              "\n",
              "<svg xmlns=\"http://www.w3.org/2000/svg\" height=\"24px\"viewBox=\"0 0 24 24\"\n",
              "     width=\"24px\">\n",
              "    <g>\n",
              "        <path d=\"M19 3H5c-1.1 0-2 .9-2 2v14c0 1.1.9 2 2 2h14c1.1 0 2-.9 2-2V5c0-1.1-.9-2-2-2zM9 17H7v-7h2v7zm4 0h-2V7h2v10zm4 0h-2v-4h2v4z\"/>\n",
              "    </g>\n",
              "</svg>\n",
              "  </button>\n",
              "\n",
              "<style>\n",
              "  .colab-df-quickchart {\n",
              "      --bg-color: #E8F0FE;\n",
              "      --fill-color: #1967D2;\n",
              "      --hover-bg-color: #E2EBFA;\n",
              "      --hover-fill-color: #174EA6;\n",
              "      --disabled-fill-color: #AAA;\n",
              "      --disabled-bg-color: #DDD;\n",
              "  }\n",
              "\n",
              "  [theme=dark] .colab-df-quickchart {\n",
              "      --bg-color: #3B4455;\n",
              "      --fill-color: #D2E3FC;\n",
              "      --hover-bg-color: #434B5C;\n",
              "      --hover-fill-color: #FFFFFF;\n",
              "      --disabled-bg-color: #3B4455;\n",
              "      --disabled-fill-color: #666;\n",
              "  }\n",
              "\n",
              "  .colab-df-quickchart {\n",
              "    background-color: var(--bg-color);\n",
              "    border: none;\n",
              "    border-radius: 50%;\n",
              "    cursor: pointer;\n",
              "    display: none;\n",
              "    fill: var(--fill-color);\n",
              "    height: 32px;\n",
              "    padding: 0;\n",
              "    width: 32px;\n",
              "  }\n",
              "\n",
              "  .colab-df-quickchart:hover {\n",
              "    background-color: var(--hover-bg-color);\n",
              "    box-shadow: 0 1px 2px rgba(60, 64, 67, 0.3), 0 1px 3px 1px rgba(60, 64, 67, 0.15);\n",
              "    fill: var(--button-hover-fill-color);\n",
              "  }\n",
              "\n",
              "  .colab-df-quickchart-complete:disabled,\n",
              "  .colab-df-quickchart-complete:disabled:hover {\n",
              "    background-color: var(--disabled-bg-color);\n",
              "    fill: var(--disabled-fill-color);\n",
              "    box-shadow: none;\n",
              "  }\n",
              "\n",
              "  .colab-df-spinner {\n",
              "    border: 2px solid var(--fill-color);\n",
              "    border-color: transparent;\n",
              "    border-bottom-color: var(--fill-color);\n",
              "    animation:\n",
              "      spin 1s steps(1) infinite;\n",
              "  }\n",
              "\n",
              "  @keyframes spin {\n",
              "    0% {\n",
              "      border-color: transparent;\n",
              "      border-bottom-color: var(--fill-color);\n",
              "      border-left-color: var(--fill-color);\n",
              "    }\n",
              "    20% {\n",
              "      border-color: transparent;\n",
              "      border-left-color: var(--fill-color);\n",
              "      border-top-color: var(--fill-color);\n",
              "    }\n",
              "    30% {\n",
              "      border-color: transparent;\n",
              "      border-left-color: var(--fill-color);\n",
              "      border-top-color: var(--fill-color);\n",
              "      border-right-color: var(--fill-color);\n",
              "    }\n",
              "    40% {\n",
              "      border-color: transparent;\n",
              "      border-right-color: var(--fill-color);\n",
              "      border-top-color: var(--fill-color);\n",
              "    }\n",
              "    60% {\n",
              "      border-color: transparent;\n",
              "      border-right-color: var(--fill-color);\n",
              "    }\n",
              "    80% {\n",
              "      border-color: transparent;\n",
              "      border-right-color: var(--fill-color);\n",
              "      border-bottom-color: var(--fill-color);\n",
              "    }\n",
              "    90% {\n",
              "      border-color: transparent;\n",
              "      border-bottom-color: var(--fill-color);\n",
              "    }\n",
              "  }\n",
              "</style>\n",
              "\n",
              "  <script>\n",
              "    async function quickchart(key) {\n",
              "      const quickchartButtonEl =\n",
              "        document.querySelector('#' + key + ' button');\n",
              "      quickchartButtonEl.disabled = true;  // To prevent multiple clicks.\n",
              "      quickchartButtonEl.classList.add('colab-df-spinner');\n",
              "      try {\n",
              "        const charts = await google.colab.kernel.invokeFunction(\n",
              "            'suggestCharts', [key], {});\n",
              "      } catch (error) {\n",
              "        console.error('Error during call to suggestCharts:', error);\n",
              "      }\n",
              "      quickchartButtonEl.classList.remove('colab-df-spinner');\n",
              "      quickchartButtonEl.classList.add('colab-df-quickchart-complete');\n",
              "    }\n",
              "    (() => {\n",
              "      let quickchartButtonEl =\n",
              "        document.querySelector('#df-f19def05-1a9f-4324-9dff-8da9bafdfbcb button');\n",
              "      quickchartButtonEl.style.display =\n",
              "        google.colab.kernel.accessAllowed ? 'block' : 'none';\n",
              "    })();\n",
              "  </script>\n",
              "</div>\n",
              "\n",
              "  <div id=\"id_942fd41a-e6f6-4892-8f1b-97fc2d11695e\">\n",
              "    <style>\n",
              "      .colab-df-generate {\n",
              "        background-color: #E8F0FE;\n",
              "        border: none;\n",
              "        border-radius: 50%;\n",
              "        cursor: pointer;\n",
              "        display: none;\n",
              "        fill: #1967D2;\n",
              "        height: 32px;\n",
              "        padding: 0 0 0 0;\n",
              "        width: 32px;\n",
              "      }\n",
              "\n",
              "      .colab-df-generate:hover {\n",
              "        background-color: #E2EBFA;\n",
              "        box-shadow: 0px 1px 2px rgba(60, 64, 67, 0.3), 0px 1px 3px 1px rgba(60, 64, 67, 0.15);\n",
              "        fill: #174EA6;\n",
              "      }\n",
              "\n",
              "      [theme=dark] .colab-df-generate {\n",
              "        background-color: #3B4455;\n",
              "        fill: #D2E3FC;\n",
              "      }\n",
              "\n",
              "      [theme=dark] .colab-df-generate:hover {\n",
              "        background-color: #434B5C;\n",
              "        box-shadow: 0px 1px 3px 1px rgba(0, 0, 0, 0.15);\n",
              "        filter: drop-shadow(0px 1px 2px rgba(0, 0, 0, 0.3));\n",
              "        fill: #FFFFFF;\n",
              "      }\n",
              "    </style>\n",
              "    <button class=\"colab-df-generate\" onclick=\"generateWithVariable('df')\"\n",
              "            title=\"Generate code using this dataframe.\"\n",
              "            style=\"display:none;\">\n",
              "\n",
              "  <svg xmlns=\"http://www.w3.org/2000/svg\" height=\"24px\"viewBox=\"0 0 24 24\"\n",
              "       width=\"24px\">\n",
              "    <path d=\"M7,19H8.4L18.45,9,17,7.55,7,17.6ZM5,21V16.75L18.45,3.32a2,2,0,0,1,2.83,0l1.4,1.43a1.91,1.91,0,0,1,.58,1.4,1.91,1.91,0,0,1-.58,1.4L9.25,21ZM18.45,9,17,7.55Zm-12,3A5.31,5.31,0,0,0,4.9,8.1,5.31,5.31,0,0,0,1,6.5,5.31,5.31,0,0,0,4.9,4.9,5.31,5.31,0,0,0,6.5,1,5.31,5.31,0,0,0,8.1,4.9,5.31,5.31,0,0,0,12,6.5,5.46,5.46,0,0,0,6.5,12Z\"/>\n",
              "  </svg>\n",
              "    </button>\n",
              "    <script>\n",
              "      (() => {\n",
              "      const buttonEl =\n",
              "        document.querySelector('#id_942fd41a-e6f6-4892-8f1b-97fc2d11695e button.colab-df-generate');\n",
              "      buttonEl.style.display =\n",
              "        google.colab.kernel.accessAllowed ? 'block' : 'none';\n",
              "\n",
              "      buttonEl.onclick = () => {\n",
              "        google.colab.notebook.generateWithVariable('df');\n",
              "      }\n",
              "      })();\n",
              "    </script>\n",
              "  </div>\n",
              "\n",
              "    </div>\n",
              "  </div>\n"
            ],
            "application/vnd.google.colaboratory.intrinsic+json": {
              "type": "dataframe",
              "variable_name": "df",
              "summary": "{\n  \"name\": \"df\",\n  \"rows\": 301,\n  \"fields\": [\n    {\n      \"column\": \"sentence\",\n      \"properties\": {\n        \"dtype\": \"string\",\n        \"num_unique_values\": 245,\n        \"samples\": [\n          \"while the \\ufb01rst initial condition gets the form \\u03c6(\\u03c1) \",\n          \"the distance between two balls - is \\u03bb \",\n          \"But the major problem with a pair of symmetric potentials  is V(R) \"\n        ],\n        \"semantic_type\": \"\",\n        \"description\": \"\"\n      }\n    },\n    {\n      \"column\": \"vars\",\n      \"properties\": {\n        \"dtype\": \"category\",\n        \"num_unique_values\": 126,\n        \"samples\": [\n          \"A\",\n          \"\\u03c6(\\u03c1)\",\n          \"R(\\u03be, t)\"\n        ],\n        \"semantic_type\": \"\",\n        \"description\": \"\"\n      }\n    },\n    {\n      \"column\": \"names\",\n      \"properties\": {\n        \"dtype\": \"string\",\n        \"num_unique_values\": 208,\n        \"samples\": [\n          \"The factor\",\n          \"frequency\",\n          \"relaxation time\"\n        ],\n        \"semantic_type\": \"\",\n        \"description\": \"\"\n      }\n    }\n  ]\n}"
            }
          },
          "metadata": {},
          "execution_count": 4
        }
      ]
    },
    {
      "cell_type": "markdown",
      "metadata": {
        "id": "AP_n-anMyXrZ"
      },
      "source": [
        "# Sentence Tokenization :"
      ]
    },
    {
      "cell_type": "code",
      "source": [
        "\n",
        "\n",
        "def my_tokenizer(text,added_tokens) :\n",
        "\n",
        "  # defining function pattern\n",
        "  func_name = r\"α-ωA-Za-zΑ-Ω0-9ℰℓℒℳøℂℕℙℚℝℤΓΔΛΞΠΣΦΨΩÅℏ∞∘∂∫∮∯∇αβγ∅\"\n",
        "  func_var = r\"A-Za-zα-ωΑ-ΩℰℓℒℳøℂℕℙℚℝℤΓΔΛΞΠΣΦΨΩÅℏ∞∘∂∫∮∯∇αβγ∅\"\n",
        "  func_pattern = fr\"(.|)([{func_name}]{{1,3}}(′|.|)\\([{func_var}](,\\s*[{func_var}])*\\))\"\n",
        "\n",
        "  # getting math functions\n",
        "  matches = re.findall(func_pattern, text)\n",
        "\n",
        "  # getting only second-group matches (the functions)\n",
        "  functions = [match[1] for match in matches]\n",
        "  func_saver = iter(functions.copy())\n",
        "\n",
        "\n",
        "\n",
        "  # Replace math functions with temporary markers\n",
        "  for func in functions:\n",
        "    text = text.replace(func, \"[FUNC]\")\n",
        "    # adding the function to the gloabl variable\n",
        "    added_tokens.append(func)\n",
        "\n",
        "\n",
        "  # Tokenize the rest of the text\n",
        "  tokens = text.split()\n",
        "\n",
        "  # Replace temporary markers with original functions\n",
        "  new_tokens = [next(func_saver) if '[FUNC]' in token else token for token in tokens]\n",
        "\n",
        "  return new_tokens"
      ],
      "metadata": {
        "id": "2LlrKxfr1meq"
      },
      "execution_count": 5,
      "outputs": []
    },
    {
      "cell_type": "code",
      "source": [
        "def create_spacy_tokenizer(nlp):\n",
        "    def custom_tokenizer(text):\n",
        "        global added_tokens\n",
        "        tokens = my_tokenizer(text,added_tokens)\n",
        "        return Doc(nlp.vocab, words=tokens)\n",
        "    return custom_tokenizer"
      ],
      "metadata": {
        "id": "L2-z3N221sTB"
      },
      "execution_count": 6,
      "outputs": []
    },
    {
      "cell_type": "code",
      "source": [
        "nlp = spacy.load(\"en_core_web_sm\")\n",
        "nlp.tokenizer = create_spacy_tokenizer(nlp)"
      ],
      "metadata": {
        "id": "VlbqHKbN1y_8"
      },
      "execution_count": 7,
      "outputs": []
    },
    {
      "cell_type": "code",
      "source": [
        "def tokenize(text) :\n",
        "  tokens= []\n",
        "  doc = nlp(text)\n",
        "\n",
        "  # Iterate over the tokens in the processed doc\n",
        "  for token in doc:\n",
        "    tokens.append(str(token))\n",
        "  return tokens"
      ],
      "metadata": {
        "id": "4Gnn1Veq17MY"
      },
      "execution_count": 8,
      "outputs": []
    },
    {
      "cell_type": "code",
      "source": [
        "# this returns tokens inside the list\n",
        "global added_tokens\n",
        "added_tokens = []\n",
        "df['tokenized_sentence'] = df['sentence'].apply(tokenize)"
      ],
      "metadata": {
        "id": "1FEO5yDi2RCK"
      },
      "execution_count": 9,
      "outputs": []
    },
    {
      "cell_type": "code",
      "source": [
        "mathematical_symbols = [\n",
        "    'α', 'β', 'γ', 'δ', 'ε', 'ζ', 'η', 'θ', 'ι', 'κ', 'λ', 'μ', 'ν', 'ξ', 'ο', 'π', 'ρ', 'σ', 'τ', 'υ', 'φ', 'χ', 'ψ', 'ω',\n",
        "    'Α', 'Β', 'Γ', 'Δ', 'Ε', 'Ζ', 'Η', 'Θ', 'Ι', 'Κ', 'Λ', 'Μ', 'Ν', 'Ξ', 'Ο', 'Π', 'Ρ', 'Σ', 'Τ', 'Υ', 'Φ', 'Χ', 'Ψ', 'Ω',\n",
        "    'ℰ', 'ℓ', 'ℒ', 'ℳ', 'ø', 'ℂ', 'ℕ', 'ℙ', 'ℚ', 'ℝ', 'ℤ','Γ', 'Δ', 'Λ', 'Ξ', 'Π', 'Φ', 'Ψ', 'Ω','Å', 'ℏ', '∞',\n",
        "    '∂', '∮', '∯', '∇','∅','˜','µ','ǫ','ℋ', 'ℨ', 'ℛ']\n",
        "\n",
        "mathematical_operations = ['∫', '∑', '∏', '√', '+', '-', '*', '/', '=', '^', '%','∩', '∪', '⊂', '⊆', '∈', '∉','∘' , \"≡\",\"<\",\">\",\"↔\",\"|\"]\n",
        "\n",
        "added_tokens = added_tokens + mathematical_symbols +  mathematical_operations"
      ],
      "metadata": {
        "id": "Q3K1Kdr_ir5g"
      },
      "execution_count": 10,
      "outputs": []
    },
    {
      "cell_type": "code",
      "source": [
        "df.head()"
      ],
      "metadata": {
        "colab": {
          "base_uri": "https://localhost:8080/",
          "height": 206
        },
        "id": "6w5C_-wjcerw",
        "outputId": "15950e18-5028-4cad-e9c6-34276be849aa"
      },
      "execution_count": 11,
      "outputs": [
        {
          "output_type": "execute_result",
          "data": {
            "text/plain": [
              "                                            sentence     vars  \\\n",
              "0     The loading term becomes relevant at a time τ         τ   \n",
              "1          we get easily for the rupture force  f ∗         f   \n",
              "2  Green’s theorem can be used to show that the v...  d3xG(x)   \n",
              "3                                  at a ﬁxed point x        x   \n",
              "4  it will be quite small (|K| is large) around t...        x   \n",
              "\n",
              "               names                                 tokenized_sentence  \n",
              "0             a time  [The, loading, term, becomes, relevant, at, a,...  \n",
              "1  the rupture force  [we, get, easily, for, the, rupture, force, f, ∗]  \n",
              "2         the volume  [Green’s, theorem, can, be, used, to, show, th...  \n",
              "3              point                            [at, a, ﬁxed, point, x]  \n",
              "4          the point  [it, will, be, quite, small, (|K|, is, large),...  "
            ],
            "text/html": [
              "\n",
              "  <div id=\"df-c672f8c6-cc0a-4aa3-a59c-20f723f16916\" class=\"colab-df-container\">\n",
              "    <div>\n",
              "<style scoped>\n",
              "    .dataframe tbody tr th:only-of-type {\n",
              "        vertical-align: middle;\n",
              "    }\n",
              "\n",
              "    .dataframe tbody tr th {\n",
              "        vertical-align: top;\n",
              "    }\n",
              "\n",
              "    .dataframe thead th {\n",
              "        text-align: right;\n",
              "    }\n",
              "</style>\n",
              "<table border=\"1\" class=\"dataframe\">\n",
              "  <thead>\n",
              "    <tr style=\"text-align: right;\">\n",
              "      <th></th>\n",
              "      <th>sentence</th>\n",
              "      <th>vars</th>\n",
              "      <th>names</th>\n",
              "      <th>tokenized_sentence</th>\n",
              "    </tr>\n",
              "  </thead>\n",
              "  <tbody>\n",
              "    <tr>\n",
              "      <th>0</th>\n",
              "      <td>The loading term becomes relevant at a time τ</td>\n",
              "      <td>τ</td>\n",
              "      <td>a time</td>\n",
              "      <td>[The, loading, term, becomes, relevant, at, a,...</td>\n",
              "    </tr>\n",
              "    <tr>\n",
              "      <th>1</th>\n",
              "      <td>we get easily for the rupture force  f ∗</td>\n",
              "      <td>f</td>\n",
              "      <td>the rupture force</td>\n",
              "      <td>[we, get, easily, for, the, rupture, force, f, ∗]</td>\n",
              "    </tr>\n",
              "    <tr>\n",
              "      <th>2</th>\n",
              "      <td>Green’s theorem can be used to show that the v...</td>\n",
              "      <td>d3xG(x)</td>\n",
              "      <td>the volume</td>\n",
              "      <td>[Green’s, theorem, can, be, used, to, show, th...</td>\n",
              "    </tr>\n",
              "    <tr>\n",
              "      <th>3</th>\n",
              "      <td>at a ﬁxed point x</td>\n",
              "      <td>x</td>\n",
              "      <td>point</td>\n",
              "      <td>[at, a, ﬁxed, point, x]</td>\n",
              "    </tr>\n",
              "    <tr>\n",
              "      <th>4</th>\n",
              "      <td>it will be quite small (|K| is large) around t...</td>\n",
              "      <td>x</td>\n",
              "      <td>the point</td>\n",
              "      <td>[it, will, be, quite, small, (|K|, is, large),...</td>\n",
              "    </tr>\n",
              "  </tbody>\n",
              "</table>\n",
              "</div>\n",
              "    <div class=\"colab-df-buttons\">\n",
              "\n",
              "  <div class=\"colab-df-container\">\n",
              "    <button class=\"colab-df-convert\" onclick=\"convertToInteractive('df-c672f8c6-cc0a-4aa3-a59c-20f723f16916')\"\n",
              "            title=\"Convert this dataframe to an interactive table.\"\n",
              "            style=\"display:none;\">\n",
              "\n",
              "  <svg xmlns=\"http://www.w3.org/2000/svg\" height=\"24px\" viewBox=\"0 -960 960 960\">\n",
              "    <path d=\"M120-120v-720h720v720H120Zm60-500h600v-160H180v160Zm220 220h160v-160H400v160Zm0 220h160v-160H400v160ZM180-400h160v-160H180v160Zm440 0h160v-160H620v160ZM180-180h160v-160H180v160Zm440 0h160v-160H620v160Z\"/>\n",
              "  </svg>\n",
              "    </button>\n",
              "\n",
              "  <style>\n",
              "    .colab-df-container {\n",
              "      display:flex;\n",
              "      gap: 12px;\n",
              "    }\n",
              "\n",
              "    .colab-df-convert {\n",
              "      background-color: #E8F0FE;\n",
              "      border: none;\n",
              "      border-radius: 50%;\n",
              "      cursor: pointer;\n",
              "      display: none;\n",
              "      fill: #1967D2;\n",
              "      height: 32px;\n",
              "      padding: 0 0 0 0;\n",
              "      width: 32px;\n",
              "    }\n",
              "\n",
              "    .colab-df-convert:hover {\n",
              "      background-color: #E2EBFA;\n",
              "      box-shadow: 0px 1px 2px rgba(60, 64, 67, 0.3), 0px 1px 3px 1px rgba(60, 64, 67, 0.15);\n",
              "      fill: #174EA6;\n",
              "    }\n",
              "\n",
              "    .colab-df-buttons div {\n",
              "      margin-bottom: 4px;\n",
              "    }\n",
              "\n",
              "    [theme=dark] .colab-df-convert {\n",
              "      background-color: #3B4455;\n",
              "      fill: #D2E3FC;\n",
              "    }\n",
              "\n",
              "    [theme=dark] .colab-df-convert:hover {\n",
              "      background-color: #434B5C;\n",
              "      box-shadow: 0px 1px 3px 1px rgba(0, 0, 0, 0.15);\n",
              "      filter: drop-shadow(0px 1px 2px rgba(0, 0, 0, 0.3));\n",
              "      fill: #FFFFFF;\n",
              "    }\n",
              "  </style>\n",
              "\n",
              "    <script>\n",
              "      const buttonEl =\n",
              "        document.querySelector('#df-c672f8c6-cc0a-4aa3-a59c-20f723f16916 button.colab-df-convert');\n",
              "      buttonEl.style.display =\n",
              "        google.colab.kernel.accessAllowed ? 'block' : 'none';\n",
              "\n",
              "      async function convertToInteractive(key) {\n",
              "        const element = document.querySelector('#df-c672f8c6-cc0a-4aa3-a59c-20f723f16916');\n",
              "        const dataTable =\n",
              "          await google.colab.kernel.invokeFunction('convertToInteractive',\n",
              "                                                    [key], {});\n",
              "        if (!dataTable) return;\n",
              "\n",
              "        const docLinkHtml = 'Like what you see? Visit the ' +\n",
              "          '<a target=\"_blank\" href=https://colab.research.google.com/notebooks/data_table.ipynb>data table notebook</a>'\n",
              "          + ' to learn more about interactive tables.';\n",
              "        element.innerHTML = '';\n",
              "        dataTable['output_type'] = 'display_data';\n",
              "        await google.colab.output.renderOutput(dataTable, element);\n",
              "        const docLink = document.createElement('div');\n",
              "        docLink.innerHTML = docLinkHtml;\n",
              "        element.appendChild(docLink);\n",
              "      }\n",
              "    </script>\n",
              "  </div>\n",
              "\n",
              "\n",
              "<div id=\"df-a88a97e3-c747-41b1-a6f1-76cd0fa27151\">\n",
              "  <button class=\"colab-df-quickchart\" onclick=\"quickchart('df-a88a97e3-c747-41b1-a6f1-76cd0fa27151')\"\n",
              "            title=\"Suggest charts\"\n",
              "            style=\"display:none;\">\n",
              "\n",
              "<svg xmlns=\"http://www.w3.org/2000/svg\" height=\"24px\"viewBox=\"0 0 24 24\"\n",
              "     width=\"24px\">\n",
              "    <g>\n",
              "        <path d=\"M19 3H5c-1.1 0-2 .9-2 2v14c0 1.1.9 2 2 2h14c1.1 0 2-.9 2-2V5c0-1.1-.9-2-2-2zM9 17H7v-7h2v7zm4 0h-2V7h2v10zm4 0h-2v-4h2v4z\"/>\n",
              "    </g>\n",
              "</svg>\n",
              "  </button>\n",
              "\n",
              "<style>\n",
              "  .colab-df-quickchart {\n",
              "      --bg-color: #E8F0FE;\n",
              "      --fill-color: #1967D2;\n",
              "      --hover-bg-color: #E2EBFA;\n",
              "      --hover-fill-color: #174EA6;\n",
              "      --disabled-fill-color: #AAA;\n",
              "      --disabled-bg-color: #DDD;\n",
              "  }\n",
              "\n",
              "  [theme=dark] .colab-df-quickchart {\n",
              "      --bg-color: #3B4455;\n",
              "      --fill-color: #D2E3FC;\n",
              "      --hover-bg-color: #434B5C;\n",
              "      --hover-fill-color: #FFFFFF;\n",
              "      --disabled-bg-color: #3B4455;\n",
              "      --disabled-fill-color: #666;\n",
              "  }\n",
              "\n",
              "  .colab-df-quickchart {\n",
              "    background-color: var(--bg-color);\n",
              "    border: none;\n",
              "    border-radius: 50%;\n",
              "    cursor: pointer;\n",
              "    display: none;\n",
              "    fill: var(--fill-color);\n",
              "    height: 32px;\n",
              "    padding: 0;\n",
              "    width: 32px;\n",
              "  }\n",
              "\n",
              "  .colab-df-quickchart:hover {\n",
              "    background-color: var(--hover-bg-color);\n",
              "    box-shadow: 0 1px 2px rgba(60, 64, 67, 0.3), 0 1px 3px 1px rgba(60, 64, 67, 0.15);\n",
              "    fill: var(--button-hover-fill-color);\n",
              "  }\n",
              "\n",
              "  .colab-df-quickchart-complete:disabled,\n",
              "  .colab-df-quickchart-complete:disabled:hover {\n",
              "    background-color: var(--disabled-bg-color);\n",
              "    fill: var(--disabled-fill-color);\n",
              "    box-shadow: none;\n",
              "  }\n",
              "\n",
              "  .colab-df-spinner {\n",
              "    border: 2px solid var(--fill-color);\n",
              "    border-color: transparent;\n",
              "    border-bottom-color: var(--fill-color);\n",
              "    animation:\n",
              "      spin 1s steps(1) infinite;\n",
              "  }\n",
              "\n",
              "  @keyframes spin {\n",
              "    0% {\n",
              "      border-color: transparent;\n",
              "      border-bottom-color: var(--fill-color);\n",
              "      border-left-color: var(--fill-color);\n",
              "    }\n",
              "    20% {\n",
              "      border-color: transparent;\n",
              "      border-left-color: var(--fill-color);\n",
              "      border-top-color: var(--fill-color);\n",
              "    }\n",
              "    30% {\n",
              "      border-color: transparent;\n",
              "      border-left-color: var(--fill-color);\n",
              "      border-top-color: var(--fill-color);\n",
              "      border-right-color: var(--fill-color);\n",
              "    }\n",
              "    40% {\n",
              "      border-color: transparent;\n",
              "      border-right-color: var(--fill-color);\n",
              "      border-top-color: var(--fill-color);\n",
              "    }\n",
              "    60% {\n",
              "      border-color: transparent;\n",
              "      border-right-color: var(--fill-color);\n",
              "    }\n",
              "    80% {\n",
              "      border-color: transparent;\n",
              "      border-right-color: var(--fill-color);\n",
              "      border-bottom-color: var(--fill-color);\n",
              "    }\n",
              "    90% {\n",
              "      border-color: transparent;\n",
              "      border-bottom-color: var(--fill-color);\n",
              "    }\n",
              "  }\n",
              "</style>\n",
              "\n",
              "  <script>\n",
              "    async function quickchart(key) {\n",
              "      const quickchartButtonEl =\n",
              "        document.querySelector('#' + key + ' button');\n",
              "      quickchartButtonEl.disabled = true;  // To prevent multiple clicks.\n",
              "      quickchartButtonEl.classList.add('colab-df-spinner');\n",
              "      try {\n",
              "        const charts = await google.colab.kernel.invokeFunction(\n",
              "            'suggestCharts', [key], {});\n",
              "      } catch (error) {\n",
              "        console.error('Error during call to suggestCharts:', error);\n",
              "      }\n",
              "      quickchartButtonEl.classList.remove('colab-df-spinner');\n",
              "      quickchartButtonEl.classList.add('colab-df-quickchart-complete');\n",
              "    }\n",
              "    (() => {\n",
              "      let quickchartButtonEl =\n",
              "        document.querySelector('#df-a88a97e3-c747-41b1-a6f1-76cd0fa27151 button');\n",
              "      quickchartButtonEl.style.display =\n",
              "        google.colab.kernel.accessAllowed ? 'block' : 'none';\n",
              "    })();\n",
              "  </script>\n",
              "</div>\n",
              "\n",
              "    </div>\n",
              "  </div>\n"
            ],
            "application/vnd.google.colaboratory.intrinsic+json": {
              "type": "dataframe",
              "variable_name": "df",
              "summary": "{\n  \"name\": \"df\",\n  \"rows\": 301,\n  \"fields\": [\n    {\n      \"column\": \"sentence\",\n      \"properties\": {\n        \"dtype\": \"string\",\n        \"num_unique_values\": 245,\n        \"samples\": [\n          \"while the \\ufb01rst initial condition gets the form \\u03c6(\\u03c1) \",\n          \"the distance between two balls - is \\u03bb \",\n          \"But the major problem with a pair of symmetric potentials  is V(R) \"\n        ],\n        \"semantic_type\": \"\",\n        \"description\": \"\"\n      }\n    },\n    {\n      \"column\": \"vars\",\n      \"properties\": {\n        \"dtype\": \"category\",\n        \"num_unique_values\": 126,\n        \"samples\": [\n          \"A\",\n          \"\\u03c6(\\u03c1)\",\n          \"R(\\u03be, t)\"\n        ],\n        \"semantic_type\": \"\",\n        \"description\": \"\"\n      }\n    },\n    {\n      \"column\": \"names\",\n      \"properties\": {\n        \"dtype\": \"string\",\n        \"num_unique_values\": 208,\n        \"samples\": [\n          \"The factor\",\n          \"frequency\",\n          \"relaxation time\"\n        ],\n        \"semantic_type\": \"\",\n        \"description\": \"\"\n      }\n    },\n    {\n      \"column\": \"tokenized_sentence\",\n      \"properties\": {\n        \"dtype\": \"object\",\n        \"semantic_type\": \"\",\n        \"description\": \"\"\n      }\n    }\n  ]\n}"
            }
          },
          "metadata": {},
          "execution_count": 11
        }
      ]
    },
    {
      "cell_type": "markdown",
      "source": [
        "# Labelling :"
      ],
      "metadata": {
        "id": "goYWP00fcMRa"
      }
    },
    {
      "cell_type": "code",
      "source": [
        "sentence = [\"The\",\"quick\",\"brown\",\"fox\" ,\"jumps\" ,\"over\",\"the\",\"lazy\",\"dog\"]\n",
        "word = \"The quick brown fox\"\n",
        "word_tokened = word.split()\n",
        "start = sentence.index(word_tokened[0])\n",
        "end = sentence.index(word_tokened[-1])\n",
        "\n",
        "for i in range(start,end+1) :\n",
        "  if i == start :\n",
        "    sentence[i] = \"B-NAME\"\n",
        "  else :\n",
        "    sentence[i] = \"I-NAME\""
      ],
      "metadata": {
        "id": "qHDTtBqnGAn_"
      },
      "execution_count": 12,
      "outputs": []
    },
    {
      "cell_type": "code",
      "source": [
        "def labeling(dataframe):\n",
        "  labz = []\n",
        "  for var , name , tokenized_sents in zip(dataframe[\"vars\"],dataframe[\"names\"],dataframe[\"tokenized_sentence\"]) :\n",
        "    # initilaising everything as oustide of entity\n",
        "    labels = ['O']*len(tokenized_sents)\n",
        "    # anonattating variable name\n",
        "    if var in tokenized_sents :\n",
        "      idx = tokenized_sents.index(var)\n",
        "      labels[idx] = \"B-VAR\"\n",
        "\n",
        "    tokenized_name = name.split()\n",
        "    # dealing with names :\n",
        "    if len(tokenized_name) > 1 :\n",
        "      if tokenized_name[0] in  tokenized_sents :\n",
        "        # getting name start index\n",
        "        start_idx = tokenized_sents.index(tokenized_name[0])\n",
        "        # getting name end index\n",
        "        end_idx = tokenized_sents.index(tokenized_name[-1])\n",
        "\n",
        "        # looping over the labels :\n",
        "        for i in range(start_idx,end_idx+1) :\n",
        "          if i == start_idx :\n",
        "            labels[i] = \"B-NAME\"\n",
        "          else :\n",
        "            labels[i] = \"I-NAME\"\n",
        "    elif len(tokenized_name) == 1 :\n",
        "      if tokenized_name in tokenized_sents :\n",
        "        idx = tokenized_sents.index(tokenized_name)\n",
        "        labels[i] = \"B-NAME\"\n",
        "    labz.append(labels)\n",
        "  return labz"
      ],
      "metadata": {
        "id": "rgrWsOFGc6Nq"
      },
      "execution_count": 13,
      "outputs": []
    },
    {
      "cell_type": "code",
      "source": [
        "df[\"labels\"] = labeling(df)\n",
        "df"
      ],
      "metadata": {
        "colab": {
          "base_uri": "https://localhost:8080/",
          "height": 545
        },
        "id": "GYr5ca8jc-Jp",
        "outputId": "d919b4b1-d14b-4678-9e59-7ca070b2f086"
      },
      "execution_count": 14,
      "outputs": [
        {
          "output_type": "execute_result",
          "data": {
            "text/plain": [
              "                                              sentence           vars  \\\n",
              "0       The loading term becomes relevant at a time τ               τ   \n",
              "1            we get easily for the rupture force  f ∗               f   \n",
              "2    Green’s theorem can be used to show that the v...        d3xG(x)   \n",
              "3                                    at a ﬁxed point x              x   \n",
              "4    it will be quite small (|K| is large) around t...              x   \n",
              "..                                                 ...            ...   \n",
              "296  we are inspired by the recent advances in the ...  (information)   \n",
              "297            then the correlation function  C(A, B)         C(A, B)   \n",
              "298  Next is to utilize the perturbation expansion ...              f   \n",
              "299                        the resonator voltage V  f               V   \n",
              "300  It is worth noting that without loss of genera...             z2   \n",
              "\n",
              "                                      names  \\\n",
              "0                                    a time   \n",
              "1                         the rupture force   \n",
              "2                                the volume   \n",
              "3                                     point   \n",
              "4                                 the point   \n",
              "..                                      ...   \n",
              "296                                 quantum   \n",
              "297                the correlation function   \n",
              "298  the longitudinal distribution function   \n",
              "299                   the resonator voltage   \n",
              "300                       the spatial scale   \n",
              "\n",
              "                                    tokenized_sentence  \\\n",
              "0    [The, loading, term, becomes, relevant, at, a,...   \n",
              "1    [we, get, easily, for, the, rupture, force, f, ∗]   \n",
              "2    [Green’s, theorem, can, be, used, to, show, th...   \n",
              "3                              [at, a, ﬁxed, point, x]   \n",
              "4    [it, will, be, quite, small, (|K|, is, large),...   \n",
              "..                                                 ...   \n",
              "296  [we, are, inspired, by, the, recent, advances,...   \n",
              "297        [then, the, correlation, function, C(A, B)]   \n",
              "298  [Next, is, to, utilize, the, perturbation, exp...   \n",
              "299                    [the, resonator, voltage, V, f]   \n",
              "300  [It, is, worth, noting, that, without, loss, o...   \n",
              "\n",
              "                                                labels  \n",
              "0            [O, O, O, O, O, O, B-NAME, I-NAME, B-VAR]  \n",
              "1       [O, O, O, O, B-NAME, I-NAME, I-NAME, B-VAR, O]  \n",
              "2    [O, O, O, O, O, O, O, O, B-NAME, I-NAME, O, O,...  \n",
              "3                                  [O, O, O, O, B-VAR]  \n",
              "4    [O, O, O, O, O, O, O, O, O, B-NAME, I-NAME, B-...  \n",
              "..                                                 ...  \n",
              "296     [O, O, O, O, O, O, O, O, O, O, O, O, B-VAR, O]  \n",
              "297                 [O, B-NAME, I-NAME, I-NAME, B-VAR]  \n",
              "298  [O, O, O, O, B-NAME, I-NAME, I-NAME, I-NAME, I...  \n",
              "299                 [B-NAME, I-NAME, I-NAME, B-VAR, O]  \n",
              "300  [O, O, O, O, O, O, O, O, O, O, O, O, O, B-NAME...  \n",
              "\n",
              "[301 rows x 5 columns]"
            ],
            "text/html": [
              "\n",
              "  <div id=\"df-d3f2ae9c-5318-4280-ab77-6dedeada469a\" class=\"colab-df-container\">\n",
              "    <div>\n",
              "<style scoped>\n",
              "    .dataframe tbody tr th:only-of-type {\n",
              "        vertical-align: middle;\n",
              "    }\n",
              "\n",
              "    .dataframe tbody tr th {\n",
              "        vertical-align: top;\n",
              "    }\n",
              "\n",
              "    .dataframe thead th {\n",
              "        text-align: right;\n",
              "    }\n",
              "</style>\n",
              "<table border=\"1\" class=\"dataframe\">\n",
              "  <thead>\n",
              "    <tr style=\"text-align: right;\">\n",
              "      <th></th>\n",
              "      <th>sentence</th>\n",
              "      <th>vars</th>\n",
              "      <th>names</th>\n",
              "      <th>tokenized_sentence</th>\n",
              "      <th>labels</th>\n",
              "    </tr>\n",
              "  </thead>\n",
              "  <tbody>\n",
              "    <tr>\n",
              "      <th>0</th>\n",
              "      <td>The loading term becomes relevant at a time τ</td>\n",
              "      <td>τ</td>\n",
              "      <td>a time</td>\n",
              "      <td>[The, loading, term, becomes, relevant, at, a,...</td>\n",
              "      <td>[O, O, O, O, O, O, B-NAME, I-NAME, B-VAR]</td>\n",
              "    </tr>\n",
              "    <tr>\n",
              "      <th>1</th>\n",
              "      <td>we get easily for the rupture force  f ∗</td>\n",
              "      <td>f</td>\n",
              "      <td>the rupture force</td>\n",
              "      <td>[we, get, easily, for, the, rupture, force, f, ∗]</td>\n",
              "      <td>[O, O, O, O, B-NAME, I-NAME, I-NAME, B-VAR, O]</td>\n",
              "    </tr>\n",
              "    <tr>\n",
              "      <th>2</th>\n",
              "      <td>Green’s theorem can be used to show that the v...</td>\n",
              "      <td>d3xG(x)</td>\n",
              "      <td>the volume</td>\n",
              "      <td>[Green’s, theorem, can, be, used, to, show, th...</td>\n",
              "      <td>[O, O, O, O, O, O, O, O, B-NAME, I-NAME, O, O,...</td>\n",
              "    </tr>\n",
              "    <tr>\n",
              "      <th>3</th>\n",
              "      <td>at a ﬁxed point x</td>\n",
              "      <td>x</td>\n",
              "      <td>point</td>\n",
              "      <td>[at, a, ﬁxed, point, x]</td>\n",
              "      <td>[O, O, O, O, B-VAR]</td>\n",
              "    </tr>\n",
              "    <tr>\n",
              "      <th>4</th>\n",
              "      <td>it will be quite small (|K| is large) around t...</td>\n",
              "      <td>x</td>\n",
              "      <td>the point</td>\n",
              "      <td>[it, will, be, quite, small, (|K|, is, large),...</td>\n",
              "      <td>[O, O, O, O, O, O, O, O, O, B-NAME, I-NAME, B-...</td>\n",
              "    </tr>\n",
              "    <tr>\n",
              "      <th>...</th>\n",
              "      <td>...</td>\n",
              "      <td>...</td>\n",
              "      <td>...</td>\n",
              "      <td>...</td>\n",
              "      <td>...</td>\n",
              "    </tr>\n",
              "    <tr>\n",
              "      <th>296</th>\n",
              "      <td>we are inspired by the recent advances in the ...</td>\n",
              "      <td>(information)</td>\n",
              "      <td>quantum</td>\n",
              "      <td>[we, are, inspired, by, the, recent, advances,...</td>\n",
              "      <td>[O, O, O, O, O, O, O, O, O, O, O, O, B-VAR, O]</td>\n",
              "    </tr>\n",
              "    <tr>\n",
              "      <th>297</th>\n",
              "      <td>then the correlation function  C(A, B)</td>\n",
              "      <td>C(A, B)</td>\n",
              "      <td>the correlation function</td>\n",
              "      <td>[then, the, correlation, function, C(A, B)]</td>\n",
              "      <td>[O, B-NAME, I-NAME, I-NAME, B-VAR]</td>\n",
              "    </tr>\n",
              "    <tr>\n",
              "      <th>298</th>\n",
              "      <td>Next is to utilize the perturbation expansion ...</td>\n",
              "      <td>f</td>\n",
              "      <td>the longitudinal distribution function</td>\n",
              "      <td>[Next, is, to, utilize, the, perturbation, exp...</td>\n",
              "      <td>[O, O, O, O, B-NAME, I-NAME, I-NAME, I-NAME, I...</td>\n",
              "    </tr>\n",
              "    <tr>\n",
              "      <th>299</th>\n",
              "      <td>the resonator voltage V  f</td>\n",
              "      <td>V</td>\n",
              "      <td>the resonator voltage</td>\n",
              "      <td>[the, resonator, voltage, V, f]</td>\n",
              "      <td>[B-NAME, I-NAME, I-NAME, B-VAR, O]</td>\n",
              "    </tr>\n",
              "    <tr>\n",
              "      <th>300</th>\n",
              "      <td>It is worth noting that without loss of genera...</td>\n",
              "      <td>z2</td>\n",
              "      <td>the spatial scale</td>\n",
              "      <td>[It, is, worth, noting, that, without, loss, o...</td>\n",
              "      <td>[O, O, O, O, O, O, O, O, O, O, O, O, O, B-NAME...</td>\n",
              "    </tr>\n",
              "  </tbody>\n",
              "</table>\n",
              "<p>301 rows × 5 columns</p>\n",
              "</div>\n",
              "    <div class=\"colab-df-buttons\">\n",
              "\n",
              "  <div class=\"colab-df-container\">\n",
              "    <button class=\"colab-df-convert\" onclick=\"convertToInteractive('df-d3f2ae9c-5318-4280-ab77-6dedeada469a')\"\n",
              "            title=\"Convert this dataframe to an interactive table.\"\n",
              "            style=\"display:none;\">\n",
              "\n",
              "  <svg xmlns=\"http://www.w3.org/2000/svg\" height=\"24px\" viewBox=\"0 -960 960 960\">\n",
              "    <path d=\"M120-120v-720h720v720H120Zm60-500h600v-160H180v160Zm220 220h160v-160H400v160Zm0 220h160v-160H400v160ZM180-400h160v-160H180v160Zm440 0h160v-160H620v160ZM180-180h160v-160H180v160Zm440 0h160v-160H620v160Z\"/>\n",
              "  </svg>\n",
              "    </button>\n",
              "\n",
              "  <style>\n",
              "    .colab-df-container {\n",
              "      display:flex;\n",
              "      gap: 12px;\n",
              "    }\n",
              "\n",
              "    .colab-df-convert {\n",
              "      background-color: #E8F0FE;\n",
              "      border: none;\n",
              "      border-radius: 50%;\n",
              "      cursor: pointer;\n",
              "      display: none;\n",
              "      fill: #1967D2;\n",
              "      height: 32px;\n",
              "      padding: 0 0 0 0;\n",
              "      width: 32px;\n",
              "    }\n",
              "\n",
              "    .colab-df-convert:hover {\n",
              "      background-color: #E2EBFA;\n",
              "      box-shadow: 0px 1px 2px rgba(60, 64, 67, 0.3), 0px 1px 3px 1px rgba(60, 64, 67, 0.15);\n",
              "      fill: #174EA6;\n",
              "    }\n",
              "\n",
              "    .colab-df-buttons div {\n",
              "      margin-bottom: 4px;\n",
              "    }\n",
              "\n",
              "    [theme=dark] .colab-df-convert {\n",
              "      background-color: #3B4455;\n",
              "      fill: #D2E3FC;\n",
              "    }\n",
              "\n",
              "    [theme=dark] .colab-df-convert:hover {\n",
              "      background-color: #434B5C;\n",
              "      box-shadow: 0px 1px 3px 1px rgba(0, 0, 0, 0.15);\n",
              "      filter: drop-shadow(0px 1px 2px rgba(0, 0, 0, 0.3));\n",
              "      fill: #FFFFFF;\n",
              "    }\n",
              "  </style>\n",
              "\n",
              "    <script>\n",
              "      const buttonEl =\n",
              "        document.querySelector('#df-d3f2ae9c-5318-4280-ab77-6dedeada469a button.colab-df-convert');\n",
              "      buttonEl.style.display =\n",
              "        google.colab.kernel.accessAllowed ? 'block' : 'none';\n",
              "\n",
              "      async function convertToInteractive(key) {\n",
              "        const element = document.querySelector('#df-d3f2ae9c-5318-4280-ab77-6dedeada469a');\n",
              "        const dataTable =\n",
              "          await google.colab.kernel.invokeFunction('convertToInteractive',\n",
              "                                                    [key], {});\n",
              "        if (!dataTable) return;\n",
              "\n",
              "        const docLinkHtml = 'Like what you see? Visit the ' +\n",
              "          '<a target=\"_blank\" href=https://colab.research.google.com/notebooks/data_table.ipynb>data table notebook</a>'\n",
              "          + ' to learn more about interactive tables.';\n",
              "        element.innerHTML = '';\n",
              "        dataTable['output_type'] = 'display_data';\n",
              "        await google.colab.output.renderOutput(dataTable, element);\n",
              "        const docLink = document.createElement('div');\n",
              "        docLink.innerHTML = docLinkHtml;\n",
              "        element.appendChild(docLink);\n",
              "      }\n",
              "    </script>\n",
              "  </div>\n",
              "\n",
              "\n",
              "<div id=\"df-ce726a82-a265-48db-bc35-a4d45f59f4f0\">\n",
              "  <button class=\"colab-df-quickchart\" onclick=\"quickchart('df-ce726a82-a265-48db-bc35-a4d45f59f4f0')\"\n",
              "            title=\"Suggest charts\"\n",
              "            style=\"display:none;\">\n",
              "\n",
              "<svg xmlns=\"http://www.w3.org/2000/svg\" height=\"24px\"viewBox=\"0 0 24 24\"\n",
              "     width=\"24px\">\n",
              "    <g>\n",
              "        <path d=\"M19 3H5c-1.1 0-2 .9-2 2v14c0 1.1.9 2 2 2h14c1.1 0 2-.9 2-2V5c0-1.1-.9-2-2-2zM9 17H7v-7h2v7zm4 0h-2V7h2v10zm4 0h-2v-4h2v4z\"/>\n",
              "    </g>\n",
              "</svg>\n",
              "  </button>\n",
              "\n",
              "<style>\n",
              "  .colab-df-quickchart {\n",
              "      --bg-color: #E8F0FE;\n",
              "      --fill-color: #1967D2;\n",
              "      --hover-bg-color: #E2EBFA;\n",
              "      --hover-fill-color: #174EA6;\n",
              "      --disabled-fill-color: #AAA;\n",
              "      --disabled-bg-color: #DDD;\n",
              "  }\n",
              "\n",
              "  [theme=dark] .colab-df-quickchart {\n",
              "      --bg-color: #3B4455;\n",
              "      --fill-color: #D2E3FC;\n",
              "      --hover-bg-color: #434B5C;\n",
              "      --hover-fill-color: #FFFFFF;\n",
              "      --disabled-bg-color: #3B4455;\n",
              "      --disabled-fill-color: #666;\n",
              "  }\n",
              "\n",
              "  .colab-df-quickchart {\n",
              "    background-color: var(--bg-color);\n",
              "    border: none;\n",
              "    border-radius: 50%;\n",
              "    cursor: pointer;\n",
              "    display: none;\n",
              "    fill: var(--fill-color);\n",
              "    height: 32px;\n",
              "    padding: 0;\n",
              "    width: 32px;\n",
              "  }\n",
              "\n",
              "  .colab-df-quickchart:hover {\n",
              "    background-color: var(--hover-bg-color);\n",
              "    box-shadow: 0 1px 2px rgba(60, 64, 67, 0.3), 0 1px 3px 1px rgba(60, 64, 67, 0.15);\n",
              "    fill: var(--button-hover-fill-color);\n",
              "  }\n",
              "\n",
              "  .colab-df-quickchart-complete:disabled,\n",
              "  .colab-df-quickchart-complete:disabled:hover {\n",
              "    background-color: var(--disabled-bg-color);\n",
              "    fill: var(--disabled-fill-color);\n",
              "    box-shadow: none;\n",
              "  }\n",
              "\n",
              "  .colab-df-spinner {\n",
              "    border: 2px solid var(--fill-color);\n",
              "    border-color: transparent;\n",
              "    border-bottom-color: var(--fill-color);\n",
              "    animation:\n",
              "      spin 1s steps(1) infinite;\n",
              "  }\n",
              "\n",
              "  @keyframes spin {\n",
              "    0% {\n",
              "      border-color: transparent;\n",
              "      border-bottom-color: var(--fill-color);\n",
              "      border-left-color: var(--fill-color);\n",
              "    }\n",
              "    20% {\n",
              "      border-color: transparent;\n",
              "      border-left-color: var(--fill-color);\n",
              "      border-top-color: var(--fill-color);\n",
              "    }\n",
              "    30% {\n",
              "      border-color: transparent;\n",
              "      border-left-color: var(--fill-color);\n",
              "      border-top-color: var(--fill-color);\n",
              "      border-right-color: var(--fill-color);\n",
              "    }\n",
              "    40% {\n",
              "      border-color: transparent;\n",
              "      border-right-color: var(--fill-color);\n",
              "      border-top-color: var(--fill-color);\n",
              "    }\n",
              "    60% {\n",
              "      border-color: transparent;\n",
              "      border-right-color: var(--fill-color);\n",
              "    }\n",
              "    80% {\n",
              "      border-color: transparent;\n",
              "      border-right-color: var(--fill-color);\n",
              "      border-bottom-color: var(--fill-color);\n",
              "    }\n",
              "    90% {\n",
              "      border-color: transparent;\n",
              "      border-bottom-color: var(--fill-color);\n",
              "    }\n",
              "  }\n",
              "</style>\n",
              "\n",
              "  <script>\n",
              "    async function quickchart(key) {\n",
              "      const quickchartButtonEl =\n",
              "        document.querySelector('#' + key + ' button');\n",
              "      quickchartButtonEl.disabled = true;  // To prevent multiple clicks.\n",
              "      quickchartButtonEl.classList.add('colab-df-spinner');\n",
              "      try {\n",
              "        const charts = await google.colab.kernel.invokeFunction(\n",
              "            'suggestCharts', [key], {});\n",
              "      } catch (error) {\n",
              "        console.error('Error during call to suggestCharts:', error);\n",
              "      }\n",
              "      quickchartButtonEl.classList.remove('colab-df-spinner');\n",
              "      quickchartButtonEl.classList.add('colab-df-quickchart-complete');\n",
              "    }\n",
              "    (() => {\n",
              "      let quickchartButtonEl =\n",
              "        document.querySelector('#df-ce726a82-a265-48db-bc35-a4d45f59f4f0 button');\n",
              "      quickchartButtonEl.style.display =\n",
              "        google.colab.kernel.accessAllowed ? 'block' : 'none';\n",
              "    })();\n",
              "  </script>\n",
              "</div>\n",
              "\n",
              "  <div id=\"id_5f0bd28f-44a8-4e45-bbe3-a6281fe4c3cc\">\n",
              "    <style>\n",
              "      .colab-df-generate {\n",
              "        background-color: #E8F0FE;\n",
              "        border: none;\n",
              "        border-radius: 50%;\n",
              "        cursor: pointer;\n",
              "        display: none;\n",
              "        fill: #1967D2;\n",
              "        height: 32px;\n",
              "        padding: 0 0 0 0;\n",
              "        width: 32px;\n",
              "      }\n",
              "\n",
              "      .colab-df-generate:hover {\n",
              "        background-color: #E2EBFA;\n",
              "        box-shadow: 0px 1px 2px rgba(60, 64, 67, 0.3), 0px 1px 3px 1px rgba(60, 64, 67, 0.15);\n",
              "        fill: #174EA6;\n",
              "      }\n",
              "\n",
              "      [theme=dark] .colab-df-generate {\n",
              "        background-color: #3B4455;\n",
              "        fill: #D2E3FC;\n",
              "      }\n",
              "\n",
              "      [theme=dark] .colab-df-generate:hover {\n",
              "        background-color: #434B5C;\n",
              "        box-shadow: 0px 1px 3px 1px rgba(0, 0, 0, 0.15);\n",
              "        filter: drop-shadow(0px 1px 2px rgba(0, 0, 0, 0.3));\n",
              "        fill: #FFFFFF;\n",
              "      }\n",
              "    </style>\n",
              "    <button class=\"colab-df-generate\" onclick=\"generateWithVariable('df')\"\n",
              "            title=\"Generate code using this dataframe.\"\n",
              "            style=\"display:none;\">\n",
              "\n",
              "  <svg xmlns=\"http://www.w3.org/2000/svg\" height=\"24px\"viewBox=\"0 0 24 24\"\n",
              "       width=\"24px\">\n",
              "    <path d=\"M7,19H8.4L18.45,9,17,7.55,7,17.6ZM5,21V16.75L18.45,3.32a2,2,0,0,1,2.83,0l1.4,1.43a1.91,1.91,0,0,1,.58,1.4,1.91,1.91,0,0,1-.58,1.4L9.25,21ZM18.45,9,17,7.55Zm-12,3A5.31,5.31,0,0,0,4.9,8.1,5.31,5.31,0,0,0,1,6.5,5.31,5.31,0,0,0,4.9,4.9,5.31,5.31,0,0,0,6.5,1,5.31,5.31,0,0,0,8.1,4.9,5.31,5.31,0,0,0,12,6.5,5.46,5.46,0,0,0,6.5,12Z\"/>\n",
              "  </svg>\n",
              "    </button>\n",
              "    <script>\n",
              "      (() => {\n",
              "      const buttonEl =\n",
              "        document.querySelector('#id_5f0bd28f-44a8-4e45-bbe3-a6281fe4c3cc button.colab-df-generate');\n",
              "      buttonEl.style.display =\n",
              "        google.colab.kernel.accessAllowed ? 'block' : 'none';\n",
              "\n",
              "      buttonEl.onclick = () => {\n",
              "        google.colab.notebook.generateWithVariable('df');\n",
              "      }\n",
              "      })();\n",
              "    </script>\n",
              "  </div>\n",
              "\n",
              "    </div>\n",
              "  </div>\n"
            ],
            "application/vnd.google.colaboratory.intrinsic+json": {
              "type": "dataframe",
              "variable_name": "df",
              "summary": "{\n  \"name\": \"df\",\n  \"rows\": 301,\n  \"fields\": [\n    {\n      \"column\": \"sentence\",\n      \"properties\": {\n        \"dtype\": \"string\",\n        \"num_unique_values\": 245,\n        \"samples\": [\n          \"while the \\ufb01rst initial condition gets the form \\u03c6(\\u03c1) \",\n          \"the distance between two balls - is \\u03bb \",\n          \"But the major problem with a pair of symmetric potentials  is V(R) \"\n        ],\n        \"semantic_type\": \"\",\n        \"description\": \"\"\n      }\n    },\n    {\n      \"column\": \"vars\",\n      \"properties\": {\n        \"dtype\": \"category\",\n        \"num_unique_values\": 126,\n        \"samples\": [\n          \"A\",\n          \"\\u03c6(\\u03c1)\",\n          \"R(\\u03be, t)\"\n        ],\n        \"semantic_type\": \"\",\n        \"description\": \"\"\n      }\n    },\n    {\n      \"column\": \"names\",\n      \"properties\": {\n        \"dtype\": \"string\",\n        \"num_unique_values\": 208,\n        \"samples\": [\n          \"The factor\",\n          \"frequency\",\n          \"relaxation time\"\n        ],\n        \"semantic_type\": \"\",\n        \"description\": \"\"\n      }\n    },\n    {\n      \"column\": \"tokenized_sentence\",\n      \"properties\": {\n        \"dtype\": \"object\",\n        \"semantic_type\": \"\",\n        \"description\": \"\"\n      }\n    },\n    {\n      \"column\": \"labels\",\n      \"properties\": {\n        \"dtype\": \"object\",\n        \"semantic_type\": \"\",\n        \"description\": \"\"\n      }\n    }\n  ]\n}"
            }
          },
          "metadata": {},
          "execution_count": 14
        }
      ]
    },
    {
      "cell_type": "code",
      "source": [
        "df[\"labels\"][1]"
      ],
      "metadata": {
        "colab": {
          "base_uri": "https://localhost:8080/"
        },
        "id": "lxJf4ngwDg-7",
        "outputId": "ee1ebceb-2a0a-4732-c7f3-ab204e902166"
      },
      "execution_count": 15,
      "outputs": [
        {
          "output_type": "execute_result",
          "data": {
            "text/plain": [
              "['O', 'O', 'O', 'O', 'B-NAME', 'I-NAME', 'I-NAME', 'B-VAR', 'O']"
            ]
          },
          "metadata": {},
          "execution_count": 15
        }
      ]
    },
    {
      "cell_type": "markdown",
      "source": [
        "# Fintuning model :"
      ],
      "metadata": {
        "id": "51FCDuno9k9A"
      }
    },
    {
      "cell_type": "markdown",
      "source": [
        "## Data Encoding"
      ],
      "metadata": {
        "id": "vfqjxEAC7Pke"
      }
    },
    {
      "cell_type": "code",
      "source": [
        "def custom_tokenizer(text) :\n",
        "\n",
        "  # defining function pattern\n",
        "  func_name = r\"α-ωA-Za-zΑ-Ω0-9ℰℓℒℳøℂℕℙℚℝℤΓΔΛΞΠΣΦΨΩÅℏ∞∘∂∫∮∯∇αβγ∅\"\n",
        "  func_var = r\"A-Za-zα-ωΑ-ΩℰℓℒℳøℂℕℙℚℝℤΓΔΛΞΠΣΦΨΩÅℏ∞∘∂∫∮∯∇αβγ∅\"\n",
        "  func_pattern = fr\"(.|)([{func_name}]{{1,3}}(′|.|)\\([{func_var}](,\\s*[{func_var}])*\\))\"\n",
        "\n",
        "  # getting math functions\n",
        "  matches = re.findall(func_pattern, text)\n",
        "\n",
        "  # getting only second-group matches (the functions)\n",
        "  functions = [match[1] for match in matches]\n",
        "  func_saver = iter(functions.copy())\n",
        "\n",
        "\n",
        "\n",
        "  # Replace math functions with temporary markers\n",
        "  for func in functions:\n",
        "    text = text.replace(func, \"[FUNC]\")\n",
        "\n",
        "\n",
        "  # Tokenize the rest of the text\n",
        "  tokens = text.split()\n",
        "\n",
        "  # Replace temporary markers with original functions\n",
        "  new_tokens = [next(func_saver) if '[FUNC]' in token else token for token in tokens]\n",
        "\n",
        "  return new_tokens"
      ],
      "metadata": {
        "id": "ayZIEASGGv4h"
      },
      "execution_count": 16,
      "outputs": []
    },
    {
      "cell_type": "code",
      "source": [
        "class CustomDistilBertTokenizer(DistilBertTokenizer):\n",
        "    def __init__(self, *args, **kwargs):\n",
        "        super().__init__(*args, **kwargs)\n",
        "\n",
        "    def tokenize(self, text, **kwargs):\n",
        "        return custom_tokenizer(text)"
      ],
      "metadata": {
        "id": "-M67dPrNt2Xe"
      },
      "execution_count": null,
      "outputs": []
    },
    {
      "cell_type": "code",
      "source": [
        "def vocab_stats(model,tokenizer) :\n",
        "  print(f\"Tokenizer vocabulary size  : {len(tokenizer)}\")\n",
        "  print(f\"Model embedding size : {model.get_input_embeddings().weight.shape[0]}\")\n",
        "  print(\"-\"*50)"
      ],
      "metadata": {
        "id": "wUgzYahekIDo"
      },
      "execution_count": null,
      "outputs": []
    },
    {
      "cell_type": "code",
      "source": [
        "# defining labels\n",
        "label2id = {'O': 0, 'B-VAR': 1, 'B-NAME': 2, 'I-NAME': 3}\n",
        "id2label = {v: k for k, v in label2id.items()}\n",
        "num_labels = len(set(label for labels in df['labels'] for label in labels))"
      ],
      "metadata": {
        "id": "OWl6eaMilBCL"
      },
      "execution_count": null,
      "outputs": []
    },
    {
      "cell_type": "code",
      "source": [
        "# defining the tokenizer and the model\n",
        "tokenizer = CustomDistilBertTokenizer.from_pretrained('distilbert-base-uncased')\n",
        "model = DistilBertForTokenClassification.from_pretrained(\"distilbert-base-uncased\", num_labels=4, id2label=id2label, label2id=label2id)\n",
        "\n",
        "if torch.cuda.is_available():\n",
        "    model = model.to('cuda')"
      ],
      "metadata": {
        "colab": {
          "base_uri": "https://localhost:8080/"
        },
        "id": "HV3Wod8C8ri7",
        "outputId": "5bef62d5-6579-4cd0-df45-cf8bd2b31b68"
      },
      "execution_count": null,
      "outputs": [
        {
          "output_type": "stream",
          "name": "stderr",
          "text": [
            "The tokenizer class you load from this checkpoint is not the same type as the class this function is called from. It may result in unexpected tokenization. \n",
            "The tokenizer class you load from this checkpoint is 'DistilBertTokenizer'. \n",
            "The class this function is called from is 'CustomDistilBertTokenizer'.\n",
            "Some weights of DistilBertForTokenClassification were not initialized from the model checkpoint at distilbert-base-uncased and are newly initialized: ['classifier.bias', 'classifier.weight']\n",
            "You should probably TRAIN this model on a down-stream task to be able to use it for predictions and inference.\n"
          ]
        }
      ]
    },
    {
      "cell_type": "code",
      "source": [
        "# vocab stats before adding the tokens\n",
        "vocab_stats(model,tokenizer)\n",
        "\n",
        "num_added_tokens = tokenizer.add_tokens(added_tokens)\n",
        "print(\"number of tokens added :\" ,num_added_tokens)\n",
        "\n",
        "model.resize_token_embeddings(len(tokenizer))\n",
        "\n",
        "# vocab stats after adding the tokens\n",
        "vocab_stats(model,tokenizer)"
      ],
      "metadata": {
        "colab": {
          "base_uri": "https://localhost:8080/"
        },
        "id": "mTR1TvD9jQnK",
        "outputId": "398f3e60-1520-4342-8fe4-39022fefb694"
      },
      "execution_count": null,
      "outputs": [
        {
          "output_type": "stream",
          "name": "stdout",
          "text": [
            "Tokenizer vocabulary size  : 30522\n",
            "Model embedding size : 30522\n",
            "--------------------------------------------------\n",
            "number of tokens added : 67\n",
            "Tokenizer vocabulary size  : 30589\n",
            "Model embedding size : 30589\n",
            "--------------------------------------------------\n"
          ]
        }
      ]
    },
    {
      "cell_type": "code",
      "source": [
        "# checking non-added tokens and adding them\n",
        "special_tokens=[]\n",
        "vocab = tokenizer.get_vocab()\n",
        "for token in added_tokens:\n",
        "    if token not in vocab:\n",
        "        special_tokens.append(token)"
      ],
      "metadata": {
        "id": "bbcnTOaOW7g8",
        "collapsed": true
      },
      "execution_count": null,
      "outputs": []
    },
    {
      "cell_type": "code",
      "source": [
        "#special_tokens_dict = {'additional_special_tokens':special_tokens }\n",
        "#tokenizer.add_special_tokens(special_tokens_dict)\n",
        "\n",
        "# checking on the added special tokens\n",
        "#print(tokenizer.special_tokens_map)\n",
        "\n",
        "#len(tokenizer)\n",
        "\n",
        "# updating embeddings again\n",
        "#model.resize_token_embeddings(len(tokenizer))"
      ],
      "metadata": {
        "id": "AoOv8fD17zJ_"
      },
      "execution_count": null,
      "outputs": []
    },
    {
      "cell_type": "code",
      "source": [
        "# saving tokenizer\n",
        "tokenizer.save_pretrained('./tokenizah')"
      ],
      "metadata": {
        "colab": {
          "base_uri": "https://localhost:8080/"
        },
        "id": "00SFKvGL8vrG",
        "outputId": "fcf0ebfb-e278-4675-f992-ff2af3f71d58"
      },
      "execution_count": null,
      "outputs": [
        {
          "output_type": "execute_result",
          "data": {
            "text/plain": [
              "('./tokenizah/tokenizer_config.json',\n",
              " './tokenizah/special_tokens_map.json',\n",
              " './tokenizah/vocab.txt',\n",
              " './tokenizah/added_tokens.json')"
            ]
          },
          "metadata": {},
          "execution_count": 136
        }
      ]
    },
    {
      "cell_type": "code",
      "source": [
        "tokenizer = DistilBertTokenizer.from_pretrained('./tokenizah')\n",
        "\n",
        "id = tokenizer.convert_tokens_to_ids(\"f(x)\")\n",
        "id"
      ],
      "metadata": {
        "colab": {
          "base_uri": "https://localhost:8080/"
        },
        "id": "kghUgXeBVO_L",
        "outputId": "4dcabb26-256e-45ca-9572-2cda9f8b2046"
      },
      "execution_count": null,
      "outputs": [
        {
          "output_type": "stream",
          "name": "stderr",
          "text": [
            "The tokenizer class you load from this checkpoint is not the same type as the class this function is called from. It may result in unexpected tokenization. \n",
            "The tokenizer class you load from this checkpoint is 'CustomDistilBertTokenizer'. \n",
            "The class this function is called from is 'DistilBertTokenizer'.\n",
            "Special tokens have been added in the vocabulary, make sure the associated word embeddings are fine-tuned or trained.\n"
          ]
        },
        {
          "output_type": "execute_result",
          "data": {
            "text/plain": [
              "30549"
            ]
          },
          "metadata": {},
          "execution_count": 137
        }
      ]
    },
    {
      "cell_type": "code",
      "source": [
        "pip install datasets"
      ],
      "metadata": {
        "id": "sMjoo1ARPNvL",
        "colab": {
          "base_uri": "https://localhost:8080/",
          "height": 1000
        },
        "collapsed": true,
        "outputId": "ac87c592-e14c-417d-8321-e2a761a87a9e"
      },
      "execution_count": 27,
      "outputs": [
        {
          "output_type": "stream",
          "name": "stdout",
          "text": [
            "Collecting datasets\n",
            "  Downloading datasets-2.20.0-py3-none-any.whl.metadata (19 kB)\n",
            "Requirement already satisfied: filelock in /usr/local/lib/python3.10/dist-packages (from datasets) (3.15.4)\n",
            "Requirement already satisfied: numpy>=1.17 in /usr/local/lib/python3.10/dist-packages (from datasets) (1.26.4)\n",
            "Collecting pyarrow>=15.0.0 (from datasets)\n",
            "  Downloading pyarrow-17.0.0-cp310-cp310-manylinux_2_28_x86_64.whl.metadata (3.3 kB)\n",
            "Requirement already satisfied: pyarrow-hotfix in /usr/local/lib/python3.10/dist-packages (from datasets) (0.6)\n",
            "Collecting dill<0.3.9,>=0.3.0 (from datasets)\n",
            "  Downloading dill-0.3.8-py3-none-any.whl.metadata (10 kB)\n",
            "Requirement already satisfied: pandas in /usr/local/lib/python3.10/dist-packages (from datasets) (2.1.4)\n",
            "Requirement already satisfied: requests>=2.32.2 in /usr/local/lib/python3.10/dist-packages (from datasets) (2.32.3)\n",
            "Requirement already satisfied: tqdm>=4.66.3 in /usr/local/lib/python3.10/dist-packages (from datasets) (4.66.5)\n",
            "Collecting xxhash (from datasets)\n",
            "  Downloading xxhash-3.4.1-cp310-cp310-manylinux_2_17_x86_64.manylinux2014_x86_64.whl.metadata (12 kB)\n",
            "Collecting multiprocess (from datasets)\n",
            "  Downloading multiprocess-0.70.16-py310-none-any.whl.metadata (7.2 kB)\n",
            "Collecting fsspec<=2024.5.0,>=2023.1.0 (from fsspec[http]<=2024.5.0,>=2023.1.0->datasets)\n",
            "  Downloading fsspec-2024.5.0-py3-none-any.whl.metadata (11 kB)\n",
            "Requirement already satisfied: aiohttp in /usr/local/lib/python3.10/dist-packages (from datasets) (3.10.1)\n",
            "Requirement already satisfied: huggingface-hub>=0.21.2 in /usr/local/lib/python3.10/dist-packages (from datasets) (0.23.5)\n",
            "Requirement already satisfied: packaging in /usr/local/lib/python3.10/dist-packages (from datasets) (24.1)\n",
            "Requirement already satisfied: pyyaml>=5.1 in /usr/local/lib/python3.10/dist-packages (from datasets) (6.0.2)\n",
            "Requirement already satisfied: aiohappyeyeballs>=2.3.0 in /usr/local/lib/python3.10/dist-packages (from aiohttp->datasets) (2.3.4)\n",
            "Requirement already satisfied: aiosignal>=1.1.2 in /usr/local/lib/python3.10/dist-packages (from aiohttp->datasets) (1.3.1)\n",
            "Requirement already satisfied: attrs>=17.3.0 in /usr/local/lib/python3.10/dist-packages (from aiohttp->datasets) (24.2.0)\n",
            "Requirement already satisfied: frozenlist>=1.1.1 in /usr/local/lib/python3.10/dist-packages (from aiohttp->datasets) (1.4.1)\n",
            "Requirement already satisfied: multidict<7.0,>=4.5 in /usr/local/lib/python3.10/dist-packages (from aiohttp->datasets) (6.0.5)\n",
            "Requirement already satisfied: yarl<2.0,>=1.0 in /usr/local/lib/python3.10/dist-packages (from aiohttp->datasets) (1.9.4)\n",
            "Requirement already satisfied: async-timeout<5.0,>=4.0 in /usr/local/lib/python3.10/dist-packages (from aiohttp->datasets) (4.0.3)\n",
            "Requirement already satisfied: typing-extensions>=3.7.4.3 in /usr/local/lib/python3.10/dist-packages (from huggingface-hub>=0.21.2->datasets) (4.12.2)\n",
            "Requirement already satisfied: charset-normalizer<4,>=2 in /usr/local/lib/python3.10/dist-packages (from requests>=2.32.2->datasets) (3.3.2)\n",
            "Requirement already satisfied: idna<4,>=2.5 in /usr/local/lib/python3.10/dist-packages (from requests>=2.32.2->datasets) (3.7)\n",
            "Requirement already satisfied: urllib3<3,>=1.21.1 in /usr/local/lib/python3.10/dist-packages (from requests>=2.32.2->datasets) (2.0.7)\n",
            "Requirement already satisfied: certifi>=2017.4.17 in /usr/local/lib/python3.10/dist-packages (from requests>=2.32.2->datasets) (2024.7.4)\n",
            "Requirement already satisfied: python-dateutil>=2.8.2 in /usr/local/lib/python3.10/dist-packages (from pandas->datasets) (2.8.2)\n",
            "Requirement already satisfied: pytz>=2020.1 in /usr/local/lib/python3.10/dist-packages (from pandas->datasets) (2024.1)\n",
            "Requirement already satisfied: tzdata>=2022.1 in /usr/local/lib/python3.10/dist-packages (from pandas->datasets) (2024.1)\n",
            "Requirement already satisfied: six>=1.5 in /usr/local/lib/python3.10/dist-packages (from python-dateutil>=2.8.2->pandas->datasets) (1.16.0)\n",
            "Downloading datasets-2.20.0-py3-none-any.whl (547 kB)\n",
            "\u001b[2K   \u001b[90m━━━━━━━━━━━━━━━━━━━━━━━━━━━━━━━━━━━━━━━━\u001b[0m \u001b[32m547.8/547.8 kB\u001b[0m \u001b[31m10.5 MB/s\u001b[0m eta \u001b[36m0:00:00\u001b[0m\n",
            "\u001b[?25hDownloading dill-0.3.8-py3-none-any.whl (116 kB)\n",
            "\u001b[2K   \u001b[90m━━━━━━━━━━━━━━━━━━━━━━━━━━━━━━━━━━━━━━━━\u001b[0m \u001b[32m116.3/116.3 kB\u001b[0m \u001b[31m7.0 MB/s\u001b[0m eta \u001b[36m0:00:00\u001b[0m\n",
            "\u001b[?25hDownloading fsspec-2024.5.0-py3-none-any.whl (316 kB)\n",
            "\u001b[2K   \u001b[90m━━━━━━━━━━━━━━━━━━━━━━━━━━━━━━━━━━━━━━━━\u001b[0m \u001b[32m316.1/316.1 kB\u001b[0m \u001b[31m14.4 MB/s\u001b[0m eta \u001b[36m0:00:00\u001b[0m\n",
            "\u001b[?25hDownloading pyarrow-17.0.0-cp310-cp310-manylinux_2_28_x86_64.whl (39.9 MB)\n",
            "\u001b[2K   \u001b[90m━━━━━━━━━━━━━━━━━━━━━━━━━━━━━━━━━━━━━━━━\u001b[0m \u001b[32m39.9/39.9 MB\u001b[0m \u001b[31m25.2 MB/s\u001b[0m eta \u001b[36m0:00:00\u001b[0m\n",
            "\u001b[?25hDownloading multiprocess-0.70.16-py310-none-any.whl (134 kB)\n",
            "\u001b[2K   \u001b[90m━━━━━━━━━━━━━━━━━━━━━━━━━━━━━━━━━━━━━━━━\u001b[0m \u001b[32m134.8/134.8 kB\u001b[0m \u001b[31m4.8 MB/s\u001b[0m eta \u001b[36m0:00:00\u001b[0m\n",
            "\u001b[?25hDownloading xxhash-3.4.1-cp310-cp310-manylinux_2_17_x86_64.manylinux2014_x86_64.whl (194 kB)\n",
            "\u001b[2K   \u001b[90m━━━━━━━━━━━━━━━━━━━━━━━━━━━━━━━━━━━━━━━━\u001b[0m \u001b[32m194.1/194.1 kB\u001b[0m \u001b[31m12.3 MB/s\u001b[0m eta \u001b[36m0:00:00\u001b[0m\n",
            "\u001b[?25hInstalling collected packages: xxhash, pyarrow, fsspec, dill, multiprocess, datasets\n",
            "  Attempting uninstall: pyarrow\n",
            "    Found existing installation: pyarrow 14.0.2\n",
            "    Uninstalling pyarrow-14.0.2:\n",
            "      Successfully uninstalled pyarrow-14.0.2\n",
            "  Attempting uninstall: fsspec\n",
            "    Found existing installation: fsspec 2024.6.1\n",
            "    Uninstalling fsspec-2024.6.1:\n",
            "      Successfully uninstalled fsspec-2024.6.1\n",
            "\u001b[31mERROR: pip's dependency resolver does not currently take into account all the packages that are installed. This behaviour is the source of the following dependency conflicts.\n",
            "torch 2.3.1+cu121 requires nvidia-cublas-cu12==12.1.3.1; platform_system == \"Linux\" and platform_machine == \"x86_64\", which is not installed.\n",
            "torch 2.3.1+cu121 requires nvidia-cuda-cupti-cu12==12.1.105; platform_system == \"Linux\" and platform_machine == \"x86_64\", which is not installed.\n",
            "torch 2.3.1+cu121 requires nvidia-cuda-nvrtc-cu12==12.1.105; platform_system == \"Linux\" and platform_machine == \"x86_64\", which is not installed.\n",
            "torch 2.3.1+cu121 requires nvidia-cuda-runtime-cu12==12.1.105; platform_system == \"Linux\" and platform_machine == \"x86_64\", which is not installed.\n",
            "torch 2.3.1+cu121 requires nvidia-cudnn-cu12==8.9.2.26; platform_system == \"Linux\" and platform_machine == \"x86_64\", which is not installed.\n",
            "torch 2.3.1+cu121 requires nvidia-cufft-cu12==11.0.2.54; platform_system == \"Linux\" and platform_machine == \"x86_64\", which is not installed.\n",
            "torch 2.3.1+cu121 requires nvidia-curand-cu12==10.3.2.106; platform_system == \"Linux\" and platform_machine == \"x86_64\", which is not installed.\n",
            "torch 2.3.1+cu121 requires nvidia-cusolver-cu12==11.4.5.107; platform_system == \"Linux\" and platform_machine == \"x86_64\", which is not installed.\n",
            "torch 2.3.1+cu121 requires nvidia-cusparse-cu12==12.1.0.106; platform_system == \"Linux\" and platform_machine == \"x86_64\", which is not installed.\n",
            "torch 2.3.1+cu121 requires nvidia-nccl-cu12==2.20.5; platform_system == \"Linux\" and platform_machine == \"x86_64\", which is not installed.\n",
            "torch 2.3.1+cu121 requires nvidia-nvtx-cu12==12.1.105; platform_system == \"Linux\" and platform_machine == \"x86_64\", which is not installed.\n",
            "cudf-cu12 24.4.1 requires pyarrow<15.0.0a0,>=14.0.1, but you have pyarrow 17.0.0 which is incompatible.\n",
            "gcsfs 2024.6.1 requires fsspec==2024.6.1, but you have fsspec 2024.5.0 which is incompatible.\n",
            "ibis-framework 8.0.0 requires pyarrow<16,>=2, but you have pyarrow 17.0.0 which is incompatible.\u001b[0m\u001b[31m\n",
            "\u001b[0mSuccessfully installed datasets-2.20.0 dill-0.3.8 fsspec-2024.5.0 multiprocess-0.70.16 pyarrow-17.0.0 xxhash-3.4.1\n"
          ]
        },
        {
          "output_type": "display_data",
          "data": {
            "application/vnd.colab-display-data+json": {
              "pip_warning": {
                "packages": [
                  "pyarrow"
                ]
              },
              "id": "00f09c49120549e1817ecfcdfd3cf570"
            }
          },
          "metadata": {}
        }
      ]
    },
    {
      "cell_type": "code",
      "source": [
        "# Convert DataFrame to Dataset\n",
        "dataset = Dataset.from_pandas(df)"
      ],
      "metadata": {
        "id": "Apwehy-FrnkG"
      },
      "execution_count": null,
      "outputs": []
    },
    {
      "cell_type": "code",
      "source": [
        "dataset"
      ],
      "metadata": {
        "id": "4VGoK14_spwS"
      },
      "execution_count": null,
      "outputs": []
    },
    {
      "cell_type": "code",
      "source": [
        "text = \"f(x) and g(y)\"\n",
        "\n",
        "encoded = tokenizer(\n",
        "    text,\n",
        "    padding='max_length',\n",
        "    truncation=True,\n",
        "    max_length=128\n",
        ")\n",
        "\n",
        "# Extract token IDs and attention masks\n",
        "token_ids = encoded['input_ids']\n",
        "attention_mask = encoded['attention_mask']\n",
        "\n",
        "print(\"Token IDs:\", token_ids)\n",
        "print(\"Attention Mask:\", attention_mask)"
      ],
      "metadata": {
        "id": "1hCMuHUHGvVn"
      },
      "execution_count": null,
      "outputs": []
    },
    {
      "cell_type": "code",
      "source": [
        "example = {\n",
        "    'tokenized_sentence': ['f(x)',\"is\",\"a\",\"function\"],\n",
        "    'labels': ['B-VAR', 'O','B-NAME', 'I-NAME']\n",
        "}\n",
        "\n",
        "encoded = tokenizer(\n",
        "    ' '.join(example['tokenized_sentence']),\n",
        "    padding='max_length',\n",
        "    truncation=True,\n",
        "    max_length=128,\n",
        ")\n",
        "\n",
        "label2id = {'O': 0, 'B-VAR': 1, 'B-NAME': 2, 'I-NAME': 3}\n",
        "\n",
        "print(\"Encoded Input IDs:\", encoded['input_ids'])\n",
        "print(\"Encoded Attention Mask:\", encoded['attention_mask'])"
      ],
      "metadata": {
        "id": "vJ0WTcyDou9a"
      },
      "execution_count": null,
      "outputs": []
    },
    {
      "cell_type": "code",
      "source": [
        "def label_mapper(example,tokenizer):\n",
        "\n",
        "  encoded = tokenizer(\n",
        "      example['sentence'],\n",
        "      padding='max_length',\n",
        "      truncation=True,\n",
        "      max_length=128\n",
        "  )\n",
        "\n",
        "\n",
        "  label_ids=[]\n",
        "  # Use the tokenized sentence directly\n",
        "  labels = [sublist for sublist in example['labels']]\n",
        "\n",
        "  for label in labels :\n",
        "    label_ids.append([label2id[lab] for lab in label])\n",
        "\n",
        "\n",
        "  for label in label_ids :\n",
        "    label.insert(0,-100)\n",
        "    label.insert(len(label),-100)\n",
        "    label_pad = 128 - len(label)\n",
        "    label.extend([-100] * label_pad)\n",
        "\n",
        "  return {\n",
        "          \"labels_ids\": label_ids,\n",
        "          \"input_ids\" : encoded['input_ids'],\n",
        "          \"attention_mask\" : encoded['attention_mask']}"
      ],
      "metadata": {
        "id": "Pka0Oda2bv4F"
      },
      "execution_count": null,
      "outputs": []
    },
    {
      "cell_type": "code",
      "source": [
        "encoded_dataset = dataset.map(label_mapper,batched=True,fn_kwargs={'tokenizer': tokenizer})"
      ],
      "metadata": {
        "id": "NFtfzCeJlGGj"
      },
      "execution_count": null,
      "outputs": []
    },
    {
      "cell_type": "code",
      "source": [
        "encoded_dataset[0]"
      ],
      "metadata": {
        "collapsed": true,
        "id": "PVlYA8mwl2dm"
      },
      "execution_count": null,
      "outputs": []
    },
    {
      "cell_type": "code",
      "source": [
        "label = ['B-VAR', 'O','B-NAME', 'I-NAME']\n",
        "\n",
        "\n",
        "label"
      ],
      "metadata": {
        "id": "bICUYhNPesv-"
      },
      "execution_count": null,
      "outputs": []
    },
    {
      "cell_type": "code",
      "source": [
        "# confirming the results\n",
        "print(encoded_dataset[0])\n",
        "ids = [0, 0, 0, 0, 0, 0, 2, 3, 1]\n",
        "print([id2label[id] for id in ids])"
      ],
      "metadata": {
        "id": "XgMCW35M2tHm"
      },
      "execution_count": null,
      "outputs": []
    },
    {
      "cell_type": "code",
      "source": [
        "# Columns to remove\n",
        "columns_to_remove = ['sentence', 'vars', 'names', 'labels']\n",
        "\n",
        "# Remove the unnecessary columns\n",
        "dataset = encoded_dataset.remove_columns(columns_to_remove)\n",
        "\n",
        "# Display the updated dataset to verify\n",
        "print(dataset)"
      ],
      "metadata": {
        "id": "7l7uP7284baC"
      },
      "execution_count": null,
      "outputs": []
    },
    {
      "cell_type": "markdown",
      "source": [
        "## Modelling"
      ],
      "metadata": {
        "id": "vByL2EWXdiIy"
      }
    },
    {
      "cell_type": "markdown",
      "source": [
        "### Splitting data :"
      ],
      "metadata": {
        "id": "5znz0iyS7zSB"
      }
    },
    {
      "cell_type": "code",
      "source": [
        "split = encoded_dataset.train_test_split(test_size=0.2, seed=42)\n",
        "\n",
        "# Creating DatasetDict\n",
        "dataset_dict = DatasetDict({\n",
        "    'train': split['train'],\n",
        "    'validation': split['test']\n",
        "})"
      ],
      "metadata": {
        "id": "2vnOu78N2_Ua"
      },
      "execution_count": null,
      "outputs": []
    },
    {
      "cell_type": "code",
      "source": [
        "new_column_names = {'tokenized_sentence': 'sentence', 'labels_ids': 'labels'}\n",
        "dataset_dict = dataset_dict.rename_columns(new_column_names)"
      ],
      "metadata": {
        "id": "URYEo3i4l3xE"
      },
      "execution_count": null,
      "outputs": []
    },
    {
      "cell_type": "code",
      "source": [
        "print(dataset_dict)"
      ],
      "metadata": {
        "id": "JsRwKYDr3W__"
      },
      "execution_count": null,
      "outputs": []
    },
    {
      "cell_type": "code",
      "source": [
        "!pip install evaluate\n",
        "!pip install seqeval"
      ],
      "metadata": {
        "collapsed": true,
        "id": "qyNNgjWMvUXy"
      },
      "execution_count": null,
      "outputs": []
    },
    {
      "cell_type": "code",
      "source": [
        "label_list = list(label2id.keys())"
      ],
      "metadata": {
        "id": "BzqwZbc6whld"
      },
      "execution_count": null,
      "outputs": []
    },
    {
      "cell_type": "code",
      "source": [
        "label_list"
      ],
      "metadata": {
        "id": "SA7pip-3XvTv"
      },
      "execution_count": null,
      "outputs": []
    },
    {
      "cell_type": "markdown",
      "source": [
        "### Training :"
      ],
      "metadata": {
        "id": "fgcsQX-a77D5"
      }
    },
    {
      "cell_type": "code",
      "source": [
        "def compute_metrics(p):\n",
        "    predictions, labels = p\n",
        "    predictions = np.argmax(predictions, axis=2)\n",
        "\n",
        "\n",
        "    global true_predictions\n",
        "    true_predictions  = [\n",
        "        [label_list[p] for (p, l) in zip(prediction, label) if l != -100]\n",
        "        for prediction, label in zip(predictions, labels)\n",
        "    ]\n",
        "    global true_labels\n",
        "    true_labels = [\n",
        "        [label_list[l] for (p, l) in zip(prediction, label) if l != -100]\n",
        "        for prediction, label in zip(predictions, labels)\n",
        "    ]\n",
        "\n",
        "    results = seqeval.compute(predictions=true_predictions, references=true_labels)\n",
        "\n",
        "\n",
        "    return {\n",
        "        \"precision\": results[\"overall_precision\"],\n",
        "        \"recall\": results[\"overall_recall\"],\n",
        "        \"f1\": results[\"overall_f1\"],\n",
        "        \"accuracy\": results[\"overall_accuracy\"],\n",
        "    }"
      ],
      "metadata": {
        "id": "p5oxceEXp3cv"
      },
      "execution_count": null,
      "outputs": []
    },
    {
      "cell_type": "code",
      "source": [
        "seqeval = evaluate.load(\"seqeval\")\n",
        "\n",
        "save_directory = \"./my-model2\"\n",
        "lr = 2e-5\n",
        "epochs = 20\n",
        "steps = 100\n",
        "\n",
        "\n",
        "# Adding early stopping :\n",
        "early_stopping_callback = EarlyStoppingCallback(\n",
        "    early_stopping_patience=5,  # Number of evaluation steps with no improvement before stopping\n",
        "    early_stopping_threshold=0.01,  # Minimum change to qualify as an improvement\n",
        ")\n",
        "\n",
        "\n",
        "training_args = TrainingArguments(\n",
        "    output_dir=\"./my-model2\",\n",
        "    learning_rate=2e-5,\n",
        "    per_device_train_batch_size=16,\n",
        "    per_device_eval_batch_size=16,\n",
        "    num_train_epochs=20,\n",
        "    logging_steps=100,\n",
        "    weight_decay=0.01,\n",
        "    eval_strategy=\"epoch\",\n",
        "    save_strategy=\"epoch\",\n",
        "    load_best_model_at_end=True,\n",
        "    push_to_hub=True,\n",
        ")\n",
        "\n",
        "\n",
        "trainer = Trainer(\n",
        "    model=model,\n",
        "    args=training_args,\n",
        "    train_dataset=dataset_dict[\"train\"],\n",
        "    eval_dataset=dataset_dict[\"validation\"],\n",
        "    tokenizer=tokenizer,\n",
        "    compute_metrics=compute_metrics,\n",
        "    callbacks=[early_stopping_callback]\n",
        ")\n",
        "\n",
        "# Start training\n",
        "trainer.train()"
      ],
      "metadata": {
        "id": "K0IZLhns3yU6"
      },
      "execution_count": null,
      "outputs": []
    },
    {
      "cell_type": "code",
      "source": [
        "trainer.label_names"
      ],
      "metadata": {
        "id": "G6NUV1qQXdjh"
      },
      "execution_count": null,
      "outputs": []
    },
    {
      "cell_type": "markdown",
      "source": [
        "## Evaluation & Prediciton :"
      ],
      "metadata": {
        "id": "VXzYWbma8Ivd"
      }
    },
    {
      "cell_type": "code",
      "source": [
        "\n",
        "global true_predictions\n",
        "global true_labels\n",
        "\n",
        "\n",
        "report = classification_report(true_predictions, true_labels, output_dict=True)\n",
        "df_report = pd.DataFrame(report)\n",
        "df_report"
      ],
      "metadata": {
        "id": "iF3kbbIoZq39"
      },
      "execution_count": null,
      "outputs": []
    },
    {
      "cell_type": "code",
      "source": [
        "\n",
        "text = \"the variable is f(x)\"\n",
        "updated_tokenizer = DistilBertTokenizer.from_pretrained('./tokenizah')\n",
        "\n",
        "\n",
        "classifier = pipeline(\"ner\",model=\"taissirboukrouba/my-model2\",tokenizer=tokenizer, device=0)\n",
        "classifier(text)"
      ],
      "metadata": {
        "id": "f18i9oJlRyb7"
      },
      "execution_count": null,
      "outputs": []
    },
    {
      "cell_type": "markdown",
      "source": [
        "## Visualisation :"
      ],
      "metadata": {
        "id": "-l1dOvQ38SeU"
      }
    },
    {
      "cell_type": "code",
      "source": [
        "trainer.state.log_history"
      ],
      "metadata": {
        "collapsed": true,
        "id": "ivkXZp5cly0h"
      },
      "execution_count": null,
      "outputs": []
    },
    {
      "cell_type": "code",
      "source": [
        "for log in trainer.state.log_history :\n",
        "  print(log)"
      ],
      "metadata": {
        "collapsed": true,
        "id": "D7yxWtwvl9MZ"
      },
      "execution_count": null,
      "outputs": []
    },
    {
      "cell_type": "code",
      "source": [
        "train_losses = [log['eval_loss'] for log in trainer.state.log_history[:-1]]\n",
        "train_losses = [log['eval_loss'] for log in trainer.state.log_history[:-1]]\n",
        "\n",
        "epochs = range(1, len(train_losses) + 1)\n",
        "\n",
        "# Plot training loss\n",
        "plt.plot(epochs, train_losses, label='Evaluation Loss')\n",
        "\n",
        "# Extract other metrics as needed (e.g., validation loss, accuracy)\n",
        "# ...\n",
        "\n",
        "# Customize plot\n",
        "plt.xlabel('Epoch')\n",
        "plt.ylabel('Loss')\n",
        "plt.title('Evaluation Loss')\n",
        "plt.legend()\n",
        "plt.grid(True)\n",
        "plt.show()"
      ],
      "metadata": {
        "id": "3uycsyzblnvV"
      },
      "execution_count": null,
      "outputs": []
    },
    {
      "cell_type": "code",
      "source": [
        "# Logs you provided\n",
        "log_history = [\n",
        "    # Your log data goes here\n",
        "]\n",
        "\n",
        "# Extracting losses and epochs\n",
        "epochs = []\n",
        "train_loss = []\n",
        "val_loss = []\n",
        "\n",
        "for log in log_history:\n",
        "    if 'loss' in log and 'epoch' in log:\n",
        "        epochs.append(log['epoch'])\n",
        "        train_loss.append(log['loss'])\n",
        "    if 'eval_loss' in log and 'epoch' in log:\n",
        "        val_loss.append(log['eval_loss'])\n",
        "\n",
        "# Plotting\n",
        "plt.figure(figsize=(10, 5))\n",
        "plt.plot(epochs[:len(train_loss)], train_loss, label='Training Loss')\n",
        "plt.plot(epochs[len(train_loss):], val_loss, label='Validation Loss', color='red')\n",
        "\n",
        "plt.xlabel('Epochs')\n",
        "plt.ylabel('Loss')\n",
        "plt.title('Training and Validation Loss per Epoch')\n",
        "plt.legend()\n",
        "plt.grid(True)\n"
      ],
      "metadata": {
        "id": "38s2kgzcltdc"
      },
      "execution_count": null,
      "outputs": []
    },
    {
      "cell_type": "code",
      "source": [
        "classifier.steps"
      ],
      "metadata": {
        "id": "zlO8sK5DSYye"
      },
      "execution_count": null,
      "outputs": []
    },
    {
      "cell_type": "markdown",
      "source": [
        "# Model from-scratch :"
      ],
      "metadata": {
        "id": "cpby_YlD8uNb"
      }
    },
    {
      "cell_type": "markdown",
      "source": [
        "## Personalized Tokenizer :"
      ],
      "metadata": {
        "id": "bH9p3-g5Aq03"
      }
    },
    {
      "cell_type": "code",
      "source": [
        "\n",
        "\n",
        "class PersonalisedTokenizer:\n",
        "    def __init__(self, vocab=None):\n",
        "        # initialising normal vocabulary (used to encode tokens into ids)\n",
        "        self.vocab = vocab if vocab else {}\n",
        "        # initialising inverse vocabulary (used to get tokens using ids)\n",
        "        self.inv_vocab = {v: k for k, v in self.vocab.items()}\n",
        "\n",
        "    def get_tokens(self, text):\n",
        "        # applying custom tokenization\n",
        "        return custom_tokenizer(text)\n",
        "\n",
        "    def get_token_id(self, tokens):\n",
        "        # getting token id from vocabulary or replacing it by unknown vocabulary when not present\n",
        "        unknown_token = self.vocab.get('<unk>', 0)\n",
        "        return [self.vocab.get(token, unknown_token) for token in tokens]\n",
        "\n",
        "    def decode_id(self, ids):\n",
        "        # getting token of the id from the reverse vocabulary\n",
        "        return [self.inv_vocab.get(i, '<unk>') for i in ids]\n",
        "\n",
        "    def add_tokens(self, new_tokens):\n",
        "        for token in new_tokens:\n",
        "            if token not in self.vocab:\n",
        "                # add token in case not present in the vocabulary\n",
        "                self.vocab[token] = len(self.vocab)\n",
        "                # also updting the inverse vocabulary\n",
        "                self.inv_vocab[len(self.vocab) - 1] = token\n",
        "\n",
        "    def get_tokens_ids(self, text, max_length=128,existing_tokens=False):\n",
        "      # if tokens exist don't tokenize them\n",
        "      if existing_tokens :\n",
        "        tokens = text\n",
        "      # if they don't tokenize the text\n",
        "      else :\n",
        "        tokens = self.get_tokens(text)\n",
        "      # adding [CLS] tag to the start of the setence\n",
        "      tokens.insert(0,\"[CLS]\")\n",
        "      # adding [SEP] tag to the end of the setence\n",
        "      tokens.insert(len(tokens),\"[SEP]\")\n",
        "      # getting token ids\n",
        "      token_ids = self.get_token_id(tokens)\n",
        "      # applying truncation\n",
        "      token_ids = token_ids[:max_length]\n",
        "      # getting the padding left to add\n",
        "      padding_length = max_length - len(token_ids)\n",
        "      # applying padding\n",
        "      token_ids += [0] * padding_length\n",
        "      return token_ids\n",
        "\n",
        "    def decode_tokens_ids(self, token_ids):\n",
        "        # getting tokens from ids using the reverse vocabulary inside \"decode_id()\"\n",
        "        tokens = self.decode_id(token_ids)\n",
        "        return ' '.join(tokens)\n",
        "\n",
        "    def get_attention_masks(self,tokens_ids,max_length=128) :\n",
        "        # getting SEP index\n",
        "        sep_idx = tokens_ids.index(102)\n",
        "        # slicing the token ids list\n",
        "        cut_tokens_ids = tokens_ids[:sep_idx+1]\n",
        "        # applying attention mask\n",
        "        attention_masks = [1]*(len(cut_tokens_ids))\n",
        "        # getting the padding left to add\n",
        "        padding_length = max_length - len(attention_masks)\n",
        "        # applying padding\n",
        "        attention_masks += [0] * padding_length\n",
        "        return attention_masks\n",
        "\n",
        "    def save_pretrained(self, save_directory):\n",
        "        # Save the vocabulary to a file\n",
        "        if not os.path.exists(save_directory):\n",
        "            os.makedirs(save_directory)\n",
        "        vocab_file = os.path.join(save_directory, 'vocab.json')\n",
        "        with open(vocab_file, 'w') as f:\n",
        "            json.dump(self.vocab, f)"
      ],
      "metadata": {
        "id": "wUt4Ye4wO92o"
      },
      "execution_count": 45,
      "outputs": []
    },
    {
      "cell_type": "code",
      "source": [
        "my_list = [1, 2, 3, 4, 5, 6]\n",
        "cut_element = 4\n",
        "index = my_list.index(cut_element+1)\n",
        "list1 = my_list[:index]\n",
        "list2 = my_list[index:]\n",
        "list1"
      ],
      "metadata": {
        "colab": {
          "base_uri": "https://localhost:8080/"
        },
        "id": "0-JkIu8MmAIy",
        "outputId": "5b301383-0ea6-4790-b05b-e6779cc51461"
      },
      "execution_count": 46,
      "outputs": [
        {
          "output_type": "execute_result",
          "data": {
            "text/plain": [
              "[1, 2, 3, 4]"
            ]
          },
          "metadata": {},
          "execution_count": 46
        }
      ]
    },
    {
      "cell_type": "code",
      "source": [
        "# Get the BERT vocabulary as a dictionary\n",
        "vocab = BertTokenizer.from_pretrained('bert-base-uncased').get_vocab()\n",
        "# testing vocabulary\n",
        "print(vocab[\"speed\"])"
      ],
      "metadata": {
        "colab": {
          "base_uri": "https://localhost:8080/"
        },
        "id": "wTz9M2FSY3AH",
        "outputId": "8d6e03ba-9f37-4771-f0a6-1d4b7f1062c3"
      },
      "execution_count": 47,
      "outputs": [
        {
          "output_type": "stream",
          "name": "stdout",
          "text": [
            "3177\n"
          ]
        }
      ]
    },
    {
      "cell_type": "code",
      "source": [
        "## testing tokenizer\n",
        "tokenizer_scratch = PersonalisedTokenizer(vocab=vocab)\n",
        "text = \"f(x) is world\"\n",
        "encoded = tokenizer_scratch.get_tokens_ids(text)\n",
        "print(encoded)"
      ],
      "metadata": {
        "colab": {
          "base_uri": "https://localhost:8080/"
        },
        "id": "Coc-vpTmxT_9",
        "outputId": "0973022e-55c7-45ac-c0a5-42e30097c0fb"
      },
      "execution_count": 48,
      "outputs": [
        {
          "output_type": "stream",
          "name": "stdout",
          "text": [
            "[101, 0, 2003, 2088, 102, 0, 0, 0, 0, 0, 0, 0, 0, 0, 0, 0, 0, 0, 0, 0, 0, 0, 0, 0, 0, 0, 0, 0, 0, 0, 0, 0, 0, 0, 0, 0, 0, 0, 0, 0, 0, 0, 0, 0, 0, 0, 0, 0, 0, 0, 0, 0, 0, 0, 0, 0, 0, 0, 0, 0, 0, 0, 0, 0, 0, 0, 0, 0, 0, 0, 0, 0, 0, 0, 0, 0, 0, 0, 0, 0, 0, 0, 0, 0, 0, 0, 0, 0, 0, 0, 0, 0, 0, 0, 0, 0, 0, 0, 0, 0, 0, 0, 0, 0, 0, 0, 0, 0, 0, 0, 0, 0, 0, 0, 0, 0, 0, 0, 0, 0, 0, 0, 0, 0, 0, 0, 0, 0]\n"
          ]
        }
      ]
    },
    {
      "cell_type": "code",
      "source": [],
      "metadata": {
        "colab": {
          "base_uri": "https://localhost:8080/"
        },
        "id": "5RVvleokIklk",
        "outputId": "8aa2266e-3564-43dc-ada8-2eb7e1e6b563"
      },
      "execution_count": 71,
      "outputs": [
        {
          "output_type": "execute_result",
          "data": {
            "text/plain": [
              "30522"
            ]
          },
          "metadata": {},
          "execution_count": 71
        }
      ]
    },
    {
      "cell_type": "code",
      "source": [
        "text = [\"f(x)\",\"is\",\"world\"]\n",
        "encoded = tokenizer_scratch.get_tokens_ids(text,128,True)\n",
        "print(encoded)"
      ],
      "metadata": {
        "colab": {
          "base_uri": "https://localhost:8080/"
        },
        "id": "OSsshvVMv_-I",
        "outputId": "038f6537-b1a5-495f-902a-152e3e3bedf9"
      },
      "execution_count": 49,
      "outputs": [
        {
          "output_type": "stream",
          "name": "stdout",
          "text": [
            "[101, 0, 2003, 2088, 102, 0, 0, 0, 0, 0, 0, 0, 0, 0, 0, 0, 0, 0, 0, 0, 0, 0, 0, 0, 0, 0, 0, 0, 0, 0, 0, 0, 0, 0, 0, 0, 0, 0, 0, 0, 0, 0, 0, 0, 0, 0, 0, 0, 0, 0, 0, 0, 0, 0, 0, 0, 0, 0, 0, 0, 0, 0, 0, 0, 0, 0, 0, 0, 0, 0, 0, 0, 0, 0, 0, 0, 0, 0, 0, 0, 0, 0, 0, 0, 0, 0, 0, 0, 0, 0, 0, 0, 0, 0, 0, 0, 0, 0, 0, 0, 0, 0, 0, 0, 0, 0, 0, 0, 0, 0, 0, 0, 0, 0, 0, 0, 0, 0, 0, 0, 0, 0, 0, 0, 0, 0, 0, 0]\n"
          ]
        }
      ]
    },
    {
      "cell_type": "code",
      "source": [
        "attention_msks = tokenizer_scratch.get_attention_masks(encoded)\n",
        "attention_msks[:10]"
      ],
      "metadata": {
        "colab": {
          "base_uri": "https://localhost:8080/"
        },
        "id": "nhmgckyIbMWd",
        "outputId": "1fa1d94e-d5b8-4ebe-8593-b26d7d90ddf0"
      },
      "execution_count": 50,
      "outputs": [
        {
          "output_type": "execute_result",
          "data": {
            "text/plain": [
              "[1, 1, 1, 1, 1, 0, 0, 0, 0, 0]"
            ]
          },
          "metadata": {},
          "execution_count": 50
        }
      ]
    },
    {
      "cell_type": "code",
      "source": [
        "def PersonalisedEncoding(example, tokenizer,label2id,max_length=20):\n",
        "    input_ids = []\n",
        "    attention_masks = []\n",
        "    label_ids = []\n",
        "\n",
        "    # getting attention masks and input ids\n",
        "    for tokens in example['tokenized_sentence'] :\n",
        "      input_id = tokenizer.get_tokens_ids(tokens,max_length,existing_tokens=True)\n",
        "      input_ids.append(input_id)\n",
        "\n",
        "      attention_mask = tokenizer.get_attention_masks(input_id,max_length)\n",
        "      attention_masks.append(attention_mask)\n",
        "\n",
        "\n",
        "    # getting labels ids\n",
        "    labels = [sublist for sublist in example['labels']]\n",
        "\n",
        "    for label in labels :\n",
        "      label_ids.append([label2id[lab] for lab in label])\n",
        "\n",
        "\n",
        "    for label in label_ids :\n",
        "      # adding -100 in the begining of label (CLS)\n",
        "      label.insert(0,-100)\n",
        "      # adding -100 in the begining of label (SEP)\n",
        "      label.insert(len(label),-100)\n",
        "      # applying padding\n",
        "      label_pad = max_length - len(label)\n",
        "      label.extend([-100] * label_pad)\n",
        "\n",
        "    return {\n",
        "          \"labels_ids\": label_ids,\n",
        "          \"input_ids\" : input_ids,\n",
        "          \"attention_mask\" : attention_masks}"
      ],
      "metadata": {
        "id": "-iiol-sHvE9B"
      },
      "execution_count": 51,
      "outputs": []
    },
    {
      "cell_type": "code",
      "source": [
        "class TransformerForSequenceLabeling(nn.Module):\n",
        "    def __init__(self, vocab_size, d_model, num_labels, nhead, num_layers, dim_feedforward, max_seq_len=512):\n",
        "        super(TransformerForSequenceLabeling, self).__init__()\n",
        "        self.embedding = nn.Embedding(vocab_size, d_model)\n",
        "        self.positional_encoding = nn.Parameter(torch.zeros(1, max_seq_len, d_model))\n",
        "        encoder_layers = TransformerEncoderLayer(d_model=d_model, nhead=nhead, dim_feedforward=dim_feedforward)\n",
        "        self.transformer_encoder = TransformerEncoder(encoder_layers, num_layers=num_layers)\n",
        "        self.classifier = nn.Linear(d_model, num_labels)\n",
        "\n",
        "    def forward(self, input_ids, attention_mask=None, token_type_ids=None, labels=None):\n",
        "        # Embedding + Positional Encoding\n",
        "        embedded = self.embedding(input_ids) + self.positional_encoding[:, :input_ids.size(1)]\n",
        "\n",
        "        # Transformer Encoder\n",
        "        transformer_output = self.transformer_encoder(embedded)\n",
        "\n",
        "        # Classification head\n",
        "        logits = self.classifier(transformer_output)\n",
        "\n",
        "        if labels is not None:\n",
        "            # Compute loss if labels are provided\n",
        "            loss_fct = nn.CrossEntropyLoss()\n",
        "            loss = loss_fct(logits.view(-1, logits.size(-1)), labels.view(-1))\n",
        "            return loss, logits\n",
        "\n",
        "        return logits"
      ],
      "metadata": {
        "id": "0Wxf5F7x1mw1"
      },
      "execution_count": 69,
      "outputs": []
    },
    {
      "cell_type": "code",
      "source": [
        "model_scratch = TransformerForSequenceLabeling(\n",
        "    vocab_size=len(tokenizer_scratch.vocab),\n",
        "    d_model=768,                 # Hidden size\n",
        "    num_labels=4,\n",
        "    nhead=8,                     # Number of attention heads\n",
        "    num_layers=6,                # Number of encoder layers\n",
        "    dim_feedforward=2048         # Feedforward dimension\n",
        ")"
      ],
      "metadata": {
        "id": "fggXnucJIaVK"
      },
      "execution_count": 75,
      "outputs": []
    },
    {
      "cell_type": "code",
      "source": [
        "example = {\n",
        "    'tokenized_sentence': [[\"f(x)\",\"is\",\"a\",\"function\"],['f(x)',\"is\",\"a\",\"function\"]],\n",
        "    'labels': [['B-VAR', 'O','B-NAME', 'I-NAME'],['B-VAR', 'O','B-NAME', 'I-NAME']]\n",
        "}\n",
        "\n",
        "test_df = pd.DataFrame(example)\n",
        "test_dataset = Dataset.from_pandas(test_df)\n",
        "test_dataset"
      ],
      "metadata": {
        "colab": {
          "base_uri": "https://localhost:8080/"
        },
        "id": "hr-kTuHRYlFo",
        "outputId": "91c58daa-febb-49bb-f4ec-2373ee2c876b"
      },
      "execution_count": 53,
      "outputs": [
        {
          "output_type": "execute_result",
          "data": {
            "text/plain": [
              "Dataset({\n",
              "    features: ['tokenized_sentence', 'labels'],\n",
              "    num_rows: 2\n",
              "})"
            ]
          },
          "metadata": {},
          "execution_count": 53
        }
      ]
    },
    {
      "cell_type": "code",
      "source": [
        "label2id = {'O': 0, 'B-VAR': 1, 'B-NAME': 2, 'I-NAME': 3}\n",
        "id2label = {v: k for k, v in label2id.items()}\n",
        "encoded_test_dataset = test_dataset.map(PersonalisedEncoding,batched=True,fn_kwargs={'tokenizer': tokenizer_scratch,\"label2id\":label2id})\n",
        "encoded_test_dataset"
      ],
      "metadata": {
        "colab": {
          "base_uri": "https://localhost:8080/",
          "height": 120,
          "referenced_widgets": [
            "1d30f29ee4784ad8a129d1fb2c27c7c6",
            "5ea33adf655b4111a3737c826d77cf9e",
            "c6622e8633244c6dae968f1cac777574",
            "73c925506ea745d08f51350bff54fb12",
            "78983b68258642f68e4916a8f1a30819",
            "6e098d837bc04b4e97465cf6364585ed",
            "c2af08cb26484911ae40edf082eacc95",
            "b53925a3265b41ab818fa89f0c37fdc9",
            "eb243474d37e48f6aedc4b2bbbca3cf8",
            "60a752e6a287481eb180f7a181173bb3",
            "0c6a775c719a445e88638267fbb11101"
          ]
        },
        "id": "1IA9iWNUySms",
        "outputId": "8e60dad6-61fe-480a-f0a0-3b9698d2670b"
      },
      "execution_count": 54,
      "outputs": [
        {
          "output_type": "display_data",
          "data": {
            "text/plain": [
              "Map:   0%|          | 0/2 [00:00<?, ? examples/s]"
            ],
            "application/vnd.jupyter.widget-view+json": {
              "version_major": 2,
              "version_minor": 0,
              "model_id": "1d30f29ee4784ad8a129d1fb2c27c7c6"
            }
          },
          "metadata": {}
        },
        {
          "output_type": "execute_result",
          "data": {
            "text/plain": [
              "Dataset({\n",
              "    features: ['tokenized_sentence', 'labels', 'labels_ids', 'input_ids', 'attention_mask'],\n",
              "    num_rows: 2\n",
              "})"
            ]
          },
          "metadata": {},
          "execution_count": 54
        }
      ]
    },
    {
      "cell_type": "code",
      "source": [
        "print(encoded_test_dataset[\"labels_ids\"][0])"
      ],
      "metadata": {
        "colab": {
          "base_uri": "https://localhost:8080/"
        },
        "id": "2rhoFp997acb",
        "outputId": "8d0e7fd6-b164-490b-db8e-01239b455958"
      },
      "execution_count": 55,
      "outputs": [
        {
          "output_type": "stream",
          "name": "stdout",
          "text": [
            "[-100, 1, 0, 2, 3, -100, -100, -100, -100, -100, -100, -100, -100, -100, -100, -100, -100, -100, -100, -100]\n"
          ]
        }
      ]
    },
    {
      "cell_type": "code",
      "source": [
        "# encodings length check\n",
        "len(encoded_test_dataset[0][\"input_ids\"]) == len(encoded_test_dataset[0][\"attention_mask\"])"
      ],
      "metadata": {
        "colab": {
          "base_uri": "https://localhost:8080/"
        },
        "id": "1rRaiRNH1qw_",
        "outputId": "8ee96d95-0226-43a4-fa0a-785b94c41daa"
      },
      "execution_count": 56,
      "outputs": [
        {
          "output_type": "execute_result",
          "data": {
            "text/plain": [
              "True"
            ]
          },
          "metadata": {},
          "execution_count": 56
        }
      ]
    },
    {
      "cell_type": "code",
      "source": [
        "# encodings length check\n",
        "len(encoded_test_dataset[0][\"labels_ids\"]) == len(encoded_test_dataset[0][\"attention_mask\"])"
      ],
      "metadata": {
        "colab": {
          "base_uri": "https://localhost:8080/"
        },
        "id": "Aw-a5TUz7yuq",
        "outputId": "05701d30-6021-4d1f-cf78-755d68ec7372"
      },
      "execution_count": 57,
      "outputs": [
        {
          "output_type": "execute_result",
          "data": {
            "text/plain": [
              "True"
            ]
          },
          "metadata": {},
          "execution_count": 57
        }
      ]
    },
    {
      "cell_type": "code",
      "source": [
        "dataset = Dataset.from_pandas(df)\n",
        "arguments = {\"tokenizer\": tokenizer_scratch,\n",
        "             \"label2id\":label2id,\n",
        "             \"max_length\": 128}\n",
        "encoded_dataset_scratch = dataset.map(PersonalisedEncoding,batched=True,fn_kwargs=arguments)\n",
        "encoded_dataset_scratch"
      ],
      "metadata": {
        "colab": {
          "base_uri": "https://localhost:8080/",
          "height": 120,
          "referenced_widgets": [
            "2215333b90df4acb815d2bedee672a66",
            "b59af8b84b744a7ab0183b14a88b4b93",
            "66f806961ce941378f34bdb563a69be2",
            "118eca16af634c72b0f085e74cc2aa01",
            "21e4cd3fdb114ca0ba0d3f11cb9991e9",
            "1981ec59f49144e3b9a9c5e74635dd42",
            "b4240469db53486bb6d827ebf57d0527",
            "18e4fde566d74980baa93965a0517842",
            "43466daa49e94f4394aff760cc0e06c3",
            "50a8dd9f78df4725b6ce2f97a4122868",
            "643cbcd811114031a9e3b065e2f83fce"
          ]
        },
        "id": "gNdnf2C980em",
        "outputId": "4c69c393-a8c5-4e87-81fa-2df968f44601"
      },
      "execution_count": 58,
      "outputs": [
        {
          "output_type": "display_data",
          "data": {
            "text/plain": [
              "Map:   0%|          | 0/301 [00:00<?, ? examples/s]"
            ],
            "application/vnd.jupyter.widget-view+json": {
              "version_major": 2,
              "version_minor": 0,
              "model_id": "2215333b90df4acb815d2bedee672a66"
            }
          },
          "metadata": {}
        },
        {
          "output_type": "execute_result",
          "data": {
            "text/plain": [
              "Dataset({\n",
              "    features: ['sentence', 'vars', 'names', 'tokenized_sentence', 'labels', 'labels_ids', 'input_ids', 'attention_mask'],\n",
              "    num_rows: 301\n",
              "})"
            ]
          },
          "metadata": {},
          "execution_count": 58
        }
      ]
    },
    {
      "cell_type": "code",
      "source": [
        "# Columns to remove\n",
        "columns_to_remove = ['sentence', 'vars', 'names', 'labels']\n",
        "\n",
        "# Remove the unnecessary columns\n",
        "encoded_dataset_scratch = encoded_dataset_scratch.remove_columns(columns_to_remove)"
      ],
      "metadata": {
        "id": "23-XFkPalc4p"
      },
      "execution_count": 59,
      "outputs": []
    },
    {
      "cell_type": "code",
      "source": [
        "encoded_dataset_scratch"
      ],
      "metadata": {
        "colab": {
          "base_uri": "https://localhost:8080/"
        },
        "id": "boZPC69VlqsW",
        "outputId": "495b272d-1d38-4747-e099-2620a194f26e"
      },
      "execution_count": 60,
      "outputs": [
        {
          "output_type": "execute_result",
          "data": {
            "text/plain": [
              "Dataset({\n",
              "    features: ['tokenized_sentence', 'labels_ids', 'input_ids', 'attention_mask'],\n",
              "    num_rows: 301\n",
              "})"
            ]
          },
          "metadata": {},
          "execution_count": 60
        }
      ]
    },
    {
      "cell_type": "code",
      "source": [
        "split = encoded_dataset_scratch.train_test_split(test_size=0.2, seed=42)\n",
        "\n",
        "# Creating DatasetDict\n",
        "dataset_dict = DatasetDict({\n",
        "    'train': split['train'],\n",
        "    'validation': split['test']\n",
        "})"
      ],
      "metadata": {
        "id": "SSqv9H-mjLnb"
      },
      "execution_count": 61,
      "outputs": []
    },
    {
      "cell_type": "code",
      "source": [
        "new_column_names = {'tokenized_sentence': 'sentence', 'labels_ids': 'labels'}\n",
        "dataset_dict = dataset_dict.rename_columns(new_column_names)"
      ],
      "metadata": {
        "id": "GoYcyBUUjNv2"
      },
      "execution_count": 62,
      "outputs": []
    },
    {
      "cell_type": "code",
      "source": [
        "dataset_dict"
      ],
      "metadata": {
        "colab": {
          "base_uri": "https://localhost:8080/"
        },
        "id": "4euJ4ZdGlORo",
        "outputId": "0eafb167-d216-42c3-c720-a7040299f935"
      },
      "execution_count": 63,
      "outputs": [
        {
          "output_type": "execute_result",
          "data": {
            "text/plain": [
              "DatasetDict({\n",
              "    train: Dataset({\n",
              "        features: ['sentence', 'labels', 'input_ids', 'attention_mask'],\n",
              "        num_rows: 240\n",
              "    })\n",
              "    validation: Dataset({\n",
              "        features: ['sentence', 'labels', 'input_ids', 'attention_mask'],\n",
              "        num_rows: 61\n",
              "    })\n",
              "})"
            ]
          },
          "metadata": {},
          "execution_count": 63
        }
      ]
    },
    {
      "cell_type": "markdown",
      "source": [
        "## Personalized Model :"
      ],
      "metadata": {
        "id": "z4lNSzhTA9gQ"
      }
    },
    {
      "cell_type": "code",
      "source": [
        "pip install torchsummary torchinfo"
      ],
      "metadata": {
        "colab": {
          "base_uri": "https://localhost:8080/"
        },
        "id": "Az4rO7z_SIYm",
        "outputId": "982f4a9c-c8ac-461d-dde2-ad90a1bcf64d"
      },
      "execution_count": 37,
      "outputs": [
        {
          "output_type": "stream",
          "name": "stdout",
          "text": [
            "Requirement already satisfied: torchsummary in /usr/local/lib/python3.10/dist-packages (1.5.1)\n",
            "Collecting torchinfo\n",
            "  Downloading torchinfo-1.8.0-py3-none-any.whl.metadata (21 kB)\n",
            "Downloading torchinfo-1.8.0-py3-none-any.whl (23 kB)\n",
            "Installing collected packages: torchinfo\n",
            "Successfully installed torchinfo-1.8.0\n"
          ]
        }
      ]
    },
    {
      "cell_type": "code",
      "source": [
        "!pip install seqeval\n",
        "!pip install evaluate"
      ],
      "metadata": {
        "colab": {
          "base_uri": "https://localhost:8080/"
        },
        "collapsed": true,
        "id": "FJp3hi8Tjm5o",
        "outputId": "1541454b-443b-41ca-8918-9caecadb0562"
      },
      "execution_count": 42,
      "outputs": [
        {
          "output_type": "stream",
          "name": "stdout",
          "text": [
            "Requirement already satisfied: seqeval in /usr/local/lib/python3.10/dist-packages (1.2.2)\n",
            "Requirement already satisfied: numpy>=1.14.0 in /usr/local/lib/python3.10/dist-packages (from seqeval) (1.26.4)\n",
            "Requirement already satisfied: scikit-learn>=0.21.3 in /usr/local/lib/python3.10/dist-packages (from seqeval) (1.3.2)\n",
            "Requirement already satisfied: scipy>=1.5.0 in /usr/local/lib/python3.10/dist-packages (from scikit-learn>=0.21.3->seqeval) (1.13.1)\n",
            "Requirement already satisfied: joblib>=1.1.1 in /usr/local/lib/python3.10/dist-packages (from scikit-learn>=0.21.3->seqeval) (1.4.2)\n",
            "Requirement already satisfied: threadpoolctl>=2.0.0 in /usr/local/lib/python3.10/dist-packages (from scikit-learn>=0.21.3->seqeval) (3.5.0)\n",
            "Requirement already satisfied: evaluate in /usr/local/lib/python3.10/dist-packages (0.4.2)\n",
            "Requirement already satisfied: datasets>=2.0.0 in /usr/local/lib/python3.10/dist-packages (from evaluate) (2.20.0)\n",
            "Requirement already satisfied: numpy>=1.17 in /usr/local/lib/python3.10/dist-packages (from evaluate) (1.26.4)\n",
            "Requirement already satisfied: dill in /usr/local/lib/python3.10/dist-packages (from evaluate) (0.3.8)\n",
            "Requirement already satisfied: pandas in /usr/local/lib/python3.10/dist-packages (from evaluate) (2.1.4)\n",
            "Requirement already satisfied: requests>=2.19.0 in /usr/local/lib/python3.10/dist-packages (from evaluate) (2.32.3)\n",
            "Requirement already satisfied: tqdm>=4.62.1 in /usr/local/lib/python3.10/dist-packages (from evaluate) (4.66.5)\n",
            "Requirement already satisfied: xxhash in /usr/local/lib/python3.10/dist-packages (from evaluate) (3.4.1)\n",
            "Requirement already satisfied: multiprocess in /usr/local/lib/python3.10/dist-packages (from evaluate) (0.70.16)\n",
            "Requirement already satisfied: fsspec>=2021.05.0 in /usr/local/lib/python3.10/dist-packages (from fsspec[http]>=2021.05.0->evaluate) (2024.5.0)\n",
            "Requirement already satisfied: huggingface-hub>=0.7.0 in /usr/local/lib/python3.10/dist-packages (from evaluate) (0.23.5)\n",
            "Requirement already satisfied: packaging in /usr/local/lib/python3.10/dist-packages (from evaluate) (24.1)\n",
            "Requirement already satisfied: filelock in /usr/local/lib/python3.10/dist-packages (from datasets>=2.0.0->evaluate) (3.15.4)\n",
            "Requirement already satisfied: pyarrow>=15.0.0 in /usr/local/lib/python3.10/dist-packages (from datasets>=2.0.0->evaluate) (17.0.0)\n",
            "Requirement already satisfied: pyarrow-hotfix in /usr/local/lib/python3.10/dist-packages (from datasets>=2.0.0->evaluate) (0.6)\n",
            "Requirement already satisfied: aiohttp in /usr/local/lib/python3.10/dist-packages (from datasets>=2.0.0->evaluate) (3.10.1)\n",
            "Requirement already satisfied: pyyaml>=5.1 in /usr/local/lib/python3.10/dist-packages (from datasets>=2.0.0->evaluate) (6.0.2)\n",
            "Requirement already satisfied: typing-extensions>=3.7.4.3 in /usr/local/lib/python3.10/dist-packages (from huggingface-hub>=0.7.0->evaluate) (4.12.2)\n",
            "Requirement already satisfied: charset-normalizer<4,>=2 in /usr/local/lib/python3.10/dist-packages (from requests>=2.19.0->evaluate) (3.3.2)\n",
            "Requirement already satisfied: idna<4,>=2.5 in /usr/local/lib/python3.10/dist-packages (from requests>=2.19.0->evaluate) (3.7)\n",
            "Requirement already satisfied: urllib3<3,>=1.21.1 in /usr/local/lib/python3.10/dist-packages (from requests>=2.19.0->evaluate) (2.0.7)\n",
            "Requirement already satisfied: certifi>=2017.4.17 in /usr/local/lib/python3.10/dist-packages (from requests>=2.19.0->evaluate) (2024.7.4)\n",
            "Requirement already satisfied: python-dateutil>=2.8.2 in /usr/local/lib/python3.10/dist-packages (from pandas->evaluate) (2.8.2)\n",
            "Requirement already satisfied: pytz>=2020.1 in /usr/local/lib/python3.10/dist-packages (from pandas->evaluate) (2024.1)\n",
            "Requirement already satisfied: tzdata>=2022.1 in /usr/local/lib/python3.10/dist-packages (from pandas->evaluate) (2024.1)\n",
            "Requirement already satisfied: aiohappyeyeballs>=2.3.0 in /usr/local/lib/python3.10/dist-packages (from aiohttp->datasets>=2.0.0->evaluate) (2.3.4)\n",
            "Requirement already satisfied: aiosignal>=1.1.2 in /usr/local/lib/python3.10/dist-packages (from aiohttp->datasets>=2.0.0->evaluate) (1.3.1)\n",
            "Requirement already satisfied: attrs>=17.3.0 in /usr/local/lib/python3.10/dist-packages (from aiohttp->datasets>=2.0.0->evaluate) (24.2.0)\n",
            "Requirement already satisfied: frozenlist>=1.1.1 in /usr/local/lib/python3.10/dist-packages (from aiohttp->datasets>=2.0.0->evaluate) (1.4.1)\n",
            "Requirement already satisfied: multidict<7.0,>=4.5 in /usr/local/lib/python3.10/dist-packages (from aiohttp->datasets>=2.0.0->evaluate) (6.0.5)\n",
            "Requirement already satisfied: yarl<2.0,>=1.0 in /usr/local/lib/python3.10/dist-packages (from aiohttp->datasets>=2.0.0->evaluate) (1.9.4)\n",
            "Requirement already satisfied: async-timeout<5.0,>=4.0 in /usr/local/lib/python3.10/dist-packages (from aiohttp->datasets>=2.0.0->evaluate) (4.0.3)\n",
            "Requirement already satisfied: six>=1.5 in /usr/local/lib/python3.10/dist-packages (from python-dateutil>=2.8.2->pandas->evaluate) (1.16.0)\n"
          ]
        }
      ]
    },
    {
      "cell_type": "code",
      "source": [
        "label_list = list(label2id.keys())\n",
        "\n",
        "def compute_metrics(p):\n",
        "    predictions, labels = p\n",
        "    predictions = np.argmax(predictions, axis=2)\n",
        "\n",
        "\n",
        "    global true_predictions\n",
        "    true_predictions  = [\n",
        "        [label_list[p] for (p, l) in zip(prediction, label) if l != -100]\n",
        "        for prediction, label in zip(predictions, labels)\n",
        "    ]\n",
        "    global true_labels\n",
        "    true_labels = [\n",
        "        [label_list[l] for (p, l) in zip(prediction, label) if l != -100]\n",
        "        for prediction, label in zip(predictions, labels)\n",
        "    ]\n",
        "\n",
        "    results = seqeval.compute(predictions=true_predictions, references=true_labels)\n",
        "\n",
        "\n",
        "    return {\n",
        "        \"precision\": results[\"overall_precision\"],\n",
        "        \"recall\": results[\"overall_recall\"],\n",
        "        \"f1\": results[\"overall_f1\"],\n",
        "        \"accuracy\": results[\"overall_accuracy\"],\n",
        "    }"
      ],
      "metadata": {
        "id": "6229Y7mkjjxu"
      },
      "execution_count": 73,
      "outputs": []
    },
    {
      "cell_type": "code",
      "source": [
        "seqeval = evaluate.load(\"seqeval\")\n",
        "\n",
        "save_directory = \"./model-scratch-1\"\n",
        "lr = 2e-5\n",
        "epochs = 20\n",
        "steps = 100\n",
        "\n",
        "\n",
        "\"\"\"# Adding early stopping :\n",
        "early_stopping_callback = EarlyStoppingCallback(\n",
        "    early_stopping_patience=5,  # Number of evaluation steps with no improvement before stopping\n",
        "    early_stopping_threshold=0.01,  # Minimum change to qualify as an improvement\n",
        ")\"\"\"\n",
        "\n",
        "\n",
        "training_args = TrainingArguments(\n",
        "    output_dir=save_directory,\n",
        "    learning_rate=2e-5,\n",
        "    per_device_train_batch_size=16,\n",
        "    per_device_eval_batch_size=16,\n",
        "    num_train_epochs=5,\n",
        "    logging_steps=100,\n",
        "    weight_decay=0.01,\n",
        "    eval_strategy=\"epoch\",\n",
        "    save_strategy=\"epoch\",\n",
        "    load_best_model_at_end=True,\n",
        "    push_to_hub=True,\n",
        ")\n",
        "\n",
        "\n",
        "trainer = Trainer(\n",
        "    model=model_scratch,\n",
        "    args=training_args,\n",
        "    train_dataset=dataset_dict[\"train\"],\n",
        "    eval_dataset=dataset_dict[\"validation\"],\n",
        "    tokenizer=tokenizer_scratch,\n",
        "    compute_metrics=compute_metrics,\n",
        "    #callbacks=[early_stopping_callback]\n",
        ")\n",
        "\n",
        "# Start training\n",
        "trainer.train()"
      ],
      "metadata": {
        "colab": {
          "base_uri": "https://localhost:8080/",
          "height": 268
        },
        "id": "dDFlelLzi0c3",
        "outputId": "a69c40f6-54f9-4c62-b4b3-c97f469e8595"
      },
      "execution_count": 76,
      "outputs": [
        {
          "output_type": "display_data",
          "data": {
            "text/plain": [
              "<IPython.core.display.HTML object>"
            ],
            "text/html": [
              "\n",
              "    <div>\n",
              "      \n",
              "      <progress value='75' max='75' style='width:300px; height:20px; vertical-align: middle;'></progress>\n",
              "      [75/75 13:52, Epoch 5/5]\n",
              "    </div>\n",
              "    <table border=\"1\" class=\"dataframe\">\n",
              "  <thead>\n",
              " <tr style=\"text-align: left;\">\n",
              "      <th>Epoch</th>\n",
              "      <th>Training Loss</th>\n",
              "      <th>Validation Loss</th>\n",
              "      <th>Precision</th>\n",
              "      <th>Recall</th>\n",
              "      <th>F1</th>\n",
              "      <th>Accuracy</th>\n",
              "    </tr>\n",
              "  </thead>\n",
              "  <tbody>\n",
              "    <tr>\n",
              "      <td>1</td>\n",
              "      <td>No log</td>\n",
              "      <td>0.936353</td>\n",
              "      <td>0.000000</td>\n",
              "      <td>0.000000</td>\n",
              "      <td>0.000000</td>\n",
              "      <td>0.606154</td>\n",
              "    </tr>\n",
              "    <tr>\n",
              "      <td>2</td>\n",
              "      <td>No log</td>\n",
              "      <td>0.841840</td>\n",
              "      <td>0.208861</td>\n",
              "      <td>0.302752</td>\n",
              "      <td>0.247191</td>\n",
              "      <td>0.660000</td>\n",
              "    </tr>\n",
              "    <tr>\n",
              "      <td>3</td>\n",
              "      <td>No log</td>\n",
              "      <td>0.828182</td>\n",
              "      <td>0.168142</td>\n",
              "      <td>0.174312</td>\n",
              "      <td>0.171171</td>\n",
              "      <td>0.647692</td>\n",
              "    </tr>\n",
              "    <tr>\n",
              "      <td>4</td>\n",
              "      <td>No log</td>\n",
              "      <td>0.817087</td>\n",
              "      <td>0.194915</td>\n",
              "      <td>0.211009</td>\n",
              "      <td>0.202643</td>\n",
              "      <td>0.636923</td>\n",
              "    </tr>\n",
              "    <tr>\n",
              "      <td>5</td>\n",
              "      <td>No log</td>\n",
              "      <td>0.804281</td>\n",
              "      <td>0.228758</td>\n",
              "      <td>0.321101</td>\n",
              "      <td>0.267176</td>\n",
              "      <td>0.683077</td>\n",
              "    </tr>\n",
              "  </tbody>\n",
              "</table><p>"
            ]
          },
          "metadata": {}
        },
        {
          "output_type": "execute_result",
          "data": {
            "text/plain": [
              "TrainOutput(global_step=75, training_loss=0.8276736958821614, metrics={'train_runtime': 846.0976, 'train_samples_per_second': 1.418, 'train_steps_per_second': 0.089, 'total_flos': 0.0, 'train_loss': 0.8276736958821614, 'epoch': 5.0})"
            ]
          },
          "metadata": {},
          "execution_count": 76
        }
      ]
    },
    {
      "cell_type": "code",
      "source": [
        "# Evaluate the model\n",
        "results = trainer.evaluate()\n",
        "print(results)"
      ],
      "metadata": {
        "id": "sKicPnVlj3ND",
        "colab": {
          "base_uri": "https://localhost:8080/",
          "height": 75
        },
        "outputId": "cc296b75-32c7-4934-ee52-f65756c53a8e"
      },
      "execution_count": 77,
      "outputs": [
        {
          "output_type": "display_data",
          "data": {
            "text/plain": [
              "<IPython.core.display.HTML object>"
            ],
            "text/html": [
              "\n",
              "    <div>\n",
              "      \n",
              "      <progress value='4' max='4' style='width:300px; height:20px; vertical-align: middle;'></progress>\n",
              "      [4/4 00:08]\n",
              "    </div>\n",
              "    "
            ]
          },
          "metadata": {}
        },
        {
          "output_type": "stream",
          "name": "stdout",
          "text": [
            "{'eval_loss': 0.8042813539505005, 'eval_precision': 0.22875816993464052, 'eval_recall': 0.3211009174311927, 'eval_f1': 0.26717557251908397, 'eval_accuracy': 0.683076923076923, 'eval_runtime': 11.0932, 'eval_samples_per_second': 5.499, 'eval_steps_per_second': 0.361, 'epoch': 5.0}\n"
          ]
        }
      ]
    },
    {
      "cell_type": "code",
      "source": [
        "# visualize model\n",
        "\"\"\"\n",
        "import hiddenlayer as hl\n",
        "\n",
        "transforms = [ hl.transforms.Prune('Constant') ] # Removes Constant nodes from graph.\n",
        "\n",
        "graph = hl.build_graph(model, batch.text, transforms=transforms)\n",
        "graph.theme = hl.graph.THEMES['blue'].copy()\n",
        "graph.save('rnn_hiddenlayer', format='png')\"\"\""
      ],
      "metadata": {
        "colab": {
          "base_uri": "https://localhost:8080/",
          "height": 53
        },
        "id": "ji5QTsnNSW2j",
        "outputId": "96c881dc-d7c8-4208-8a40-467228ea569a"
      },
      "execution_count": null,
      "outputs": [
        {
          "output_type": "execute_result",
          "data": {
            "text/plain": [
              "\"\\nimport hiddenlayer as hl\\n\\ntransforms = [ hl.transforms.Prune('Constant') ] # Removes Constant nodes from graph.\\n\\ngraph = hl.build_graph(model, batch.text, transforms=transforms)\\ngraph.theme = hl.graph.THEMES['blue'].copy()\\ngraph.save('rnn_hiddenlayer', format='png')\""
            ],
            "application/vnd.google.colaboratory.intrinsic+json": {
              "type": "string"
            }
          },
          "metadata": {},
          "execution_count": 153
        }
      ]
    },
    {
      "cell_type": "code",
      "source": [],
      "metadata": {
        "id": "tHholcuQTGT_"
      },
      "execution_count": null,
      "outputs": []
    }
  ],
  "metadata": {
    "colab": {
      "provenance": [],
      "machine_shape": "hm",
      "toc_visible": true,
      "mount_file_id": "1bN2N3GNvEBU2-YIP3mDOqdD_HiyT1_oM",
      "authorship_tag": "ABX9TyMXiiYz6wgfx3Z19ZPlei0v"
    },
    "kernelspec": {
      "display_name": "Python 3",
      "name": "python3"
    },
    "language_info": {
      "name": "python"
    },
    "widgets": {
      "application/vnd.jupyter.widget-state+json": {
        "1d30f29ee4784ad8a129d1fb2c27c7c6": {
          "model_module": "@jupyter-widgets/controls",
          "model_name": "HBoxModel",
          "model_module_version": "1.5.0",
          "state": {
            "_dom_classes": [],
            "_model_module": "@jupyter-widgets/controls",
            "_model_module_version": "1.5.0",
            "_model_name": "HBoxModel",
            "_view_count": null,
            "_view_module": "@jupyter-widgets/controls",
            "_view_module_version": "1.5.0",
            "_view_name": "HBoxView",
            "box_style": "",
            "children": [
              "IPY_MODEL_5ea33adf655b4111a3737c826d77cf9e",
              "IPY_MODEL_c6622e8633244c6dae968f1cac777574",
              "IPY_MODEL_73c925506ea745d08f51350bff54fb12"
            ],
            "layout": "IPY_MODEL_78983b68258642f68e4916a8f1a30819"
          }
        },
        "5ea33adf655b4111a3737c826d77cf9e": {
          "model_module": "@jupyter-widgets/controls",
          "model_name": "HTMLModel",
          "model_module_version": "1.5.0",
          "state": {
            "_dom_classes": [],
            "_model_module": "@jupyter-widgets/controls",
            "_model_module_version": "1.5.0",
            "_model_name": "HTMLModel",
            "_view_count": null,
            "_view_module": "@jupyter-widgets/controls",
            "_view_module_version": "1.5.0",
            "_view_name": "HTMLView",
            "description": "",
            "description_tooltip": null,
            "layout": "IPY_MODEL_6e098d837bc04b4e97465cf6364585ed",
            "placeholder": "​",
            "style": "IPY_MODEL_c2af08cb26484911ae40edf082eacc95",
            "value": "Map: 100%"
          }
        },
        "c6622e8633244c6dae968f1cac777574": {
          "model_module": "@jupyter-widgets/controls",
          "model_name": "FloatProgressModel",
          "model_module_version": "1.5.0",
          "state": {
            "_dom_classes": [],
            "_model_module": "@jupyter-widgets/controls",
            "_model_module_version": "1.5.0",
            "_model_name": "FloatProgressModel",
            "_view_count": null,
            "_view_module": "@jupyter-widgets/controls",
            "_view_module_version": "1.5.0",
            "_view_name": "ProgressView",
            "bar_style": "success",
            "description": "",
            "description_tooltip": null,
            "layout": "IPY_MODEL_b53925a3265b41ab818fa89f0c37fdc9",
            "max": 2,
            "min": 0,
            "orientation": "horizontal",
            "style": "IPY_MODEL_eb243474d37e48f6aedc4b2bbbca3cf8",
            "value": 2
          }
        },
        "73c925506ea745d08f51350bff54fb12": {
          "model_module": "@jupyter-widgets/controls",
          "model_name": "HTMLModel",
          "model_module_version": "1.5.0",
          "state": {
            "_dom_classes": [],
            "_model_module": "@jupyter-widgets/controls",
            "_model_module_version": "1.5.0",
            "_model_name": "HTMLModel",
            "_view_count": null,
            "_view_module": "@jupyter-widgets/controls",
            "_view_module_version": "1.5.0",
            "_view_name": "HTMLView",
            "description": "",
            "description_tooltip": null,
            "layout": "IPY_MODEL_60a752e6a287481eb180f7a181173bb3",
            "placeholder": "​",
            "style": "IPY_MODEL_0c6a775c719a445e88638267fbb11101",
            "value": " 2/2 [00:00&lt;00:00, 56.66 examples/s]"
          }
        },
        "78983b68258642f68e4916a8f1a30819": {
          "model_module": "@jupyter-widgets/base",
          "model_name": "LayoutModel",
          "model_module_version": "1.2.0",
          "state": {
            "_model_module": "@jupyter-widgets/base",
            "_model_module_version": "1.2.0",
            "_model_name": "LayoutModel",
            "_view_count": null,
            "_view_module": "@jupyter-widgets/base",
            "_view_module_version": "1.2.0",
            "_view_name": "LayoutView",
            "align_content": null,
            "align_items": null,
            "align_self": null,
            "border": null,
            "bottom": null,
            "display": null,
            "flex": null,
            "flex_flow": null,
            "grid_area": null,
            "grid_auto_columns": null,
            "grid_auto_flow": null,
            "grid_auto_rows": null,
            "grid_column": null,
            "grid_gap": null,
            "grid_row": null,
            "grid_template_areas": null,
            "grid_template_columns": null,
            "grid_template_rows": null,
            "height": null,
            "justify_content": null,
            "justify_items": null,
            "left": null,
            "margin": null,
            "max_height": null,
            "max_width": null,
            "min_height": null,
            "min_width": null,
            "object_fit": null,
            "object_position": null,
            "order": null,
            "overflow": null,
            "overflow_x": null,
            "overflow_y": null,
            "padding": null,
            "right": null,
            "top": null,
            "visibility": null,
            "width": null
          }
        },
        "6e098d837bc04b4e97465cf6364585ed": {
          "model_module": "@jupyter-widgets/base",
          "model_name": "LayoutModel",
          "model_module_version": "1.2.0",
          "state": {
            "_model_module": "@jupyter-widgets/base",
            "_model_module_version": "1.2.0",
            "_model_name": "LayoutModel",
            "_view_count": null,
            "_view_module": "@jupyter-widgets/base",
            "_view_module_version": "1.2.0",
            "_view_name": "LayoutView",
            "align_content": null,
            "align_items": null,
            "align_self": null,
            "border": null,
            "bottom": null,
            "display": null,
            "flex": null,
            "flex_flow": null,
            "grid_area": null,
            "grid_auto_columns": null,
            "grid_auto_flow": null,
            "grid_auto_rows": null,
            "grid_column": null,
            "grid_gap": null,
            "grid_row": null,
            "grid_template_areas": null,
            "grid_template_columns": null,
            "grid_template_rows": null,
            "height": null,
            "justify_content": null,
            "justify_items": null,
            "left": null,
            "margin": null,
            "max_height": null,
            "max_width": null,
            "min_height": null,
            "min_width": null,
            "object_fit": null,
            "object_position": null,
            "order": null,
            "overflow": null,
            "overflow_x": null,
            "overflow_y": null,
            "padding": null,
            "right": null,
            "top": null,
            "visibility": null,
            "width": null
          }
        },
        "c2af08cb26484911ae40edf082eacc95": {
          "model_module": "@jupyter-widgets/controls",
          "model_name": "DescriptionStyleModel",
          "model_module_version": "1.5.0",
          "state": {
            "_model_module": "@jupyter-widgets/controls",
            "_model_module_version": "1.5.0",
            "_model_name": "DescriptionStyleModel",
            "_view_count": null,
            "_view_module": "@jupyter-widgets/base",
            "_view_module_version": "1.2.0",
            "_view_name": "StyleView",
            "description_width": ""
          }
        },
        "b53925a3265b41ab818fa89f0c37fdc9": {
          "model_module": "@jupyter-widgets/base",
          "model_name": "LayoutModel",
          "model_module_version": "1.2.0",
          "state": {
            "_model_module": "@jupyter-widgets/base",
            "_model_module_version": "1.2.0",
            "_model_name": "LayoutModel",
            "_view_count": null,
            "_view_module": "@jupyter-widgets/base",
            "_view_module_version": "1.2.0",
            "_view_name": "LayoutView",
            "align_content": null,
            "align_items": null,
            "align_self": null,
            "border": null,
            "bottom": null,
            "display": null,
            "flex": null,
            "flex_flow": null,
            "grid_area": null,
            "grid_auto_columns": null,
            "grid_auto_flow": null,
            "grid_auto_rows": null,
            "grid_column": null,
            "grid_gap": null,
            "grid_row": null,
            "grid_template_areas": null,
            "grid_template_columns": null,
            "grid_template_rows": null,
            "height": null,
            "justify_content": null,
            "justify_items": null,
            "left": null,
            "margin": null,
            "max_height": null,
            "max_width": null,
            "min_height": null,
            "min_width": null,
            "object_fit": null,
            "object_position": null,
            "order": null,
            "overflow": null,
            "overflow_x": null,
            "overflow_y": null,
            "padding": null,
            "right": null,
            "top": null,
            "visibility": null,
            "width": null
          }
        },
        "eb243474d37e48f6aedc4b2bbbca3cf8": {
          "model_module": "@jupyter-widgets/controls",
          "model_name": "ProgressStyleModel",
          "model_module_version": "1.5.0",
          "state": {
            "_model_module": "@jupyter-widgets/controls",
            "_model_module_version": "1.5.0",
            "_model_name": "ProgressStyleModel",
            "_view_count": null,
            "_view_module": "@jupyter-widgets/base",
            "_view_module_version": "1.2.0",
            "_view_name": "StyleView",
            "bar_color": null,
            "description_width": ""
          }
        },
        "60a752e6a287481eb180f7a181173bb3": {
          "model_module": "@jupyter-widgets/base",
          "model_name": "LayoutModel",
          "model_module_version": "1.2.0",
          "state": {
            "_model_module": "@jupyter-widgets/base",
            "_model_module_version": "1.2.0",
            "_model_name": "LayoutModel",
            "_view_count": null,
            "_view_module": "@jupyter-widgets/base",
            "_view_module_version": "1.2.0",
            "_view_name": "LayoutView",
            "align_content": null,
            "align_items": null,
            "align_self": null,
            "border": null,
            "bottom": null,
            "display": null,
            "flex": null,
            "flex_flow": null,
            "grid_area": null,
            "grid_auto_columns": null,
            "grid_auto_flow": null,
            "grid_auto_rows": null,
            "grid_column": null,
            "grid_gap": null,
            "grid_row": null,
            "grid_template_areas": null,
            "grid_template_columns": null,
            "grid_template_rows": null,
            "height": null,
            "justify_content": null,
            "justify_items": null,
            "left": null,
            "margin": null,
            "max_height": null,
            "max_width": null,
            "min_height": null,
            "min_width": null,
            "object_fit": null,
            "object_position": null,
            "order": null,
            "overflow": null,
            "overflow_x": null,
            "overflow_y": null,
            "padding": null,
            "right": null,
            "top": null,
            "visibility": null,
            "width": null
          }
        },
        "0c6a775c719a445e88638267fbb11101": {
          "model_module": "@jupyter-widgets/controls",
          "model_name": "DescriptionStyleModel",
          "model_module_version": "1.5.0",
          "state": {
            "_model_module": "@jupyter-widgets/controls",
            "_model_module_version": "1.5.0",
            "_model_name": "DescriptionStyleModel",
            "_view_count": null,
            "_view_module": "@jupyter-widgets/base",
            "_view_module_version": "1.2.0",
            "_view_name": "StyleView",
            "description_width": ""
          }
        },
        "2215333b90df4acb815d2bedee672a66": {
          "model_module": "@jupyter-widgets/controls",
          "model_name": "HBoxModel",
          "model_module_version": "1.5.0",
          "state": {
            "_dom_classes": [],
            "_model_module": "@jupyter-widgets/controls",
            "_model_module_version": "1.5.0",
            "_model_name": "HBoxModel",
            "_view_count": null,
            "_view_module": "@jupyter-widgets/controls",
            "_view_module_version": "1.5.0",
            "_view_name": "HBoxView",
            "box_style": "",
            "children": [
              "IPY_MODEL_b59af8b84b744a7ab0183b14a88b4b93",
              "IPY_MODEL_66f806961ce941378f34bdb563a69be2",
              "IPY_MODEL_118eca16af634c72b0f085e74cc2aa01"
            ],
            "layout": "IPY_MODEL_21e4cd3fdb114ca0ba0d3f11cb9991e9"
          }
        },
        "b59af8b84b744a7ab0183b14a88b4b93": {
          "model_module": "@jupyter-widgets/controls",
          "model_name": "HTMLModel",
          "model_module_version": "1.5.0",
          "state": {
            "_dom_classes": [],
            "_model_module": "@jupyter-widgets/controls",
            "_model_module_version": "1.5.0",
            "_model_name": "HTMLModel",
            "_view_count": null,
            "_view_module": "@jupyter-widgets/controls",
            "_view_module_version": "1.5.0",
            "_view_name": "HTMLView",
            "description": "",
            "description_tooltip": null,
            "layout": "IPY_MODEL_1981ec59f49144e3b9a9c5e74635dd42",
            "placeholder": "​",
            "style": "IPY_MODEL_b4240469db53486bb6d827ebf57d0527",
            "value": "Map: 100%"
          }
        },
        "66f806961ce941378f34bdb563a69be2": {
          "model_module": "@jupyter-widgets/controls",
          "model_name": "FloatProgressModel",
          "model_module_version": "1.5.0",
          "state": {
            "_dom_classes": [],
            "_model_module": "@jupyter-widgets/controls",
            "_model_module_version": "1.5.0",
            "_model_name": "FloatProgressModel",
            "_view_count": null,
            "_view_module": "@jupyter-widgets/controls",
            "_view_module_version": "1.5.0",
            "_view_name": "ProgressView",
            "bar_style": "success",
            "description": "",
            "description_tooltip": null,
            "layout": "IPY_MODEL_18e4fde566d74980baa93965a0517842",
            "max": 301,
            "min": 0,
            "orientation": "horizontal",
            "style": "IPY_MODEL_43466daa49e94f4394aff760cc0e06c3",
            "value": 301
          }
        },
        "118eca16af634c72b0f085e74cc2aa01": {
          "model_module": "@jupyter-widgets/controls",
          "model_name": "HTMLModel",
          "model_module_version": "1.5.0",
          "state": {
            "_dom_classes": [],
            "_model_module": "@jupyter-widgets/controls",
            "_model_module_version": "1.5.0",
            "_model_name": "HTMLModel",
            "_view_count": null,
            "_view_module": "@jupyter-widgets/controls",
            "_view_module_version": "1.5.0",
            "_view_name": "HTMLView",
            "description": "",
            "description_tooltip": null,
            "layout": "IPY_MODEL_50a8dd9f78df4725b6ce2f97a4122868",
            "placeholder": "​",
            "style": "IPY_MODEL_643cbcd811114031a9e3b065e2f83fce",
            "value": " 301/301 [00:00&lt;00:00, 2213.38 examples/s]"
          }
        },
        "21e4cd3fdb114ca0ba0d3f11cb9991e9": {
          "model_module": "@jupyter-widgets/base",
          "model_name": "LayoutModel",
          "model_module_version": "1.2.0",
          "state": {
            "_model_module": "@jupyter-widgets/base",
            "_model_module_version": "1.2.0",
            "_model_name": "LayoutModel",
            "_view_count": null,
            "_view_module": "@jupyter-widgets/base",
            "_view_module_version": "1.2.0",
            "_view_name": "LayoutView",
            "align_content": null,
            "align_items": null,
            "align_self": null,
            "border": null,
            "bottom": null,
            "display": null,
            "flex": null,
            "flex_flow": null,
            "grid_area": null,
            "grid_auto_columns": null,
            "grid_auto_flow": null,
            "grid_auto_rows": null,
            "grid_column": null,
            "grid_gap": null,
            "grid_row": null,
            "grid_template_areas": null,
            "grid_template_columns": null,
            "grid_template_rows": null,
            "height": null,
            "justify_content": null,
            "justify_items": null,
            "left": null,
            "margin": null,
            "max_height": null,
            "max_width": null,
            "min_height": null,
            "min_width": null,
            "object_fit": null,
            "object_position": null,
            "order": null,
            "overflow": null,
            "overflow_x": null,
            "overflow_y": null,
            "padding": null,
            "right": null,
            "top": null,
            "visibility": null,
            "width": null
          }
        },
        "1981ec59f49144e3b9a9c5e74635dd42": {
          "model_module": "@jupyter-widgets/base",
          "model_name": "LayoutModel",
          "model_module_version": "1.2.0",
          "state": {
            "_model_module": "@jupyter-widgets/base",
            "_model_module_version": "1.2.0",
            "_model_name": "LayoutModel",
            "_view_count": null,
            "_view_module": "@jupyter-widgets/base",
            "_view_module_version": "1.2.0",
            "_view_name": "LayoutView",
            "align_content": null,
            "align_items": null,
            "align_self": null,
            "border": null,
            "bottom": null,
            "display": null,
            "flex": null,
            "flex_flow": null,
            "grid_area": null,
            "grid_auto_columns": null,
            "grid_auto_flow": null,
            "grid_auto_rows": null,
            "grid_column": null,
            "grid_gap": null,
            "grid_row": null,
            "grid_template_areas": null,
            "grid_template_columns": null,
            "grid_template_rows": null,
            "height": null,
            "justify_content": null,
            "justify_items": null,
            "left": null,
            "margin": null,
            "max_height": null,
            "max_width": null,
            "min_height": null,
            "min_width": null,
            "object_fit": null,
            "object_position": null,
            "order": null,
            "overflow": null,
            "overflow_x": null,
            "overflow_y": null,
            "padding": null,
            "right": null,
            "top": null,
            "visibility": null,
            "width": null
          }
        },
        "b4240469db53486bb6d827ebf57d0527": {
          "model_module": "@jupyter-widgets/controls",
          "model_name": "DescriptionStyleModel",
          "model_module_version": "1.5.0",
          "state": {
            "_model_module": "@jupyter-widgets/controls",
            "_model_module_version": "1.5.0",
            "_model_name": "DescriptionStyleModel",
            "_view_count": null,
            "_view_module": "@jupyter-widgets/base",
            "_view_module_version": "1.2.0",
            "_view_name": "StyleView",
            "description_width": ""
          }
        },
        "18e4fde566d74980baa93965a0517842": {
          "model_module": "@jupyter-widgets/base",
          "model_name": "LayoutModel",
          "model_module_version": "1.2.0",
          "state": {
            "_model_module": "@jupyter-widgets/base",
            "_model_module_version": "1.2.0",
            "_model_name": "LayoutModel",
            "_view_count": null,
            "_view_module": "@jupyter-widgets/base",
            "_view_module_version": "1.2.0",
            "_view_name": "LayoutView",
            "align_content": null,
            "align_items": null,
            "align_self": null,
            "border": null,
            "bottom": null,
            "display": null,
            "flex": null,
            "flex_flow": null,
            "grid_area": null,
            "grid_auto_columns": null,
            "grid_auto_flow": null,
            "grid_auto_rows": null,
            "grid_column": null,
            "grid_gap": null,
            "grid_row": null,
            "grid_template_areas": null,
            "grid_template_columns": null,
            "grid_template_rows": null,
            "height": null,
            "justify_content": null,
            "justify_items": null,
            "left": null,
            "margin": null,
            "max_height": null,
            "max_width": null,
            "min_height": null,
            "min_width": null,
            "object_fit": null,
            "object_position": null,
            "order": null,
            "overflow": null,
            "overflow_x": null,
            "overflow_y": null,
            "padding": null,
            "right": null,
            "top": null,
            "visibility": null,
            "width": null
          }
        },
        "43466daa49e94f4394aff760cc0e06c3": {
          "model_module": "@jupyter-widgets/controls",
          "model_name": "ProgressStyleModel",
          "model_module_version": "1.5.0",
          "state": {
            "_model_module": "@jupyter-widgets/controls",
            "_model_module_version": "1.5.0",
            "_model_name": "ProgressStyleModel",
            "_view_count": null,
            "_view_module": "@jupyter-widgets/base",
            "_view_module_version": "1.2.0",
            "_view_name": "StyleView",
            "bar_color": null,
            "description_width": ""
          }
        },
        "50a8dd9f78df4725b6ce2f97a4122868": {
          "model_module": "@jupyter-widgets/base",
          "model_name": "LayoutModel",
          "model_module_version": "1.2.0",
          "state": {
            "_model_module": "@jupyter-widgets/base",
            "_model_module_version": "1.2.0",
            "_model_name": "LayoutModel",
            "_view_count": null,
            "_view_module": "@jupyter-widgets/base",
            "_view_module_version": "1.2.0",
            "_view_name": "LayoutView",
            "align_content": null,
            "align_items": null,
            "align_self": null,
            "border": null,
            "bottom": null,
            "display": null,
            "flex": null,
            "flex_flow": null,
            "grid_area": null,
            "grid_auto_columns": null,
            "grid_auto_flow": null,
            "grid_auto_rows": null,
            "grid_column": null,
            "grid_gap": null,
            "grid_row": null,
            "grid_template_areas": null,
            "grid_template_columns": null,
            "grid_template_rows": null,
            "height": null,
            "justify_content": null,
            "justify_items": null,
            "left": null,
            "margin": null,
            "max_height": null,
            "max_width": null,
            "min_height": null,
            "min_width": null,
            "object_fit": null,
            "object_position": null,
            "order": null,
            "overflow": null,
            "overflow_x": null,
            "overflow_y": null,
            "padding": null,
            "right": null,
            "top": null,
            "visibility": null,
            "width": null
          }
        },
        "643cbcd811114031a9e3b065e2f83fce": {
          "model_module": "@jupyter-widgets/controls",
          "model_name": "DescriptionStyleModel",
          "model_module_version": "1.5.0",
          "state": {
            "_model_module": "@jupyter-widgets/controls",
            "_model_module_version": "1.5.0",
            "_model_name": "DescriptionStyleModel",
            "_view_count": null,
            "_view_module": "@jupyter-widgets/base",
            "_view_module_version": "1.2.0",
            "_view_name": "StyleView",
            "description_width": ""
          }
        }
      }
    }
  },
  "nbformat": 4,
  "nbformat_minor": 0
}