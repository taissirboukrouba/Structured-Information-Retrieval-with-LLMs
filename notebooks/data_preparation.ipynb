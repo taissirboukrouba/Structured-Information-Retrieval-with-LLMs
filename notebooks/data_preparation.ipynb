{
  "nbformat": 4,
  "nbformat_minor": 0,
  "metadata": {
    "colab": {
      "provenance": [],
      "authorship_tag": "ABX9TyPCkaUhbyF0zG15OdtAVHjS"
    },
    "kernelspec": {
      "name": "python3",
      "display_name": "Python 3"
    },
    "language_info": {
      "name": "python"
    }
  },
  "cells": [
    {
      "cell_type": "markdown",
      "source": [
        "# Dataset Collection\n",
        "\n",
        "-\tThe data was collected from Google Cloud Storage (GCS) where it was available for free in buckets for bulk Access.\n",
        "-\tThe command line tool `gsutil` was used to access ArXive’s physics PDF buckets and downloaded into local machine.\n",
        "-\tThe size was about 7.19GB of 22.3K PDFs of different versions  -\tThe dataset was then uploaded into Google Drive to be easily accessed through Google Collab.  "
      ],
      "metadata": {
        "id": "MI-XcwChd7ku"
      }
    }
  ]
}