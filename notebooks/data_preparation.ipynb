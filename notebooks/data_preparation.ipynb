{
 "cells": [
  {
   "cell_type": "markdown",
   "metadata": {
    "id": "MI-XcwChd7ku"
   },
   "source": [
    "# Dataset Collection\n",
    "\n",
    "-\tThe data was collected from Google Cloud Storage (GCS) where it was available for free in buckets for bulk Access.\n",
    "-\tThe command line tool `gsutil` was used to access ArXive’s physics PDF buckets and downloaded into local machine.\n",
    "-\tThe size was about 7.19GB of 22.3K PDFs of different versions  -\tThe dataset was then uploaded into Google Drive to be easily accessed through Google Collab.  "
   ]
  },
  {
   "cell_type": "markdown",
   "metadata": {
    "id": "Qih2ffqxvZWX",
    "tags": []
   },
   "source": [
    "# PDF To Text\n",
    "Since the files we have are **native PDFs** (which means text is already digitally encoded ) there is **no need to apply any OCR** (Optical character recognition) techniques.\n",
    "\n",
    "- This means we will use **PyMuPDF** ,  **PyPDF2** or **PDFMiner.six**\n",
    "- We will test all of them on one PDF file and see the results\n",
    "- The evaluation is going to be done manually (human evalution)"
   ]
  },
  {
   "cell_type": "code",
   "execution_count": null,
   "metadata": {
    "id": "cBwgXUwprIiJ",
    "tags": []
   },
   "outputs": [],
   "source": [
    "pdf_file =  \"/Users/tayssirboukrouba/Downloads/dataset/pdf/9905/9905061v3.pdf\""
   ]
  },
  {
   "cell_type": "markdown",
   "metadata": {
    "id": "5kwucgEZigYa"
   },
   "source": [
    "## Testing **PyMuPDF**"
   ]
  },
  {
   "cell_type": "code",
   "execution_count": null,
   "metadata": {
    "colab": {
     "base_uri": "https://localhost:8080/"
    },
    "id": "ysPW3esSvNRy",
    "outputId": "bedc213d-3105-4100-eb64-994cb6231b22",
    "tags": []
   },
   "outputs": [],
   "source": [
    "pip install PyMuPDF"
   ]
  },
  {
   "cell_type": "code",
   "execution_count": null,
   "metadata": {
    "id": "WRcRjYEBr6fk",
    "tags": []
   },
   "outputs": [],
   "source": [
    "import pymupdf\n",
    "\n",
    "doc = pymupdf.open(pdf_file)\n",
    "pymupdf_text = \"\\n\".join([page.get_text() for page in doc])"
   ]
  },
  {
   "cell_type": "code",
   "execution_count": null,
   "metadata": {
    "colab": {
     "base_uri": "https://localhost:8080/"
    },
    "id": "xKXlidp-sJG0",
    "jupyter": {
     "source_hidden": true
    },
    "outputId": "2e808438-7a83-4e7e-cbc0-743d1f68e74d",
    "tags": []
   },
   "outputs": [],
   "source": [
    "print(pymupdf_text)"
   ]
  },
  {
   "cell_type": "code",
   "execution_count": null,
   "metadata": {
    "colab": {
     "base_uri": "https://localhost:8080/"
    },
    "id": "xKXlidp-sJG0",
    "outputId": "2e808438-7a83-4e7e-cbc0-743d1f68e74d",
    "tags": []
   },
   "outputs": [],
   "source": [
    "print(pymupdf_text)"
   ]
  },
  {
   "cell_type": "markdown",
   "metadata": {
    "id": "4vNxTg1aivD3"
   },
   "source": [
    "## Testing **PyPDF2**"
   ]
  },
  {
   "cell_type": "code",
   "execution_count": null,
   "metadata": {
    "colab": {
     "base_uri": "https://localhost:8080/"
    },
    "id": "t6A2_SXLivD4",
    "outputId": "3fe29736-ef5e-4f1f-de50-bda6cee5ef3e",
    "tags": []
   },
   "outputs": [],
   "source": [
    "pip install PyPDF2"
   ]
  },
  {
   "cell_type": "code",
   "execution_count": null,
   "metadata": {
    "id": "LrgaQ-HbsdyC",
    "tags": []
   },
   "outputs": [],
   "source": [
    "from PyPDF2 import PdfReader\n",
    "\n",
    "reader = PdfReader(pdf_file)\n",
    "\n",
    "pypdf_text = \"\\n\".join([page.extract_text()for page in reader.pages])"
   ]
  },
  {
   "cell_type": "code",
   "execution_count": null,
   "metadata": {
    "colab": {
     "base_uri": "https://localhost:8080/"
    },
    "id": "BDamQlNvt_zK",
    "outputId": "44f20837-25a4-4950-f6eb-23cd97f70575",
    "tags": []
   },
   "outputs": [],
   "source": [
    "print(pypdf_text)"
   ]
  },
  {
   "cell_type": "code",
   "execution_count": null,
   "metadata": {
    "colab": {
     "base_uri": "https://localhost:8080/"
    },
    "id": "F2G-5COSueqN",
    "outputId": "e984214b-37b6-49c8-94e1-7c4e43dc8e32",
    "tags": []
   },
   "outputs": [],
   "source": [
    "pypdf_text == pymupdf_text"
   ]
  },
  {
   "cell_type": "markdown",
   "metadata": {
    "id": "sh_p9O748gZS"
   },
   "source": [
    "## Testing **PDFMiner.six**"
   ]
  },
  {
   "cell_type": "code",
   "execution_count": null,
   "metadata": {
    "colab": {
     "base_uri": "https://localhost:8080/"
    },
    "id": "jsXdbaAExEeD",
    "outputId": "aac50eae-1120-4c9e-ae16-762904df7043",
    "tags": []
   },
   "outputs": [],
   "source": [
    "pip install pdfminer.six"
   ]
  },
  {
   "cell_type": "code",
   "execution_count": null,
   "metadata": {
    "id": "O3hlrCSzArkb",
    "tags": []
   },
   "outputs": [],
   "source": [
    "from io import StringIO\n",
    "import re\n",
    "from pdfminer.converter import TextConverter\n",
    "from pdfminer.layout import LAParams\n",
    "from pdfminer.pdfdocument import PDFDocument\n",
    "from pdfminer.pdfinterp import PDFResourceManager, PDFPageInterpreter\n",
    "from pdfminer.pdfpage import PDFPage\n",
    "from pdfminer.pdfparser import PDFParser\n",
    "\n",
    "output_string = StringIO()\n",
    "with open(pdf_file, 'rb') as in_file:\n",
    "    parser = PDFParser(in_file)\n",
    "    doc = PDFDocument(parser)\n",
    "    rsrcmgr = PDFResourceManager()\n",
    "    device = TextConverter(rsrcmgr, output_string, laparams=LAParams())\n",
    "    interpreter = PDFPageInterpreter(rsrcmgr, device)\n",
    "    for page in PDFPage.create_pages(doc):\n",
    "        interpreter.process_page(page)\n",
    "\n",
    "pdfminer_text = output_string.getvalue()"
   ]
  },
  {
   "cell_type": "code",
   "execution_count": null,
   "metadata": {
    "colab": {
     "base_uri": "https://localhost:8080/"
    },
    "id": "QijtNydgkTKQ",
    "outputId": "804d1ea8-ed07-4af2-8a58-6f89e9ee9fe1",
    "tags": []
   },
   "outputs": [],
   "source": [
    "print(pdfminer_text)"
   ]
  },
  {
   "cell_type": "markdown",
   "metadata": {
    "id": "hJxOqYThEwWi"
   },
   "source": [
    "## **Conclusion :**\n",
    "\n",
    "> Overall , after investigating the text files that we've got from each python tool , **PDFMiner.six** gave the best results especially detecting the variables ( some equations haven't been detected but that's not our concern )"
   ]
  },
  {
   "cell_type": "markdown",
   "metadata": {
    "id": "d9edpW3r41K4"
   },
   "source": [
    "# Testing on Math Notations\n",
    "In this step we will try to test our tools on a PDF of brute mathematical notations to see which one will do better"
   ]
  },
  {
   "cell_type": "markdown",
   "metadata": {
    "id": "_tSlAClw6OmA"
   },
   "source": [
    "## Using **PyPDF2**"
   ]
  },
  {
   "cell_type": "code",
   "execution_count": null,
   "metadata": {
    "id": "l9zrN9au43dL",
    "tags": []
   },
   "outputs": [],
   "source": [
    "from PyPDF2 import PdfReader\n",
    "\n",
    "math_pdf = \"/Users/tayssirboukrouba/Desktop/Math Notations List - Cambridge -.pdf\"\n",
    "reader = PdfReader(math_pdf)\n",
    "\n",
    "pypdf_math_text = \"\\n\".join([page.extract_text()for page in reader.pages])"
   ]
  },
  {
   "cell_type": "code",
   "execution_count": null,
   "metadata": {
    "colab": {
     "base_uri": "https://localhost:8080/"
    },
    "id": "eIaH9G8x5Mx1",
    "outputId": "ec7e6272-c14a-4e20-95da-6050ffcabe2b",
    "tags": []
   },
   "outputs": [],
   "source": [
    "print(pypdf_math_text)"
   ]
  },
  {
   "cell_type": "markdown",
   "metadata": {
    "id": "YvqLozqM6V2Y"
   },
   "source": [
    "## Using **PDFMiner.six**\n",
    "\n",
    "\n"
   ]
  },
  {
   "cell_type": "code",
   "execution_count": null,
   "metadata": {
    "id": "jo1HTYqB6jkG",
    "tags": []
   },
   "outputs": [],
   "source": [
    "from io import StringIO\n",
    "\n",
    "from pdfminer.converter import TextConverter\n",
    "from pdfminer.layout import LAParams\n",
    "from pdfminer.pdfdocument import PDFDocument\n",
    "from pdfminer.pdfinterp import PDFResourceManager, PDFPageInterpreter\n",
    "from pdfminer.pdfpage import PDFPage\n",
    "from pdfminer.pdfparser import PDFParser\n",
    "\n",
    "output_string = StringIO()\n",
    "with open(math_pdf, 'rb') as in_file:\n",
    "    parser = PDFParser(in_file)\n",
    "    doc = PDFDocument(parser)\n",
    "    rsrcmgr = PDFResourceManager()\n",
    "    device = TextConverter(rsrcmgr, output_string, laparams=LAParams())\n",
    "    interpreter = PDFPageInterpreter(rsrcmgr, device)\n",
    "    for page in PDFPage.create_pages(doc):\n",
    "        interpreter.process_page(page)\n",
    "\n",
    "pdfminer_math_text = output_string.getvalue()"
   ]
  },
  {
   "cell_type": "code",
   "execution_count": null,
   "metadata": {
    "colab": {
     "base_uri": "https://localhost:8080/"
    },
    "id": "LlDgGsxE6tnl",
    "outputId": "371a4362-9ccd-4686-b937-1b29dc5841c3",
    "tags": []
   },
   "outputs": [],
   "source": [
    "print(pdfminer_math_text)"
   ]
  },
  {
   "cell_type": "markdown",
   "metadata": {
    "id": "QUnfcZyV6jpf"
   },
   "source": [
    "## **Conclusion :**\n",
    "> **PyPDF2** had better formatting while **PDFMiner.Six** had better symbole identification"
   ]
  },
  {
   "cell_type": "markdown",
   "metadata": {
    "id": "2-8WDVSxHiPU"
   },
   "source": [
    "# PDF Text Cleanup Attempt\n",
    "In this step we will try to fix the problems found with both tools to see if we can overcome one of them and use it as a tool to create textual database\n",
    "- We'll try to fix **PyPDF2** by :\n",
    "  - Fixing its symbole recognition problem (some symboles are given latex like notations instead of the symbole itself)\n",
    "  - Fixing its spacing problem (some variables are joined into other words which makes them harder to recognize)"
   ]
  },
  {
   "cell_type": "markdown",
   "metadata": {
    "id": "U9Iq5FId5FkE"
   },
   "source": [
    "## Substitution-based Symbole correction"
   ]
  },
  {
   "cell_type": "code",
   "execution_count": null,
   "metadata": {
    "id": "Gr6rEvMtOyun",
    "tags": []
   },
   "outputs": [],
   "source": [
    "def replace_symbols(text, replacements):\n",
    "  \"\"\"Replaces custom symbols in text with their LaTeX equivalents from a dictionary.\"\"\"\n",
    "  new_text = text\n",
    "  for symbol, replacement in replacements.items():\n",
    "    new_text = new_text.replace(symbol, replacement)\n",
    "  return new_text"
   ]
  },
  {
   "cell_type": "code",
   "execution_count": null,
   "metadata": {
    "colab": {
     "base_uri": "https://localhost:8080/"
    },
    "id": "iYNwdMi1vlJp",
    "outputId": "4a281f9f-ff1a-42a9-9bdb-928aecdbf041",
    "tags": []
   },
   "outputs": [],
   "source": [
    "replacements = {\n",
    "\t\"/bardbl\" : \"║\" ,\n",
    "\t\"/angb∇acket∇ight\" : \">\" ,\n",
    "\t\"/angb∇acketleft\" : \"<\" ,\n",
    "\t\"/parenleftBigg\"  : \"(\" ,\n",
    "\t\"/parenrightBigg\" : \")\" ,\n",
    "\t\"/integraldisplay\" : \"∫\"\n",
    "}\n",
    "\n",
    "replaced_text = replace_symbols(pypdf_text, replacements)\n",
    "print(replaced_text)"
   ]
  },
  {
   "cell_type": "markdown",
   "metadata": {
    "id": "uPlsPnb65Mrv"
   },
   "source": [
    "## NLTK-based text spacing correction"
   ]
  },
  {
   "cell_type": "code",
   "execution_count": null,
   "metadata": {
    "colab": {
     "base_uri": "https://localhost:8080/"
    },
    "id": "8aoT3bltSklh",
    "outputId": "aaffe479-dd57-49cb-8e29-c38206d76e16",
    "tags": []
   },
   "outputs": [],
   "source": [
    "import nltk\n",
    "print(nltk.__version__)"
   ]
  },
  {
   "cell_type": "code",
   "execution_count": null,
   "metadata": {
    "id": "3Jis1KZUOioO",
    "tags": []
   },
   "outputs": [],
   "source": [
    "def improve_spacing(text):\n",
    "  \"\"\"Attempts to improve spacing in a sentence using NLTK tokenization.\"\"\"\n",
    "  tokens = nltk.word_tokenize(text)  # Split text into words (tokens)\n",
    "  return \" \".join(tokens)  # Join tokens with spaces"
   ]
  },
  {
   "cell_type": "code",
   "execution_count": null,
   "metadata": {
    "colab": {
     "base_uri": "https://localhost:8080/",
     "height": 143
    },
    "id": "lYBzr-gmEGF9",
    "jupyter": {
     "source_hidden": true
    },
    "outputId": "47fdbb3d-463f-440c-f2c2-ddc48e56ea99",
    "tags": []
   },
   "outputs": [],
   "source": [
    "improved_text = improve_spacing(replaced_text)\n",
    "improved_text"
   ]
  },
  {
   "cell_type": "markdown",
   "metadata": {
    "id": "dO8MFJgrGvMa"
   },
   "source": [
    "## **Conclusion :**\n",
    "> We are able to fix some symbole issues for **PyPDF2** but still couldn't fix the spacing problem\n",
    "\n",
    "- Since **PDFminer.six** showed less issues with variable detection which is our main concern , we will use it instead for creating the textual data\n",
    "\n"
   ]
  },
  {
   "cell_type": "markdown",
   "metadata": {
    "id": "IPxnzZMT7xQh"
   },
   "source": [
    "# Making Textual Data\n",
    "In this part we will try to go from PDF data to text data to complete our text preparation phase where :\n",
    "\n",
    "\n",
    "1.  we test our pipeline on 1 PDF file\n",
    "2.  we create our pipeline's function\n",
    "3.  we apply it to our PDF data\n"
   ]
  },
  {
   "cell_type": "markdown",
   "metadata": {
    "id": "oOVNAy94Je4E"
   },
   "source": [
    "## Testing on sample PDF"
   ]
  },
  {
   "cell_type": "code",
   "execution_count": null,
   "metadata": {
    "colab": {
     "base_uri": "https://localhost:8080/",
     "height": 35
    },
    "id": "lsvGG5fNQCkq",
    "outputId": "7f97e035-2522-4000-ed9b-9a88e89f832c",
    "tags": []
   },
   "outputs": [],
   "source": [
    "# getting filename\n",
    "file_name = pdf_file.split(\"/\")[-1].split(\".pdf\")[0]+\".txt\"\n",
    "file_name"
   ]
  },
  {
   "cell_type": "code",
   "execution_count": null,
   "metadata": {
    "id": "r9VkWkIKHljH",
    "tags": []
   },
   "outputs": [],
   "source": [
    "path =  \"/Users/tayssirboukrouba/Downloads/dataset/pdf/9905/9905061v3.pdf\"\n",
    "# getting file name\n",
    "file_name = path.split(\"/\")[-1].split(\".pdf\")[0]+\".txt\"\n",
    "output_string = StringIO()\n",
    "with open(path, 'rb') as in_file:\n",
    "    parser = PDFParser(in_file)\n",
    "    doc = PDFDocument(parser)\n",
    "    rsrcmgr = PDFResourceManager()\n",
    "    device = TextConverter(rsrcmgr, output_string, laparams=LAParams())\n",
    "    interpreter = PDFPageInterpreter(rsrcmgr, device)\n",
    "    for page in PDFPage.create_pages(doc):\n",
    "      interpreter.process_page(page)\n",
    "\n",
    "path2 = \"/Users/tayssirboukrouba/Downloads/dataset/text/\"\n",
    "text = output_string.getvalue()\n",
    "\n",
    "f = open(path2+file_name, \"w\")\n",
    "f.write(text)\n",
    "f.close()"
   ]
  },
  {
   "cell_type": "code",
   "execution_count": null,
   "metadata": {
    "colab": {
     "base_uri": "https://localhost:8080/"
    },
    "id": "8EhgB5YeM8LL",
    "outputId": "19075c8f-035f-43de-dee1-96448dcd6bbf",
    "tags": []
   },
   "outputs": [],
   "source": [
    "f = open(path2+file_name, \"r\")\n",
    "print(f.read())"
   ]
  },
  {
   "cell_type": "markdown",
   "metadata": {
    "id": "em4f7FtPNwnO"
   },
   "source": [
    "## Creating text pipeline's Function"
   ]
  },
  {
   "cell_type": "code",
   "execution_count": null,
   "metadata": {},
   "outputs": [],
   "source": [
    "def make_text(pdf_path, save_path):\n",
    "    \"\"\"\n",
    "    Converts a PDF file to a text file that is saved on a selected path.\n",
    "\n",
    "    Args:\n",
    "        pdf_path (str): The path to the PDF file to be converted.\n",
    "        save_path (str): The directory path where the extracted text file will be saved.\n",
    "\n",
    "    Raises:\n",
    "        OSError: If an error occurs while accessing or creating the files.\n",
    "        ValueError: If either `pdf_path` or `save_path` is an empty string.\n",
    "\n",
    "    Returns:\n",
    "        None: This function does not explicitly return a value, but it creates a text file\n",
    "              containing the extracted text from the PDF.\n",
    "\n",
    "    Prints:\n",
    "        A message indicating whether the text file was created successfully.\n",
    "\n",
    "    This function uses the `pdfminer.six` library (not included by default) to extract text\n",
    "    from the PDF and save it to a new text file.\n",
    "    \"\"\"\n",
    "    \n",
    "    # Getting filename\n",
    "    file_name = pdf_path.split(\"/\")[-1].split(\".pdf\")[0]+\".txt\"\n",
    "    \n",
    "    # Checking if the file already exists\n",
    "    output_path = os.path.join(save_path, file_name)\n",
    "    if not os.path.exists(output_path):\n",
    "            # Getting text from PDF file (pdfminer.six)\n",
    "            output_string = StringIO()\n",
    "            with open(pdf_path, 'rb') as in_file:\n",
    "                parser = PDFParser(in_file)\n",
    "                doc = PDFDocument(parser)\n",
    "                rsrcmgr = PDFResourceManager()\n",
    "                device = TextConverter(rsrcmgr, output_string, laparams=LAParams())\n",
    "                interpreter = PDFPageInterpreter(rsrcmgr, device)\n",
    "                for page in PDFPage.create_pages(doc):\n",
    "                    interpreter.process_page(page)\n",
    "            # Writing the text file\n",
    "            with open(output_path, 'w') as f:\n",
    "                f.write(output_string.getvalue())\n",
    "            # Checking if file was created\n",
    "            if os.path.exists(output_path):\n",
    "                print(f\"'{file_name}' was created successfully!\")\n",
    "    else:\n",
    "        print(f\"Skipped '{file_name}' (already exists)\")"
   ]
  },
  {
   "cell_type": "code",
   "execution_count": null,
   "metadata": {
    "colab": {
     "base_uri": "https://localhost:8080/"
    },
    "id": "EKAgUISAROoI",
    "outputId": "395b6a75-ed1e-499d-912f-7aa4b12e0232"
   },
   "outputs": [],
   "source": [
    "help(make_text)"
   ]
  },
  {
   "cell_type": "code",
   "execution_count": null,
   "metadata": {
    "colab": {
     "base_uri": "https://localhost:8080/"
    },
    "id": "zwW7rfGHO5GN",
    "outputId": "c34ee1e0-a0c2-438b-b299-f22f41ea8cb4",
    "tags": []
   },
   "outputs": [],
   "source": [
    "# testing on one file\n",
    "path =  \"/Users/tayssirboukrouba/Downloads/dataset/pdf/9905/9905061v3.pdf\"\n",
    "save_path = \"/Users/tayssirboukrouba/Downloads/dataset/text/\"\n",
    "\n",
    "make_text(path,save_path)"
   ]
  },
  {
   "cell_type": "markdown",
   "metadata": {
    "tags": []
   },
   "source": [
    "## Applying the `make_text()` function"
   ]
  },
  {
   "cell_type": "code",
   "execution_count": null,
   "metadata": {
    "tags": []
   },
   "outputs": [],
   "source": [
    "pdf_path =  \"/Users/tayssirboukrouba/Downloads/dataset/pdf/\"\n",
    "save_path = \"/Users/tayssirboukrouba/Downloads/dataset/text/\"\n",
    "\n",
    "for root, directories, files in os.walk(pdf_path):\n",
    "  # Access files within the current directory (root)\n",
    "  for filename in files:\n",
    "    filepath = os.path.join(root, filename)\n",
    "    make_text(filepath,save_path)"
   ]
  },
  {
   "cell_type": "code",
   "execution_count": null,
   "metadata": {},
   "outputs": [],
   "source": []
  }
 ],
 "metadata": {
  "colab": {
   "collapsed_sections": [
    "MI-XcwChd7ku",
    "5kwucgEZigYa",
    "4vNxTg1aivD3",
    "sh_p9O748gZS",
    "d9edpW3r41K4",
    "U9Iq5FId5FkE"
   ],
   "provenance": [],
   "toc_visible": true
  },
  "kernelspec": {
   "display_name": "Python 3 (ipykernel)",
   "language": "python",
   "name": "python3"
  },
  "language_info": {
   "codemirror_mode": {
    "name": "ipython",
    "version": 3
   },
   "file_extension": ".py",
   "mimetype": "text/x-python",
   "name": "python",
   "nbconvert_exporter": "python",
   "pygments_lexer": "ipython3",
   "version": "3.11.5"
  }
 },
 "nbformat": 4,
 "nbformat_minor": 4
}
