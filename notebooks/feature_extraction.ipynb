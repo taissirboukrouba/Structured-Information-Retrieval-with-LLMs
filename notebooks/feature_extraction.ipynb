{
  "nbformat": 4,
  "nbformat_minor": 0,
  "metadata": {
    "colab": {
      "provenance": [],
      "toc_visible": true,
      "mount_file_id": "1YDARImHKoYgedahEhrQODuY_f38lwNGM",
      "authorship_tag": "ABX9TyNBEW7P0jbhC2qXNDskN8C+"
    },
    "kernelspec": {
      "name": "python3",
      "display_name": "Python 3"
    },
    "language_info": {
      "name": "python"
    }
  },
  "cells": [
    {
      "cell_type": "markdown",
      "source": [
        "# Feature Extraction :"
      ],
      "metadata": {
        "id": "pc2RdR6Vfnhd"
      }
    },
    {
      "cell_type": "markdown",
      "source": [
        "## I - Using Weak Labels :"
      ],
      "metadata": {
        "id": "gJPrOQ0cfqAU"
      }
    },
    {
      "cell_type": "code",
      "source": [
        "import re\n",
        "\n",
        "def generate_weak_labels(text):\n",
        "    variable_pattern = re.compile(r'\\b[A-Za-z_][A-Za-z0-9_]*\\b')\n",
        "    name_pattern = re.compile(r'\\b[A-Z][a-z]+\\s[A-Z][a-z]+\\b')\n",
        "\n",
        "    tokens = text.split()\n",
        "    labels = []\n",
        "    for token in tokens:\n",
        "        if name_pattern.match(token):\n",
        "            labels.append(\"B-NAME\")\n",
        "        elif variable_pattern.match(token):\n",
        "            labels.append(\"B-VAR\")\n",
        "        elif value_pattern.match(token):\n",
        "            labels.append(\"B-VAL\")\n",
        "        else:\n",
        "            labels.append(\"O\")\n",
        "    return tokens, labels\n",
        "\n",
        "annotated_data = []\n",
        "for pdf in pdf_texts:\n",
        "    tokens, labels = generate_weak_labels(pdf['text'])\n",
        "    annotated_data.append({\"tokens\": tokens, \"labels\": labels})"
      ],
      "metadata": {
        "id": "hl2S3ZS0NPnD"
      },
      "execution_count": null,
      "outputs": []
    },
    {
      "cell_type": "code",
      "source": [
        "# variable match\n",
        "var_match = r\"\\b[A-Za-zα-ωΑ-Ω]{{1}}.*?\\b\"\n",
        "#linking verbs\n",
        "lin_ver = r\"(is|are)\\b\"\n",
        "# passive constructions (passive verbs)\n",
        "pass_cons = r\".*?(called|defined as|used for|termed)\\s\"\n",
        "# definition verbs\n",
        "def_ver = r\"(represents|denotes|stands for|refers to|corresponds to|)\"\n",
        "# start/end of phrase\n",
        "eop = r\"(.*?)(?=\\n|,|\\.)\"\n",
        "\n",
        "\n",
        "text2 = \"The sample space S is an event, called the certain event, and the empty\"\n",
        "pattern = fr\"\\b[A-Za-zα-ωΑ-Ω]{{1}}.*?\\b(is|are)\\b.*?(called)\\s(.*?)(?=\\n|,|\\.)\"\n",
        "matches = re.findall(pattern, text2)\n",
        "matches"
      ],
      "metadata": {
        "colab": {
          "base_uri": "https://localhost:8080/"
        },
        "id": "4j7tf0atbgFC",
        "outputId": "69603283-2575-4656-bac1-6d0a7b04ea2d"
      },
      "execution_count": null,
      "outputs": [
        {
          "output_type": "execute_result",
          "data": {
            "text/plain": [
              "[('is', 'called', 'the certain event')]"
            ]
          },
          "metadata": {},
          "execution_count": 30
        }
      ]
    },
    {
      "cell_type": "code",
      "source": [
        "import re\n",
        "# Define variables for each part of the regex pattern\n",
        "math_opp = \"ℰℓℒℳøℂℕℙℚℝℤΓΔΛΞΠΣΦΨΩÅℏ∞∘∂∫∮∯∇αβγ∅\"\n",
        "variable = fr'([A-Za-zα-ωΑ-Ω0-9{math_opp}]+)'\n",
        "verb = r'\\s+(is|are)\\s+'\n",
        "action = r'(called|defined as|used for|termed)\\s+'\n",
        "end = r'(?=,|\\s|\\.|\\n)'\n",
        "\n",
        "# Construct the regex pattern using an f-string\n",
        "pattern = fr\"{variable}{verb}{action}{variable}{end}\"\n",
        "\n",
        "# Sample text\n",
        "#text = \"\"\"\n",
        "#v is called velocity, which is a vector quantity.\n",
        "#s are termed Displacement, and it measures the change in position.\n",
        "#a is called Acceleration, and it measures the rate of change of velocity.\n",
        "#\"\"\"\n",
        "\n",
        "# Find all matches\n",
        "matches = re.findall(pattern, text)\n",
        "\n",
        "# Print out the matches\n",
        "for match in matches:\n",
        "    print(f\"Variable: {match[0]}, Definition: {match[3]}\")"
      ],
      "metadata": {
        "id": "bp0VbZPX3AoP"
      },
      "execution_count": 2,
      "outputs": []
    },
    {
      "cell_type": "code",
      "source": [
        "([A-Za-zα-ωΑ-Ω0-9ℰℓℒℳøℂℕℙℚℝℤΓΔΛΞΠΣΦΨΩÅℏ∞∘∂∫∮∯∇αβγ∅]+)"
      ],
      "metadata": {
        "id": "G-AQ1_Ss8uYI"
      },
      "execution_count": null,
      "outputs": []
    },
    {
      "cell_type": "code",
      "source": [
        "[A-Za-z]+\\s+([A-Za-zα-ωΑ-ΩℰℓℒℳøℂℕℙℚℝℤΓΔΛΞΠΣΦΨΩÅℏ∞∘∂∫∮∯∇αβγ∅]{1})\\s+"
      ],
      "metadata": {
        "id": "1QOFV7R3xNCH"
      },
      "execution_count": null,
      "outputs": []
    },
    {
      "cell_type": "code",
      "source": [
        "# variable-value\n",
        "\"\\b[A-Za-zα-ωΑ-ΩℰℓℒℳøℂℕℙℚℝℤΓΔΛΞΠΣΦΨΩÅℏ∞∘∂∫∮∯∇αβγ∅]{1,2}\\s+=(\\s+\\d+\\s+|\\s+\\d+\\.\\d+\\s+)\"\n",
        "\\w+\\s+(\\w{1}|\\w{1}(.))\\s+"
      ],
      "metadata": {
        "id": "eUl0S85H-sG2"
      },
      "execution_count": null,
      "outputs": []
    },
    {
      "cell_type": "markdown",
      "source": [],
      "metadata": {
        "id": "zJavVuW__2Ws"
      }
    },
    {
      "cell_type": "code",
      "source": [
        "# variables in the form of \"The Wigner distribution W(x, k, t)\"\n",
        "#(?:[.,]\\s*)?\\b\\w+\\s+\\w+\\s+\\w+\\s+\\w+\\s*\\(\\s*\\b\\w\\s*(?:\\s*,\\s*\\b\\w\\s*)*\\)\n",
        "\n",
        "# where x = somethiing is type of match\n",
        "# where\\s+([A-Za-zα-ωΑ-Ω0-9ℰℓℒℳøℂℕℙℚℝℤΓΔΛΞΠΣΦΨΩÅℏ∞∘∂∫∮∯∇αβγ∅]{1,2}.+)\\s+is\\s+(.[^.,]+)\n",
        "\n"
      ],
      "metadata": {
        "id": "7YQgHayP-vty"
      },
      "execution_count": null,
      "outputs": []
    },
    {
      "cell_type": "markdown",
      "source": [
        "## II - Using POS Tagging :"
      ],
      "metadata": {
        "id": "U2XffvAPfjBo"
      }
    },
    {
      "cell_type": "code",
      "source": [
        "import spacy\n",
        "import pandas as pd\n",
        "def process_text(text):\n",
        "\n",
        "    nlp = spacy.load('en_core_web_sm')\n",
        "    # Process the text with spaCy\n",
        "    doc = nlp(text)\n",
        "\n",
        "    # Initialize lists to store data\n",
        "    tokens = []\n",
        "    deps = []\n",
        "    heads = []\n",
        "\n",
        "    # Iterate over tokens in the processed document\n",
        "    for token in doc:\n",
        "        tokens.append(token.text)\n",
        "        deps.append(token.dep_)\n",
        "        heads.append(token.head.text)\n",
        "\n",
        "    # Create a DataFrame from the lists\n",
        "    df = pd.DataFrame({\n",
        "        'Token': tokens,\n",
        "        'Dependency': deps,\n",
        "        'Head': heads\n",
        "    })\n",
        "\n",
        "    return df"
      ],
      "metadata": {
        "id": "ngsiPtOLLKVF"
      },
      "execution_count": 15,
      "outputs": []
    },
    {
      "cell_type": "code",
      "source": [
        "text = \"the velocity f(x) = 20\"\n",
        "\n",
        "df = process_text(text)\n",
        "df"
      ],
      "metadata": {
        "colab": {
          "base_uri": "https://localhost:8080/",
          "height": 238
        },
        "id": "AnsRO3-0JQrn",
        "outputId": "10eca2fa-3a79-41bf-d613-c41cc60d6e61"
      },
      "execution_count": 19,
      "outputs": [
        {
          "output_type": "execute_result",
          "data": {
            "text/plain": [
              "      Token Dependency Head\n",
              "0       the        det  f(x\n",
              "1  velocity   compound  f(x\n",
              "2       f(x      nsubj    =\n",
              "3         )      punct  f(x\n",
              "4         =       ROOT    =\n",
              "5        20       attr    ="
            ],
            "text/html": [
              "\n",
              "  <div id=\"df-30da5f9e-68ba-4f5e-b019-c9c1bbac8d75\" class=\"colab-df-container\">\n",
              "    <div>\n",
              "<style scoped>\n",
              "    .dataframe tbody tr th:only-of-type {\n",
              "        vertical-align: middle;\n",
              "    }\n",
              "\n",
              "    .dataframe tbody tr th {\n",
              "        vertical-align: top;\n",
              "    }\n",
              "\n",
              "    .dataframe thead th {\n",
              "        text-align: right;\n",
              "    }\n",
              "</style>\n",
              "<table border=\"1\" class=\"dataframe\">\n",
              "  <thead>\n",
              "    <tr style=\"text-align: right;\">\n",
              "      <th></th>\n",
              "      <th>Token</th>\n",
              "      <th>Dependency</th>\n",
              "      <th>Head</th>\n",
              "    </tr>\n",
              "  </thead>\n",
              "  <tbody>\n",
              "    <tr>\n",
              "      <th>0</th>\n",
              "      <td>the</td>\n",
              "      <td>det</td>\n",
              "      <td>f(x</td>\n",
              "    </tr>\n",
              "    <tr>\n",
              "      <th>1</th>\n",
              "      <td>velocity</td>\n",
              "      <td>compound</td>\n",
              "      <td>f(x</td>\n",
              "    </tr>\n",
              "    <tr>\n",
              "      <th>2</th>\n",
              "      <td>f(x</td>\n",
              "      <td>nsubj</td>\n",
              "      <td>=</td>\n",
              "    </tr>\n",
              "    <tr>\n",
              "      <th>3</th>\n",
              "      <td>)</td>\n",
              "      <td>punct</td>\n",
              "      <td>f(x</td>\n",
              "    </tr>\n",
              "    <tr>\n",
              "      <th>4</th>\n",
              "      <td>=</td>\n",
              "      <td>ROOT</td>\n",
              "      <td>=</td>\n",
              "    </tr>\n",
              "    <tr>\n",
              "      <th>5</th>\n",
              "      <td>20</td>\n",
              "      <td>attr</td>\n",
              "      <td>=</td>\n",
              "    </tr>\n",
              "  </tbody>\n",
              "</table>\n",
              "</div>\n",
              "    <div class=\"colab-df-buttons\">\n",
              "\n",
              "  <div class=\"colab-df-container\">\n",
              "    <button class=\"colab-df-convert\" onclick=\"convertToInteractive('df-30da5f9e-68ba-4f5e-b019-c9c1bbac8d75')\"\n",
              "            title=\"Convert this dataframe to an interactive table.\"\n",
              "            style=\"display:none;\">\n",
              "\n",
              "  <svg xmlns=\"http://www.w3.org/2000/svg\" height=\"24px\" viewBox=\"0 -960 960 960\">\n",
              "    <path d=\"M120-120v-720h720v720H120Zm60-500h600v-160H180v160Zm220 220h160v-160H400v160Zm0 220h160v-160H400v160ZM180-400h160v-160H180v160Zm440 0h160v-160H620v160ZM180-180h160v-160H180v160Zm440 0h160v-160H620v160Z\"/>\n",
              "  </svg>\n",
              "    </button>\n",
              "\n",
              "  <style>\n",
              "    .colab-df-container {\n",
              "      display:flex;\n",
              "      gap: 12px;\n",
              "    }\n",
              "\n",
              "    .colab-df-convert {\n",
              "      background-color: #E8F0FE;\n",
              "      border: none;\n",
              "      border-radius: 50%;\n",
              "      cursor: pointer;\n",
              "      display: none;\n",
              "      fill: #1967D2;\n",
              "      height: 32px;\n",
              "      padding: 0 0 0 0;\n",
              "      width: 32px;\n",
              "    }\n",
              "\n",
              "    .colab-df-convert:hover {\n",
              "      background-color: #E2EBFA;\n",
              "      box-shadow: 0px 1px 2px rgba(60, 64, 67, 0.3), 0px 1px 3px 1px rgba(60, 64, 67, 0.15);\n",
              "      fill: #174EA6;\n",
              "    }\n",
              "\n",
              "    .colab-df-buttons div {\n",
              "      margin-bottom: 4px;\n",
              "    }\n",
              "\n",
              "    [theme=dark] .colab-df-convert {\n",
              "      background-color: #3B4455;\n",
              "      fill: #D2E3FC;\n",
              "    }\n",
              "\n",
              "    [theme=dark] .colab-df-convert:hover {\n",
              "      background-color: #434B5C;\n",
              "      box-shadow: 0px 1px 3px 1px rgba(0, 0, 0, 0.15);\n",
              "      filter: drop-shadow(0px 1px 2px rgba(0, 0, 0, 0.3));\n",
              "      fill: #FFFFFF;\n",
              "    }\n",
              "  </style>\n",
              "\n",
              "    <script>\n",
              "      const buttonEl =\n",
              "        document.querySelector('#df-30da5f9e-68ba-4f5e-b019-c9c1bbac8d75 button.colab-df-convert');\n",
              "      buttonEl.style.display =\n",
              "        google.colab.kernel.accessAllowed ? 'block' : 'none';\n",
              "\n",
              "      async function convertToInteractive(key) {\n",
              "        const element = document.querySelector('#df-30da5f9e-68ba-4f5e-b019-c9c1bbac8d75');\n",
              "        const dataTable =\n",
              "          await google.colab.kernel.invokeFunction('convertToInteractive',\n",
              "                                                    [key], {});\n",
              "        if (!dataTable) return;\n",
              "\n",
              "        const docLinkHtml = 'Like what you see? Visit the ' +\n",
              "          '<a target=\"_blank\" href=https://colab.research.google.com/notebooks/data_table.ipynb>data table notebook</a>'\n",
              "          + ' to learn more about interactive tables.';\n",
              "        element.innerHTML = '';\n",
              "        dataTable['output_type'] = 'display_data';\n",
              "        await google.colab.output.renderOutput(dataTable, element);\n",
              "        const docLink = document.createElement('div');\n",
              "        docLink.innerHTML = docLinkHtml;\n",
              "        element.appendChild(docLink);\n",
              "      }\n",
              "    </script>\n",
              "  </div>\n",
              "\n",
              "\n",
              "<div id=\"df-e65889b2-c46a-4410-aa6a-b6b93a37d05b\">\n",
              "  <button class=\"colab-df-quickchart\" onclick=\"quickchart('df-e65889b2-c46a-4410-aa6a-b6b93a37d05b')\"\n",
              "            title=\"Suggest charts\"\n",
              "            style=\"display:none;\">\n",
              "\n",
              "<svg xmlns=\"http://www.w3.org/2000/svg\" height=\"24px\"viewBox=\"0 0 24 24\"\n",
              "     width=\"24px\">\n",
              "    <g>\n",
              "        <path d=\"M19 3H5c-1.1 0-2 .9-2 2v14c0 1.1.9 2 2 2h14c1.1 0 2-.9 2-2V5c0-1.1-.9-2-2-2zM9 17H7v-7h2v7zm4 0h-2V7h2v10zm4 0h-2v-4h2v4z\"/>\n",
              "    </g>\n",
              "</svg>\n",
              "  </button>\n",
              "\n",
              "<style>\n",
              "  .colab-df-quickchart {\n",
              "      --bg-color: #E8F0FE;\n",
              "      --fill-color: #1967D2;\n",
              "      --hover-bg-color: #E2EBFA;\n",
              "      --hover-fill-color: #174EA6;\n",
              "      --disabled-fill-color: #AAA;\n",
              "      --disabled-bg-color: #DDD;\n",
              "  }\n",
              "\n",
              "  [theme=dark] .colab-df-quickchart {\n",
              "      --bg-color: #3B4455;\n",
              "      --fill-color: #D2E3FC;\n",
              "      --hover-bg-color: #434B5C;\n",
              "      --hover-fill-color: #FFFFFF;\n",
              "      --disabled-bg-color: #3B4455;\n",
              "      --disabled-fill-color: #666;\n",
              "  }\n",
              "\n",
              "  .colab-df-quickchart {\n",
              "    background-color: var(--bg-color);\n",
              "    border: none;\n",
              "    border-radius: 50%;\n",
              "    cursor: pointer;\n",
              "    display: none;\n",
              "    fill: var(--fill-color);\n",
              "    height: 32px;\n",
              "    padding: 0;\n",
              "    width: 32px;\n",
              "  }\n",
              "\n",
              "  .colab-df-quickchart:hover {\n",
              "    background-color: var(--hover-bg-color);\n",
              "    box-shadow: 0 1px 2px rgba(60, 64, 67, 0.3), 0 1px 3px 1px rgba(60, 64, 67, 0.15);\n",
              "    fill: var(--button-hover-fill-color);\n",
              "  }\n",
              "\n",
              "  .colab-df-quickchart-complete:disabled,\n",
              "  .colab-df-quickchart-complete:disabled:hover {\n",
              "    background-color: var(--disabled-bg-color);\n",
              "    fill: var(--disabled-fill-color);\n",
              "    box-shadow: none;\n",
              "  }\n",
              "\n",
              "  .colab-df-spinner {\n",
              "    border: 2px solid var(--fill-color);\n",
              "    border-color: transparent;\n",
              "    border-bottom-color: var(--fill-color);\n",
              "    animation:\n",
              "      spin 1s steps(1) infinite;\n",
              "  }\n",
              "\n",
              "  @keyframes spin {\n",
              "    0% {\n",
              "      border-color: transparent;\n",
              "      border-bottom-color: var(--fill-color);\n",
              "      border-left-color: var(--fill-color);\n",
              "    }\n",
              "    20% {\n",
              "      border-color: transparent;\n",
              "      border-left-color: var(--fill-color);\n",
              "      border-top-color: var(--fill-color);\n",
              "    }\n",
              "    30% {\n",
              "      border-color: transparent;\n",
              "      border-left-color: var(--fill-color);\n",
              "      border-top-color: var(--fill-color);\n",
              "      border-right-color: var(--fill-color);\n",
              "    }\n",
              "    40% {\n",
              "      border-color: transparent;\n",
              "      border-right-color: var(--fill-color);\n",
              "      border-top-color: var(--fill-color);\n",
              "    }\n",
              "    60% {\n",
              "      border-color: transparent;\n",
              "      border-right-color: var(--fill-color);\n",
              "    }\n",
              "    80% {\n",
              "      border-color: transparent;\n",
              "      border-right-color: var(--fill-color);\n",
              "      border-bottom-color: var(--fill-color);\n",
              "    }\n",
              "    90% {\n",
              "      border-color: transparent;\n",
              "      border-bottom-color: var(--fill-color);\n",
              "    }\n",
              "  }\n",
              "</style>\n",
              "\n",
              "  <script>\n",
              "    async function quickchart(key) {\n",
              "      const quickchartButtonEl =\n",
              "        document.querySelector('#' + key + ' button');\n",
              "      quickchartButtonEl.disabled = true;  // To prevent multiple clicks.\n",
              "      quickchartButtonEl.classList.add('colab-df-spinner');\n",
              "      try {\n",
              "        const charts = await google.colab.kernel.invokeFunction(\n",
              "            'suggestCharts', [key], {});\n",
              "      } catch (error) {\n",
              "        console.error('Error during call to suggestCharts:', error);\n",
              "      }\n",
              "      quickchartButtonEl.classList.remove('colab-df-spinner');\n",
              "      quickchartButtonEl.classList.add('colab-df-quickchart-complete');\n",
              "    }\n",
              "    (() => {\n",
              "      let quickchartButtonEl =\n",
              "        document.querySelector('#df-e65889b2-c46a-4410-aa6a-b6b93a37d05b button');\n",
              "      quickchartButtonEl.style.display =\n",
              "        google.colab.kernel.accessAllowed ? 'block' : 'none';\n",
              "    })();\n",
              "  </script>\n",
              "</div>\n",
              "\n",
              "  <div id=\"id_b0f90e81-eff3-4b58-9387-25a36585812a\">\n",
              "    <style>\n",
              "      .colab-df-generate {\n",
              "        background-color: #E8F0FE;\n",
              "        border: none;\n",
              "        border-radius: 50%;\n",
              "        cursor: pointer;\n",
              "        display: none;\n",
              "        fill: #1967D2;\n",
              "        height: 32px;\n",
              "        padding: 0 0 0 0;\n",
              "        width: 32px;\n",
              "      }\n",
              "\n",
              "      .colab-df-generate:hover {\n",
              "        background-color: #E2EBFA;\n",
              "        box-shadow: 0px 1px 2px rgba(60, 64, 67, 0.3), 0px 1px 3px 1px rgba(60, 64, 67, 0.15);\n",
              "        fill: #174EA6;\n",
              "      }\n",
              "\n",
              "      [theme=dark] .colab-df-generate {\n",
              "        background-color: #3B4455;\n",
              "        fill: #D2E3FC;\n",
              "      }\n",
              "\n",
              "      [theme=dark] .colab-df-generate:hover {\n",
              "        background-color: #434B5C;\n",
              "        box-shadow: 0px 1px 3px 1px rgba(0, 0, 0, 0.15);\n",
              "        filter: drop-shadow(0px 1px 2px rgba(0, 0, 0, 0.3));\n",
              "        fill: #FFFFFF;\n",
              "      }\n",
              "    </style>\n",
              "    <button class=\"colab-df-generate\" onclick=\"generateWithVariable('df')\"\n",
              "            title=\"Generate code using this dataframe.\"\n",
              "            style=\"display:none;\">\n",
              "\n",
              "  <svg xmlns=\"http://www.w3.org/2000/svg\" height=\"24px\"viewBox=\"0 0 24 24\"\n",
              "       width=\"24px\">\n",
              "    <path d=\"M7,19H8.4L18.45,9,17,7.55,7,17.6ZM5,21V16.75L18.45,3.32a2,2,0,0,1,2.83,0l1.4,1.43a1.91,1.91,0,0,1,.58,1.4,1.91,1.91,0,0,1-.58,1.4L9.25,21ZM18.45,9,17,7.55Zm-12,3A5.31,5.31,0,0,0,4.9,8.1,5.31,5.31,0,0,0,1,6.5,5.31,5.31,0,0,0,4.9,4.9,5.31,5.31,0,0,0,6.5,1,5.31,5.31,0,0,0,8.1,4.9,5.31,5.31,0,0,0,12,6.5,5.46,5.46,0,0,0,6.5,12Z\"/>\n",
              "  </svg>\n",
              "    </button>\n",
              "    <script>\n",
              "      (() => {\n",
              "      const buttonEl =\n",
              "        document.querySelector('#id_b0f90e81-eff3-4b58-9387-25a36585812a button.colab-df-generate');\n",
              "      buttonEl.style.display =\n",
              "        google.colab.kernel.accessAllowed ? 'block' : 'none';\n",
              "\n",
              "      buttonEl.onclick = () => {\n",
              "        google.colab.notebook.generateWithVariable('df');\n",
              "      }\n",
              "      })();\n",
              "    </script>\n",
              "  </div>\n",
              "\n",
              "    </div>\n",
              "  </div>\n"
            ],
            "application/vnd.google.colaboratory.intrinsic+json": {
              "type": "dataframe",
              "variable_name": "df",
              "summary": "{\n  \"name\": \"df\",\n  \"rows\": 6,\n  \"fields\": [\n    {\n      \"column\": \"Token\",\n      \"properties\": {\n        \"dtype\": \"string\",\n        \"num_unique_values\": 6,\n        \"samples\": [\n          \"the\",\n          \"velocity\",\n          \"20\"\n        ],\n        \"semantic_type\": \"\",\n        \"description\": \"\"\n      }\n    },\n    {\n      \"column\": \"Dependency\",\n      \"properties\": {\n        \"dtype\": \"string\",\n        \"num_unique_values\": 6,\n        \"samples\": [\n          \"det\",\n          \"compound\",\n          \"attr\"\n        ],\n        \"semantic_type\": \"\",\n        \"description\": \"\"\n      }\n    },\n    {\n      \"column\": \"Head\",\n      \"properties\": {\n        \"dtype\": \"category\",\n        \"num_unique_values\": 2,\n        \"samples\": [\n          \"=\",\n          \"f(x\"\n        ],\n        \"semantic_type\": \"\",\n        \"description\": \"\"\n      }\n    }\n  ]\n}"
            }
          },
          "metadata": {},
          "execution_count": 19
        }
      ]
    },
    {
      "cell_type": "code",
      "source": [
        "import spacy\n",
        "\n",
        "# Load the English NLP pipeline\n",
        "nlp = spacy.load('en_core_web_sm')\n",
        "\n",
        "# Example sentence\n",
        "sentence = \"a = b\"\n",
        "\n",
        "# Process the sentence with spaCy\n",
        "doc = nlp(sentence)\n",
        "\n",
        "# Initialize a set to store identified variables\n",
        "variables = set()\n",
        "\n",
        "# Iterate over tokens in the processed document\n",
        "for token in doc:\n",
        "    print(token , token.pos_ ,)"
      ],
      "metadata": {
        "colab": {
          "base_uri": "https://localhost:8080/"
        },
        "id": "5XKipUSJJRfj",
        "outputId": "21a12037-5a91-4a8a-8ee3-c84d1dcd8e14"
      },
      "execution_count": 26,
      "outputs": [
        {
          "output_type": "stream",
          "name": "stdout",
          "text": [
            "a DET\n",
            "= PROPN\n",
            "b NOUN\n"
          ]
        }
      ]
    },
    {
      "cell_type": "code",
      "source": [
        "import nltk\n",
        "from nltk.tokenize import word_tokenize, sent_tokenize\n",
        "\n",
        "# Download NLTK resources if not already downloaded\n",
        "nltk.download('punkt')\n",
        "nltk.download('averaged_perceptron_tagger')\n",
        "\n",
        "# Example text\n",
        "text = \"we have a / b\"\n",
        "\n",
        "# Tokenize the text into sentences and words\n",
        "sentences = sent_tokenize(text)\n",
        "words = word_tokenize(sentences[0])\n",
        "\n",
        "# Perform POS tagging\n",
        "tagged_words = nltk.pos_tag(words)\n",
        "\n",
        "# Print the tagged words\n",
        "print(tagged_words)"
      ],
      "metadata": {
        "colab": {
          "base_uri": "https://localhost:8080/"
        },
        "id": "1TQ8ElnjbbBl",
        "outputId": "6f960134-ebc4-42d4-a84c-d1a86c69f117"
      },
      "execution_count": 30,
      "outputs": [
        {
          "output_type": "stream",
          "name": "stdout",
          "text": [
            "[('we', 'PRP'), ('have', 'VBP'), ('a', 'DT'), ('/', 'NN'), ('b', 'NN')]\n"
          ]
        },
        {
          "output_type": "stream",
          "name": "stderr",
          "text": [
            "[nltk_data] Downloading package punkt to /root/nltk_data...\n",
            "[nltk_data]   Package punkt is already up-to-date!\n",
            "[nltk_data] Downloading package averaged_perceptron_tagger to\n",
            "[nltk_data]     /root/nltk_data...\n",
            "[nltk_data]   Package averaged_perceptron_tagger is already up-to-\n",
            "[nltk_data]       date!\n"
          ]
        }
      ]
    },
    {
      "cell_type": "code",
      "source": [
        "import nltk\n",
        "from nltk.tokenize import word_tokenize\n",
        "\n",
        "\n",
        "# Define symbols to be tagged with custom POS tags\n",
        "symbols = [\n",
        "    'α', 'β', 'γ', 'δ', 'ε', 'ζ', 'η', 'θ', 'ι', 'κ', 'λ', 'μ', 'ν', 'ξ', 'ο', 'π', 'ρ', 'σ', 'τ', 'υ', 'φ', 'χ', 'ψ', 'ω',\n",
        "    'Α', 'Β', 'Γ', 'Δ', 'Ε', 'Ζ', 'Η', 'Θ', 'Ι', 'Κ', 'Λ', 'Μ', 'Ν', 'Ξ', 'Ο', 'Π', 'Ρ', 'Σ', 'Τ', 'Υ', 'Φ', 'Χ', 'Ψ', 'Ω',\n",
        "    'ℰ', 'ℓ', 'ℒ', 'ℳ', 'ø', 'ℂ', 'ℕ', 'ℙ', 'ℚ', 'ℝ', 'ℤ',\n",
        "    'Γ', 'Δ', 'Λ', 'Ξ', 'Π', 'Σ', 'Φ', 'Ψ', 'Ω',\n",
        "    'Å', 'ℏ', '∞', '∘', '∂', '∫', '∮', '∯', '∇',\n",
        "    '∅'\n",
        "]\n",
        "\n",
        "operations = ['+', '-', '*', '/', '=', '^', '%']\n",
        "\n",
        "# Define custom POS tags for mathematical symbols\n",
        "mathematical_pos_tags = {symbol: 'MATH_SYMBOL' for symbol in symbols}\n",
        "opp_pos_tag = {opp: 'MATH_OPP' for opp in operations}"
      ],
      "metadata": {
        "id": "AYE0hDhMo2UU"
      },
      "execution_count": 39,
      "outputs": []
    },
    {
      "cell_type": "code",
      "source": [
        "def math_pos_tagger(text):\n",
        "    words = word_tokenize(text)\n",
        "\n",
        "    tagged_tokens = []\n",
        "    for token in words:\n",
        "        if token in mathematical_pos_tags :\n",
        "          tagged_tokens.append((token, mathematical_pos_tags[token]))\n",
        "        elif token in opp_pos_tag :\n",
        "          tagged_tokens.append((token, opp_pos_tag[token]))\n",
        "        else:\n",
        "            tagged_tokens.append((token, nltk.pos_tag([token])[0][1]))\n",
        "\n",
        "    return tagged_tokens"
      ],
      "metadata": {
        "id": "3xfKtrIBd5bI"
      },
      "execution_count": 40,
      "outputs": []
    },
    {
      "cell_type": "code",
      "source": [
        "# Perform custom POS tagging on the example text\n",
        "text = \"And we have ε(x) = 5\"\n",
        "tagged_words = math_pos_tagger(text)\n",
        "\n",
        "# Print the tagged words\n",
        "print(tagged_words)"
      ],
      "metadata": {
        "colab": {
          "base_uri": "https://localhost:8080/"
        },
        "id": "90Jm4G4Yo50c",
        "outputId": "ca9e7ea9-4bcd-4c9b-9991-367a707dde5b"
      },
      "execution_count": 41,
      "outputs": [
        {
          "output_type": "stream",
          "name": "stdout",
          "text": [
            "[('And', 'CC'), ('we', 'PRP'), ('have', 'VB'), ('ε', 'MATH_SYMBOL'), ('(', '('), ('x', 'NN'), (')', ')'), ('=', 'MATH_OPP'), ('5', 'CD')]\n"
          ]
        }
      ]
    },
    {
      "cell_type": "code",
      "source": [],
      "metadata": {
        "id": "YnapSssfpEu7"
      },
      "execution_count": null,
      "outputs": []
    }
  ]
}