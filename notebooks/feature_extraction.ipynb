{
  "nbformat": 4,
  "nbformat_minor": 0,
  "metadata": {
    "colab": {
      "provenance": [],
      "toc_visible": true,
      "mount_file_id": "1YDARImHKoYgedahEhrQODuY_f38lwNGM",
      "authorship_tag": "ABX9TyOWf8TzijF6BUreeg4kkcAp"
    },
    "kernelspec": {
      "name": "python3",
      "display_name": "Python 3"
    },
    "language_info": {
      "name": "python"
    }
  },
  "cells": [
    {
      "cell_type": "markdown",
      "source": [
        "# Feature Extraction :"
      ],
      "metadata": {
        "id": "pc2RdR6Vfnhd"
      }
    },
    {
      "cell_type": "markdown",
      "source": [
        "## I - Using Weak Labels :"
      ],
      "metadata": {
        "id": "gJPrOQ0cfqAU"
      }
    },
    {
      "cell_type": "code",
      "source": [
        "import re\n",
        "\n",
        "def generate_weak_labels(text):\n",
        "    variable_pattern = re.compile(r'\\b[A-Za-z_][A-Za-z0-9_]*\\b')\n",
        "    name_pattern = re.compile(r'\\b[A-Z][a-z]+\\s[A-Z][a-z]+\\b')\n",
        "\n",
        "    tokens = text.split()\n",
        "    labels = []\n",
        "    for token in tokens:\n",
        "        if name_pattern.match(token):\n",
        "            labels.append(\"B-NAME\")\n",
        "        elif variable_pattern.match(token):\n",
        "            labels.append(\"B-VAR\")\n",
        "        elif value_pattern.match(token):\n",
        "            labels.append(\"B-VAL\")\n",
        "        else:\n",
        "            labels.append(\"O\")\n",
        "    return tokens, labels\n",
        "\n",
        "annotated_data = []\n",
        "for pdf in pdf_texts:\n",
        "    tokens, labels = generate_weak_labels(pdf['text'])\n",
        "    annotated_data.append({\"tokens\": tokens, \"labels\": labels})"
      ],
      "metadata": {
        "id": "hl2S3ZS0NPnD"
      },
      "execution_count": null,
      "outputs": []
    },
    {
      "cell_type": "code",
      "source": [
        "# variable match\n",
        "var_match = r\"\\b[A-Za-zα-ωΑ-Ω]{{1}}.*?\\b\"\n",
        "#linking verbs\n",
        "lin_ver = r\"(is|are)\\b\"\n",
        "# passive constructions (passive verbs)\n",
        "pass_cons = r\".*?(called|defined as|used for|termed)\\s\"\n",
        "# definition verbs\n",
        "def_ver = r\"(represents|denotes|stands for|refers to|corresponds to|)\"\n",
        "# start/end of phrase\n",
        "eop = r\"(.*?)(?=\\n|,|\\.)\"\n",
        "\n",
        "\n",
        "text2 = \"The sample space S is an event, called the certain event, and the empty\"\n",
        "pattern = fr\"\\b[A-Za-zα-ωΑ-Ω]{{1}}.*?\\b(is|are)\\b.*?(called)\\s(.*?)(?=\\n|,|\\.)\"\n",
        "matches = re.findall(pattern, text2)\n",
        "matches"
      ],
      "metadata": {
        "colab": {
          "base_uri": "https://localhost:8080/"
        },
        "id": "4j7tf0atbgFC",
        "outputId": "69603283-2575-4656-bac1-6d0a7b04ea2d"
      },
      "execution_count": null,
      "outputs": [
        {
          "output_type": "execute_result",
          "data": {
            "text/plain": [
              "[('is', 'called', 'the certain event')]"
            ]
          },
          "metadata": {},
          "execution_count": 30
        }
      ]
    },
    {
      "cell_type": "code",
      "source": [
        "import re\n",
        "# Define variables for each part of the regex pattern\n",
        "math_opp = \"ℰℓℒℳøℂℕℙℚℝℤΓΔΛΞΠΣΦΨΩÅℏ∞∘∂∫∮∯∇αβγ∅\"\n",
        "variable = fr'([A-Za-zα-ωΑ-Ω0-9{math_opp}]+)'\n",
        "verb = r'\\s+(is|are)\\s+'\n",
        "action = r'(called|defined as|used for|termed)\\s+'\n",
        "end = r'(?=,|\\s|\\.|\\n)'\n",
        "\n",
        "# Construct the regex pattern using an f-string\n",
        "pattern = fr\"{variable}{verb}{action}{variable}{end}\"\n",
        "\n",
        "# Sample text\n",
        "#text = \"\"\"\n",
        "#v is called velocity, which is a vector quantity.\n",
        "#s are termed Displacement, and it measures the change in position.\n",
        "#a is called Acceleration, and it measures the rate of change of velocity.\n",
        "#\"\"\"\n",
        "\n",
        "# Find all matches\n",
        "matches = re.findall(pattern, text)\n",
        "\n",
        "# Print out the matches\n",
        "for match in matches:\n",
        "    print(f\"Variable: {match[0]}, Definition: {match[3]}\")"
      ],
      "metadata": {
        "id": "bp0VbZPX3AoP"
      },
      "execution_count": 2,
      "outputs": []
    },
    {
      "cell_type": "code",
      "source": [
        "([A-Za-zα-ωΑ-Ω0-9ℰℓℒℳøℂℕℙℚℝℤΓΔΛΞΠΣΦΨΩÅℏ∞∘∂∫∮∯∇αβγ∅]+)"
      ],
      "metadata": {
        "id": "G-AQ1_Ss8uYI"
      },
      "execution_count": null,
      "outputs": []
    },
    {
      "cell_type": "code",
      "source": [
        "[A-Za-z]+\\s+([A-Za-zα-ωΑ-ΩℰℓℒℳøℂℕℙℚℝℤΓΔΛΞΠΣΦΨΩÅℏ∞∘∂∫∮∯∇αβγ∅]{1})\\s+"
      ],
      "metadata": {
        "id": "1QOFV7R3xNCH"
      },
      "execution_count": null,
      "outputs": []
    },
    {
      "cell_type": "code",
      "source": [
        "# variable-value\n",
        "\"\\b[A-Za-zα-ωΑ-ΩℰℓℒℳøℂℕℙℚℝℤΓΔΛΞΠΣΦΨΩÅℏ∞∘∂∫∮∯∇αβγ∅]{1,2}\\s+=(\\s+\\d+\\s+|\\s+\\d+\\.\\d+\\s+)\"\n",
        "\\w+\\s+(\\w{1}|\\w{1}(.))\\s+"
      ],
      "metadata": {
        "id": "eUl0S85H-sG2"
      },
      "execution_count": null,
      "outputs": []
    },
    {
      "cell_type": "markdown",
      "source": [],
      "metadata": {
        "id": "zJavVuW__2Ws"
      }
    },
    {
      "cell_type": "code",
      "source": [
        "# variables in the form of \"The Wigner distribution W(x, k, t)\"\n",
        "#(?:[.,]\\s*)?\\b\\w+\\s+\\w+\\s+\\w+\\s+\\w+\\s*\\(\\s*\\b\\w\\s*(?:\\s*,\\s*\\b\\w\\s*)*\\)\n",
        "\n",
        "# where x = somethiing is type of match\n",
        "# where\\s+([A-Za-zα-ωΑ-Ω0-9ℰℓℒℳøℂℕℙℚℝℤΓΔΛΞΠΣΦΨΩÅℏ∞∘∂∫∮∯∇αβγ∅]{1,2}.+)\\s+is\\s+(.[^.,]+)\n",
        "\n"
      ],
      "metadata": {
        "id": "7YQgHayP-vty"
      },
      "execution_count": null,
      "outputs": []
    },
    {
      "cell_type": "markdown",
      "source": [
        "## II - Using custom NER :"
      ],
      "metadata": {
        "id": "U2XffvAPfjBo"
      }
    },
    {
      "cell_type": "code",
      "source": [
        "# testing basic NER\n",
        "import spacy\n",
        "\n",
        "#sample text\n",
        "text = \"The value of epsilon is known as ε = 32 \"\n",
        "\n",
        "# Load the spaCy model\n",
        "nlp = spacy.load('en_core_web_sm')\n",
        "doc = nlp(text)\n",
        "\n",
        "for ent in doc.ents :\n",
        "  print(ent.text,ent.label_)"
      ],
      "metadata": {
        "colab": {
          "base_uri": "https://localhost:8080/"
        },
        "id": "xvaqK1qVqvL4",
        "outputId": "3ee90165-7dd9-425a-917e-eb8754227275"
      },
      "execution_count": 56,
      "outputs": [
        {
          "output_type": "stream",
          "name": "stdout",
          "text": [
            "32 CARDINAL\n"
          ]
        }
      ]
    },
    {
      "cell_type": "code",
      "source": [],
      "metadata": {
        "id": "UC_5ywvKui3T"
      },
      "execution_count": null,
      "outputs": []
    }
  ]
}